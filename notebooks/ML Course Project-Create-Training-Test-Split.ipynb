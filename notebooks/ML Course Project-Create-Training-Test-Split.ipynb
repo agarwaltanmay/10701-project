{
 "cells": [
  {
   "cell_type": "markdown",
   "metadata": {},
   "source": [
    "# Machine Learning Course Project\n",
    "## Identifying User Stance On Social Media via Semi-Supervised Learning"
   ]
  },
  {
   "cell_type": "markdown",
   "metadata": {},
   "source": [
    "### Overview\n",
    "\n",
    "#### Midsem Pipeline - \n",
    "\n",
    " - **Read Data**: Read text files to load all the words. \n",
    " - **Clean Data**: Remove stop-words, everything lowercase, dehashify hashtags.\n",
    " - **Format Data**: Create data in a format required by each baseline method. \n",
    " - **Baseline Approaches**: LSA, pLSA, Para2Vec, LDA Topic Modelling. The goal of these approaches is to create a \"FIXED SIZE\" and \"HIGH LEVEL\" feature representation for variable length tweets. These representations leverage our unlabelled data. \n",
    " - **Training**: Some Supervised Learning on the learned representation using the given labels. \n",
    " - **Evaluation**: Compare the different methods mentioned above on different datasets. \n",
    "\n",
    "#### Endsem Approaches - \n",
    " - LDA2Vec - https://www.datacamp.com/community/tutorials/lda2vec-topic-model\n",
    " - Gaussian LDA - https://rajarshd.github.io/papers/acl2015.pdf\n",
    " - Word Embeddings Informed Topic Models - http://proceedings.mlr.press/v77/zhao17a/zhao17a.pdf\n",
    " \n",
    "#### Reference\n",
    " - https://www.machinelearningplus.com/nlp/topic-modeling-gensim-python/"
   ]
  },
  {
   "cell_type": "markdown",
   "metadata": {},
   "source": [
    "## Constants"
   ]
  },
  {
   "cell_type": "code",
   "execution_count": 1,
   "metadata": {},
   "outputs": [],
   "source": [
    "PATH_LABELLED_DATA_TRUMP = \"../semeval2016-task6-domaincorpus/data-all-annotations/testdata-taskB-all-annotations.txt\"\n",
    "PATH_UNLABELLED_DATA_TRUMP = \"./../semeval2016-task6-domaincorpus/downloaded_Donald_Trump.txt\""
   ]
  },
  {
   "cell_type": "markdown",
   "metadata": {},
   "source": [
    "## Setup"
   ]
  },
  {
   "cell_type": "code",
   "execution_count": 2,
   "metadata": {},
   "outputs": [],
   "source": [
    "# SETUP\n",
    "# # Run in python console\n",
    "# import nltk; nltk.download('stopwords')\n",
    "\n",
    "# # Run in terminal or command prompt\n",
    "# !python -m spacy download en"
   ]
  },
  {
   "cell_type": "code",
   "execution_count": 3,
   "metadata": {},
   "outputs": [],
   "source": [
    "# !pip install gensim\n",
    "# !pip install pyLDAvis"
   ]
  },
  {
   "cell_type": "code",
   "execution_count": 4,
   "metadata": {},
   "outputs": [],
   "source": [
    "import pandas as pd\n",
    "import numpy as np\n",
    "import re\n",
    "from pprint import pprint\n",
    "\n",
    "# Gensim\n",
    "import gensim\n",
    "import gensim.corpora as corpora\n",
    "from gensim.utils import simple_preprocess\n",
    "from gensim.models import CoherenceModel\n",
    "from gensim.models import LsiModel\n",
    "\n",
    "# spacy for lemmatization\n",
    "import spacy\n",
    "\n",
    "# Plotting tools\n",
    "import pyLDAvis\n",
    "import pyLDAvis.gensim  # don't skip this\n",
    "import matplotlib.pyplot as plt\n",
    "%matplotlib inline\n",
    "\n",
    "# Enable logging for gensim - optional\n",
    "import logging\n",
    "logging.basicConfig(format='%(asctime)s : %(levelname)s : %(message)s', level=logging.ERROR)\n",
    "\n",
    "import warnings\n",
    "warnings.filterwarnings(\"ignore\",category=DeprecationWarning)"
   ]
  },
  {
   "cell_type": "code",
   "execution_count": 5,
   "metadata": {},
   "outputs": [],
   "source": [
    "from nltk.corpus import stopwords\n",
    "stop_words = stopwords.words('english')\n",
    "stop_words.extend(['via'])"
   ]
  },
  {
   "cell_type": "markdown",
   "metadata": {},
   "source": [
    "### Read Sem-Eval Task A Data (Labelled)\n",
    "\n",
    "Interactive Visualization - http://www.saifmohammad.com/WebPages/StanceDataset.htm\n",
    "\n",
    "Targets - \n",
    " - Hilary Clinton\n",
    " - Atheism\n",
    " - Climate Change\n",
    " - Donald Trump\n",
    " - Feminism\n",
    " - Abortion"
   ]
  },
  {
   "cell_type": "code",
   "execution_count": 6,
   "metadata": {},
   "outputs": [],
   "source": [
    "data_labelled = pd.read_csv(PATH_LABELLED_DATA_TRUMP, sep='\\t', lineterminator='\\r', encoding ='latin1')\n",
    "data_labelled = data_labelled.where(data_labelled.Tweet != 'Not Available')\n",
    "data_labelled.dropna(how='any', inplace=True)"
   ]
  },
  {
   "cell_type": "markdown",
   "metadata": {},
   "source": [
    "### Remove Symbols"
   ]
  },
  {
   "cell_type": "code",
   "execution_count": 7,
   "metadata": {},
   "outputs": [],
   "source": [
    "def clean_tweets(sent):\n",
    "    sent = str(sent)\n",
    "    \n",
    "    # Remove new line characters\n",
    "    sent = re.sub('\\s+', ' ', sent)\n",
    "\n",
    "    # Remove distracting single quotes\n",
    "    sent = re.sub(\"\\'\", \"\", sent)\n",
    "\n",
    "    # Remove distracting single quotes\n",
    "    sent = re.sub(\"\\\"\", \"\", sent)\n",
    "\n",
    "    # Remove hashtags\n",
    "    sent = re.sub(\"\\#\", \"\", sent)\n",
    "\n",
    "    # Remove http:// links\n",
    "    sent = re.sub('http:\\/\\/.*','', sent)\n",
    "\n",
    "    # Remove https:// links\n",
    "    sent = re.sub('https:\\/\\/.*','', sent)\n",
    "        \n",
    "    return sent\n",
    "    "
   ]
  },
  {
   "cell_type": "code",
   "execution_count": 8,
   "metadata": {},
   "outputs": [],
   "source": [
    "data_labelled['Tweet'] = data_labelled['Tweet'].apply(clean_tweets)"
   ]
  },
  {
   "cell_type": "markdown",
   "metadata": {},
   "source": [
    "#### Data Stats"
   ]
  },
  {
   "cell_type": "code",
   "execution_count": 9,
   "metadata": {},
   "outputs": [
    {
     "data": {
      "text/plain": [
       "ID                 707\n",
       "Target             707\n",
       "Tweet              707\n",
       "Stance             707\n",
       "Opinion towards    707\n",
       "Sentiment          707\n",
       "dtype: int64"
      ]
     },
     "execution_count": 9,
     "metadata": {},
     "output_type": "execute_result"
    }
   ],
   "source": [
    "data_labelled.count()"
   ]
  },
  {
   "cell_type": "code",
   "execution_count": 10,
   "metadata": {},
   "outputs": [
    {
     "data": {
      "text/html": [
       "<div>\n",
       "<style scoped>\n",
       "    .dataframe tbody tr th:only-of-type {\n",
       "        vertical-align: middle;\n",
       "    }\n",
       "\n",
       "    .dataframe tbody tr th {\n",
       "        vertical-align: top;\n",
       "    }\n",
       "\n",
       "    .dataframe thead th {\n",
       "        text-align: right;\n",
       "    }\n",
       "</style>\n",
       "<table border=\"1\" class=\"dataframe\">\n",
       "  <thead>\n",
       "    <tr style=\"text-align: right;\">\n",
       "      <th></th>\n",
       "      <th>ID</th>\n",
       "      <th>Target</th>\n",
       "      <th>Tweet</th>\n",
       "      <th>Stance</th>\n",
       "      <th>Opinion towards</th>\n",
       "      <th>Sentiment</th>\n",
       "    </tr>\n",
       "  </thead>\n",
       "  <tbody>\n",
       "    <tr>\n",
       "      <th>0</th>\n",
       "      <td>\\n20001</td>\n",
       "      <td>Donald Trump</td>\n",
       "      <td>@2014voteblue @ChrisJZullo blindly supporting ...</td>\n",
       "      <td>NONE</td>\n",
       "      <td>OTHER</td>\n",
       "      <td>NEGATIVE</td>\n",
       "    </tr>\n",
       "    <tr>\n",
       "      <th>1</th>\n",
       "      <td>\\n20002</td>\n",
       "      <td>Donald Trump</td>\n",
       "      <td>@ThePimpernelX @Cameron_Gray @CalebHowe Totall...</td>\n",
       "      <td>NONE</td>\n",
       "      <td>OTHER</td>\n",
       "      <td>POSITIVE</td>\n",
       "    </tr>\n",
       "    <tr>\n",
       "      <th>2</th>\n",
       "      <td>\\n20003</td>\n",
       "      <td>Donald Trump</td>\n",
       "      <td>@JeffYoung @ThePatriot143 I fully support full...</td>\n",
       "      <td>NONE</td>\n",
       "      <td>OTHER</td>\n",
       "      <td>POSITIVE</td>\n",
       "    </tr>\n",
       "    <tr>\n",
       "      <th>3</th>\n",
       "      <td>\\n20004</td>\n",
       "      <td>Donald Trump</td>\n",
       "      <td>@ABC Stupid is as stupid does! Showedhis true ...</td>\n",
       "      <td>AGAINST</td>\n",
       "      <td>TARGET</td>\n",
       "      <td>NEGATIVE</td>\n",
       "    </tr>\n",
       "    <tr>\n",
       "      <th>4</th>\n",
       "      <td>\\n20005</td>\n",
       "      <td>Donald Trump</td>\n",
       "      <td>@HouseGOP we now have one political party. The...</td>\n",
       "      <td>NONE</td>\n",
       "      <td>OTHER</td>\n",
       "      <td>NEGATIVE</td>\n",
       "    </tr>\n",
       "  </tbody>\n",
       "</table>\n",
       "</div>"
      ],
      "text/plain": [
       "        ID        Target                                              Tweet  \\\n",
       "0  \\n20001  Donald Trump  @2014voteblue @ChrisJZullo blindly supporting ...   \n",
       "1  \\n20002  Donald Trump  @ThePimpernelX @Cameron_Gray @CalebHowe Totall...   \n",
       "2  \\n20003  Donald Trump  @JeffYoung @ThePatriot143 I fully support full...   \n",
       "3  \\n20004  Donald Trump  @ABC Stupid is as stupid does! Showedhis true ...   \n",
       "4  \\n20005  Donald Trump  @HouseGOP we now have one political party. The...   \n",
       "\n",
       "    Stance Opinion towards Sentiment  \n",
       "0     NONE           OTHER  NEGATIVE  \n",
       "1     NONE           OTHER  POSITIVE  \n",
       "2     NONE           OTHER  POSITIVE  \n",
       "3  AGAINST          TARGET  NEGATIVE  \n",
       "4     NONE           OTHER  NEGATIVE  "
      ]
     },
     "execution_count": 10,
     "metadata": {},
     "output_type": "execute_result"
    }
   ],
   "source": [
    "data_labelled.head()"
   ]
  },
  {
   "cell_type": "code",
   "execution_count": 11,
   "metadata": {},
   "outputs": [
    {
     "data": {
      "text/plain": [
       "ID                 299\n",
       "Target             299\n",
       "Tweet              299\n",
       "Stance             299\n",
       "Opinion towards    299\n",
       "Sentiment          299\n",
       "dtype: int64"
      ]
     },
     "execution_count": 11,
     "metadata": {},
     "output_type": "execute_result"
    }
   ],
   "source": [
    "data_labelled.where(data_labelled.Stance == 'AGAINST').count()"
   ]
  },
  {
   "cell_type": "code",
   "execution_count": 12,
   "metadata": {},
   "outputs": [
    {
     "data": {
      "text/plain": [
       "ID                 260\n",
       "Target             260\n",
       "Tweet              260\n",
       "Stance             260\n",
       "Opinion towards    260\n",
       "Sentiment          260\n",
       "dtype: int64"
      ]
     },
     "execution_count": 12,
     "metadata": {},
     "output_type": "execute_result"
    }
   ],
   "source": [
    "data_labelled.where(data_labelled.Stance == 'NONE').count()"
   ]
  },
  {
   "cell_type": "code",
   "execution_count": 13,
   "metadata": {},
   "outputs": [
    {
     "data": {
      "text/plain": [
       "ID                 148\n",
       "Target             148\n",
       "Tweet              148\n",
       "Stance             148\n",
       "Opinion towards    148\n",
       "Sentiment          148\n",
       "dtype: int64"
      ]
     },
     "execution_count": 13,
     "metadata": {},
     "output_type": "execute_result"
    }
   ],
   "source": [
    "data_labelled.where(data_labelled.Stance == 'FAVOR').count()"
   ]
  },
  {
   "cell_type": "markdown",
   "metadata": {},
   "source": [
    "## Balance Dataset"
   ]
  },
  {
   "cell_type": "code",
   "execution_count": 14,
   "metadata": {},
   "outputs": [],
   "source": [
    "data_labelled = data_labelled.groupby('Stance')\n",
    "data_labelled = pd.DataFrame(data_labelled.apply(lambda x: x.sample(data_labelled.size().max(), replace=True).reset_index(drop=True)))"
   ]
  },
  {
   "cell_type": "code",
   "execution_count": 15,
   "metadata": {},
   "outputs": [
    {
     "data": {
      "text/plain": [
       "ID                 299\n",
       "Target             299\n",
       "Tweet              299\n",
       "Stance             299\n",
       "Opinion towards    299\n",
       "Sentiment          299\n",
       "dtype: int64"
      ]
     },
     "execution_count": 15,
     "metadata": {},
     "output_type": "execute_result"
    }
   ],
   "source": [
    "data_labelled.where(data_labelled.Stance == 'FAVOR').count()"
   ]
  },
  {
   "cell_type": "code",
   "execution_count": 16,
   "metadata": {},
   "outputs": [
    {
     "data": {
      "text/plain": [
       "ID                 299\n",
       "Target             299\n",
       "Tweet              299\n",
       "Stance             299\n",
       "Opinion towards    299\n",
       "Sentiment          299\n",
       "dtype: int64"
      ]
     },
     "execution_count": 16,
     "metadata": {},
     "output_type": "execute_result"
    }
   ],
   "source": [
    "data_labelled.where(data_labelled.Stance == 'AGAINST').count()"
   ]
  },
  {
   "cell_type": "code",
   "execution_count": 17,
   "metadata": {},
   "outputs": [
    {
     "data": {
      "text/plain": [
       "ID                 299\n",
       "Target             299\n",
       "Tweet              299\n",
       "Stance             299\n",
       "Opinion towards    299\n",
       "Sentiment          299\n",
       "dtype: int64"
      ]
     },
     "execution_count": 17,
     "metadata": {},
     "output_type": "execute_result"
    }
   ],
   "source": [
    "data_labelled.where(data_labelled.Stance == 'NONE').count()"
   ]
  },
  {
   "cell_type": "markdown",
   "metadata": {},
   "source": [
    "## Create Train-Test Split"
   ]
  },
  {
   "cell_type": "code",
   "execution_count": 18,
   "metadata": {},
   "outputs": [],
   "source": [
    "from sklearn.model_selection import train_test_split\n",
    "X_train, X_test, y_train, y_test = train_test_split(data_labelled.Tweet, data_labelled.Stance, test_size=0.3, random_state=0, shuffle = True)"
   ]
  },
  {
   "cell_type": "code",
   "execution_count": 19,
   "metadata": {},
   "outputs": [
    {
     "data": {
      "text/plain": [
       "211"
      ]
     },
     "execution_count": 19,
     "metadata": {},
     "output_type": "execute_result"
    }
   ],
   "source": [
    "y_train.where(y_train == 'AGAINST').count()"
   ]
  },
  {
   "cell_type": "code",
   "execution_count": 20,
   "metadata": {},
   "outputs": [
    {
     "data": {
      "text/plain": [
       "207"
      ]
     },
     "execution_count": 20,
     "metadata": {},
     "output_type": "execute_result"
    }
   ],
   "source": [
    "y_train.where(y_train == 'FAVOR').count()"
   ]
  },
  {
   "cell_type": "code",
   "execution_count": 21,
   "metadata": {},
   "outputs": [
    {
     "data": {
      "text/plain": [
       "209"
      ]
     },
     "execution_count": 21,
     "metadata": {},
     "output_type": "execute_result"
    }
   ],
   "source": [
    "y_train.where(y_train == 'NONE').count()"
   ]
  },
  {
   "cell_type": "code",
   "execution_count": 22,
   "metadata": {},
   "outputs": [
    {
     "data": {
      "text/plain": [
       "88"
      ]
     },
     "execution_count": 22,
     "metadata": {},
     "output_type": "execute_result"
    }
   ],
   "source": [
    "y_test.where(y_test == 'AGAINST').count()"
   ]
  },
  {
   "cell_type": "code",
   "execution_count": 23,
   "metadata": {},
   "outputs": [
    {
     "data": {
      "text/plain": [
       "92"
      ]
     },
     "execution_count": 23,
     "metadata": {},
     "output_type": "execute_result"
    }
   ],
   "source": [
    "y_test.where(y_test == 'FAVOR').count()"
   ]
  },
  {
   "cell_type": "code",
   "execution_count": 24,
   "metadata": {},
   "outputs": [
    {
     "data": {
      "text/plain": [
       "90"
      ]
     },
     "execution_count": 24,
     "metadata": {},
     "output_type": "execute_result"
    }
   ],
   "source": [
    "y_test.where(y_test == 'NONE').count()"
   ]
  },
  {
   "cell_type": "code",
   "execution_count": 25,
   "metadata": {},
   "outputs": [],
   "source": [
    "X_train.to_pickle(\"./X_train.pkl\")\n",
    "X_test.to_pickle(\"./X_test.pkl\")\n",
    "y_train.to_pickle(\"./y_train.pkl\")\n",
    "y_test.to_pickle(\"./y_test.pkl\")"
   ]
  }
 ],
 "metadata": {
  "kernelspec": {
   "display_name": "Python 3",
   "language": "python",
   "name": "python3"
  },
  "language_info": {
   "codemirror_mode": {
    "name": "ipython",
    "version": 3
   },
   "file_extension": ".py",
   "mimetype": "text/x-python",
   "name": "python",
   "nbconvert_exporter": "python",
   "pygments_lexer": "ipython3",
   "version": "3.6.5"
  }
 },
 "nbformat": 4,
 "nbformat_minor": 2
}
