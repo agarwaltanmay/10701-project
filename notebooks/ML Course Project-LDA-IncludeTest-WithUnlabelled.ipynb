{
 "cells": [
  {
   "cell_type": "markdown",
   "metadata": {},
   "source": [
    "# Machine Learning Course Project\n",
    "## Identifying User Stance On Social Media via Semi-Supervised Learning"
   ]
  },
  {
   "cell_type": "markdown",
   "metadata": {},
   "source": [
    "### Overview\n",
    "\n",
    "#### Midsem Pipeline - \n",
    "\n",
    " - **Read Data**: Read text files to load all the words. \n",
    " - **Clean Data**: Remove stop-words, everything lowercase, dehashify hashtags.\n",
    " - **Format Data**: Create data in a format required by each baseline method. \n",
    " - **Baseline Approaches**: LSA, pLSA, Para2Vec, LDA Topic Modelling. The goal of these approaches is to create a \"FIXED SIZE\" and \"HIGH LEVEL\" feature representation for variable length tweets. These representations leverage our unlabelled data. \n",
    " - **Training**: Some Supervised Learning on the learned representation using the given labels. \n",
    " - **Evaluation**: Compare the different methods mentioned above on different datasets. \n",
    "\n",
    "#### Endsem Approaches - \n",
    " - LDA2Vec - https://www.datacamp.com/community/tutorials/lda2vec-topic-model\n",
    " - Gaussian LDA - https://rajarshd.github.io/papers/acl2015.pdf\n",
    " - Word Embeddings Informed Topic Models - http://proceedings.mlr.press/v77/zhao17a/zhao17a.pdf\n",
    " \n",
    "#### Reference\n",
    " - https://www.machinelearningplus.com/nlp/topic-modeling-gensim-python/"
   ]
  },
  {
   "cell_type": "markdown",
   "metadata": {},
   "source": [
    "## Constants"
   ]
  },
  {
   "cell_type": "code",
   "execution_count": 1,
   "metadata": {},
   "outputs": [],
   "source": [
    "# PATH_LABELLED_DATA_TRAINING = \"../semeval2016-task6-domaincorpus/data-all-annotations/trainingdata-all-annotations.txt\"\n",
    "PATH_LABELLED_DATA_TRUMP = \"../semeval2016-task6-domaincorpus/data-all-annotations/testdata-taskB-all-annotations.txt\"\n",
    "PATH_UNLABELLED_DATA_TRUMP = \"./../semeval2016-task6-domaincorpus/downloaded_Donald_Trump.txt\""
   ]
  },
  {
   "cell_type": "markdown",
   "metadata": {},
   "source": [
    "## Data "
   ]
  },
  {
   "cell_type": "code",
   "execution_count": 2,
   "metadata": {},
   "outputs": [],
   "source": [
    "# SETUP\n",
    "# # Run in python console\n",
    "# import nltk; nltk.download('stopwords')\n",
    "\n",
    "# # Run in terminal or command prompt\n",
    "# !python -m spacy download en"
   ]
  },
  {
   "cell_type": "code",
   "execution_count": 3,
   "metadata": {},
   "outputs": [],
   "source": [
    "# !pip install gensim\n",
    "# !pip install pyLDAvis"
   ]
  },
  {
   "cell_type": "code",
   "execution_count": 4,
   "metadata": {},
   "outputs": [],
   "source": [
    "import pandas as pd\n",
    "import numpy as np\n",
    "import re\n",
    "from pprint import pprint\n",
    "\n",
    "# Gensim\n",
    "import gensim\n",
    "import gensim.corpora as corpora\n",
    "from gensim.utils import simple_preprocess\n",
    "from gensim.models import CoherenceModel\n",
    "from gensim.models import LsiModel\n",
    "\n",
    "# spacy for lemmatization\n",
    "import spacy\n",
    "\n",
    "# Plotting tools\n",
    "import pyLDAvis\n",
    "import pyLDAvis.gensim  # don't skip this\n",
    "import matplotlib.pyplot as plt\n",
    "%matplotlib inline\n",
    "\n",
    "# Enable logging for gensim - optional\n",
    "import logging\n",
    "logging.basicConfig(format='%(asctime)s : %(levelname)s : %(message)s', level=logging.ERROR)\n",
    "\n",
    "import warnings\n",
    "warnings.filterwarnings(\"ignore\",category=DeprecationWarning)"
   ]
  },
  {
   "cell_type": "code",
   "execution_count": 5,
   "metadata": {},
   "outputs": [],
   "source": [
    "from nltk.corpus import stopwords\n",
    "stop_words = stopwords.words('english')\n",
    "stop_words.extend(['via'])"
   ]
  },
  {
   "cell_type": "markdown",
   "metadata": {},
   "source": [
    "### Read Sem-Eval Task A Data (Labelled)\n",
    "\n",
    "Interactive Visualization - http://www.saifmohammad.com/WebPages/StanceDataset.htm\n",
    "\n",
    "Targets - \n",
    " - Hilary Clinton\n",
    " - Atheism\n",
    " - Climate Change\n",
    " - Donald Trump\n",
    " - Feminism\n",
    " - Abortion"
   ]
  },
  {
   "cell_type": "markdown",
   "metadata": {},
   "source": [
    "### Remove Symbols"
   ]
  },
  {
   "cell_type": "code",
   "execution_count": 6,
   "metadata": {},
   "outputs": [],
   "source": [
    "def clean_tweets(sent):\n",
    "    sent = str(sent)\n",
    "    \n",
    "    # Remove new line characters\n",
    "    sent = re.sub('\\s+', ' ', sent)\n",
    "\n",
    "    # Remove distracting single quotes\n",
    "    sent = re.sub(\"\\'\", \"\", sent)\n",
    "\n",
    "    # Remove distracting single quotes\n",
    "    sent = re.sub(\"\\\"\", \"\", sent)\n",
    "\n",
    "    # Remove hashtags\n",
    "    sent = re.sub(\"\\#\", \"\", sent)\n",
    "\n",
    "    # Remove http:// links\n",
    "    sent = re.sub('http:\\/\\/.*','', sent)\n",
    "\n",
    "    # Remove https:// links\n",
    "    sent = re.sub('https:\\/\\/.*','', sent)\n",
    "    \n",
    "    # Remove emojis\n",
    "#     emoji_pattern = re.compile(\"[\"\n",
    "#         u\"\\U0001F600-\\U0001F64F\"  # emoticons\n",
    "#         u\"\\U0001F300-\\U0001F5FF\"  # symbols & pictographs\n",
    "#         u\"\\U0001F680-\\U0001F6FF\"  # transport & map symbols\n",
    "#         u\"\\U0001F1E0-\\U0001F1FF\"  # flags (iOS)\n",
    "#                            \"]+\", flags=re.UNICODE)\n",
    "    \n",
    "#     sent = emoji_pattern.sub(r'', sent)\n",
    "    \n",
    "    return sent\n",
    "    "
   ]
  },
  {
   "cell_type": "code",
   "execution_count": 100,
   "metadata": {},
   "outputs": [],
   "source": [
    "X_train = pd.read_pickle('X_train.pkl')\n",
    "X_test = pd.read_pickle('X_test.pkl')\n",
    "y_train = pd.read_pickle('y_train.pkl')\n",
    "y_test = pd.read_pickle('y_test.pkl')\n",
    "\n",
    "data_X = pd.concat([X_train, X_test], ignore_index=True, axis=0)\n",
    "data_y = pd.concat([y_train, y_test], ignore_index=True, axis=0)\n",
    "data_labelled = pd.concat([data_X, data_y], ignore_index=True, axis=1)\n",
    "data_labelled.columns = ['Tweet', 'Stance']\n",
    "# data_labelled = pd.DataFrame([data_labelled], columns = ['Tweet', 'Stance'])\n",
    "# data_labelled = data_labelled.where(data_labelled.Target != np.nan)"
   ]
  },
  {
   "cell_type": "markdown",
   "metadata": {},
   "source": [
    "#### Data Stats"
   ]
  },
  {
   "cell_type": "code",
   "execution_count": 106,
   "metadata": {},
   "outputs": [
    {
     "data": {
      "text/plain": [
       "Tweet     299\n",
       "Stance    299\n",
       "dtype: int64"
      ]
     },
     "execution_count": 106,
     "metadata": {},
     "output_type": "execute_result"
    }
   ],
   "source": [
    "data_labelled.where(data_labelled.Stance == 'AGAINST').count()"
   ]
  },
  {
   "cell_type": "code",
   "execution_count": 107,
   "metadata": {},
   "outputs": [
    {
     "data": {
      "text/plain": [
       "Tweet     299\n",
       "Stance    299\n",
       "dtype: int64"
      ]
     },
     "execution_count": 107,
     "metadata": {},
     "output_type": "execute_result"
    }
   ],
   "source": [
    "data_labelled.where(data_labelled.Stance == 'NONE').count()"
   ]
  },
  {
   "cell_type": "code",
   "execution_count": 108,
   "metadata": {},
   "outputs": [
    {
     "data": {
      "text/plain": [
       "Tweet     299\n",
       "Stance    299\n",
       "dtype: int64"
      ]
     },
     "execution_count": 108,
     "metadata": {},
     "output_type": "execute_result"
    }
   ],
   "source": [
    "data_labelled.where(data_labelled.Stance == 'FAVOR').count()"
   ]
  },
  {
   "cell_type": "markdown",
   "metadata": {},
   "source": [
    "### Read Sem-Eval Task B Data (Unlabelled)"
   ]
  },
  {
   "cell_type": "code",
   "execution_count": 109,
   "metadata": {},
   "outputs": [],
   "source": [
    "data_unlabelled = pd.read_csv(PATH_UNLABELLED_DATA_TRUMP, sep='\\t', lineterminator='\\n', encoding ='latin1', names = [\"ID\", \"Tweet\"])\n",
    "data_unlabelled = data_unlabelled.where(data_unlabelled.Tweet != 'Not Available')\n",
    "data_unlabelled.dropna(how='any', inplace=True)\n",
    "data_unlabelled['Tweet'] = data_unlabelled['Tweet'].apply(lambda x: x[1:])\n",
    "data_unlabelled['Tweet'] = data_unlabelled['Tweet'].apply(clean_tweets)\n",
    "# data_unlabelled = data_unlabelled[:1000]\n",
    "# data_unlabelled['Tweet'] = data_unlabelled['Tweet'].str.decode('latin1')"
   ]
  },
  {
   "cell_type": "code",
   "execution_count": 110,
   "metadata": {},
   "outputs": [
    {
     "name": "stderr",
     "output_type": "stream",
     "text": [
      "/Users/Sarthak/anaconda3/lib/python3.6/site-packages/ipykernel_launcher.py:1: FutureWarning: Sorting because non-concatenation axis is not aligned. A future version\n",
      "of pandas will change to not sort by default.\n",
      "\n",
      "To accept the future behavior, pass 'sort=True'.\n",
      "\n",
      "To retain the current behavior and silence the warning, pass sort=False\n",
      "\n",
      "  \"\"\"Entry point for launching an IPython kernel.\n"
     ]
    }
   ],
   "source": [
    "combined_data = pd.concat([data_unlabelled, data_labelled], ignore_index=True)"
   ]
  },
  {
   "cell_type": "code",
   "execution_count": 111,
   "metadata": {},
   "outputs": [
    {
     "data": {
      "text/plain": [
       "ID        53616\n",
       "Stance      897\n",
       "Tweet     54513\n",
       "dtype: int64"
      ]
     },
     "execution_count": 111,
     "metadata": {},
     "output_type": "execute_result"
    }
   ],
   "source": [
    "combined_data.count()"
   ]
  },
  {
   "cell_type": "code",
   "execution_count": 112,
   "metadata": {
    "scrolled": true
   },
   "outputs": [
    {
     "data": {
      "text/html": [
       "<div>\n",
       "<style scoped>\n",
       "    .dataframe tbody tr th:only-of-type {\n",
       "        vertical-align: middle;\n",
       "    }\n",
       "\n",
       "    .dataframe tbody tr th {\n",
       "        vertical-align: top;\n",
       "    }\n",
       "\n",
       "    .dataframe thead th {\n",
       "        text-align: right;\n",
       "    }\n",
       "</style>\n",
       "<table border=\"1\" class=\"dataframe\">\n",
       "  <thead>\n",
       "    <tr style=\"text-align: right;\">\n",
       "      <th></th>\n",
       "      <th>ID</th>\n",
       "      <th>Stance</th>\n",
       "      <th>Tweet</th>\n",
       "    </tr>\n",
       "  </thead>\n",
       "  <tbody>\n",
       "    <tr>\n",
       "      <th>0</th>\n",
       "      <td>5.885112e+17</td>\n",
       "      <td>NaN</td>\n",
       "      <td>Dear DonaldTrump: Do you want to see HillaryCl...</td>\n",
       "    </tr>\n",
       "    <tr>\n",
       "      <th>1</th>\n",
       "      <td>5.888037e+17</td>\n",
       "      <td>NaN</td>\n",
       "      <td>Trump compares JebBush to liberal U.S. Preside...</td>\n",
       "    </tr>\n",
       "    <tr>\n",
       "      <th>2</th>\n",
       "      <td>5.891521e+17</td>\n",
       "      <td>NaN</td>\n",
       "      <td>Trump Lets His Followers Know HillaryClinton C...</td>\n",
       "    </tr>\n",
       "    <tr>\n",
       "      <th>3</th>\n",
       "      <td>5.891598e+17</td>\n",
       "      <td>NaN</td>\n",
       "      <td>Donald Trump blows his trumpet once again, but...</td>\n",
       "    </tr>\n",
       "    <tr>\n",
       "      <th>4</th>\n",
       "      <td>5.891884e+17</td>\n",
       "      <td>NaN</td>\n",
       "      <td>DonaldTrump spreads the message that HillaryCl...</td>\n",
       "    </tr>\n",
       "    <tr>\n",
       "      <th>5</th>\n",
       "      <td>5.891913e+17</td>\n",
       "      <td>NaN</td>\n",
       "      <td>Trump Lets His Followers Know HillaryClinton C...</td>\n",
       "    </tr>\n",
       "    <tr>\n",
       "      <th>6</th>\n",
       "      <td>5.893100e+17</td>\n",
       "      <td>NaN</td>\n",
       "      <td>Why we need feminism. everydaysexism DonaldTru...</td>\n",
       "    </tr>\n",
       "    <tr>\n",
       "      <th>7</th>\n",
       "      <td>5.893174e+17</td>\n",
       "      <td>NaN</td>\n",
       "      <td>DonaldTrump has to be the lowest form of scumb...</td>\n",
       "    </tr>\n",
       "    <tr>\n",
       "      <th>8</th>\n",
       "      <td>5.893454e+17</td>\n",
       "      <td>NaN</td>\n",
       "      <td>Wow, this is a low and disgusting tweet! @real...</td>\n",
       "    </tr>\n",
       "    <tr>\n",
       "      <th>9</th>\n",
       "      <td>5.893706e+17</td>\n",
       "      <td>NaN</td>\n",
       "      <td>\\xe2\\x80\\x9c@Kon__K: Why we need feminism. eve...</td>\n",
       "    </tr>\n",
       "  </tbody>\n",
       "</table>\n",
       "</div>"
      ],
      "text/plain": [
       "             ID Stance                                              Tweet\n",
       "0  5.885112e+17    NaN  Dear DonaldTrump: Do you want to see HillaryCl...\n",
       "1  5.888037e+17    NaN  Trump compares JebBush to liberal U.S. Preside...\n",
       "2  5.891521e+17    NaN  Trump Lets His Followers Know HillaryClinton C...\n",
       "3  5.891598e+17    NaN  Donald Trump blows his trumpet once again, but...\n",
       "4  5.891884e+17    NaN  DonaldTrump spreads the message that HillaryCl...\n",
       "5  5.891913e+17    NaN  Trump Lets His Followers Know HillaryClinton C...\n",
       "6  5.893100e+17    NaN  Why we need feminism. everydaysexism DonaldTru...\n",
       "7  5.893174e+17    NaN  DonaldTrump has to be the lowest form of scumb...\n",
       "8  5.893454e+17    NaN  Wow, this is a low and disgusting tweet! @real...\n",
       "9  5.893706e+17    NaN  \\xe2\\x80\\x9c@Kon__K: Why we need feminism. eve..."
      ]
     },
     "execution_count": 112,
     "metadata": {},
     "output_type": "execute_result"
    }
   ],
   "source": [
    "combined_data.head(10)"
   ]
  },
  {
   "cell_type": "markdown",
   "metadata": {},
   "source": []
  },
  {
   "cell_type": "code",
   "execution_count": 113,
   "metadata": {},
   "outputs": [],
   "source": [
    "df = combined_data['Tweet']\n",
    "# df = data_labelled['Tweet']"
   ]
  },
  {
   "cell_type": "code",
   "execution_count": 114,
   "metadata": {},
   "outputs": [
    {
     "name": "stdout",
     "output_type": "stream",
     "text": [
      "['Dear DonaldTrump: Do you want to see HillaryClinton s birth certificate too? '\n",
      " 'If so, PLEASE FUCK OFF! UniteBlue LibCrib Hillary2016']\n"
     ]
    }
   ],
   "source": [
    "data = df.values.tolist()\n",
    "pprint(data[:1])"
   ]
  },
  {
   "cell_type": "markdown",
   "metadata": {},
   "source": [
    "### Sentences To Words"
   ]
  },
  {
   "cell_type": "code",
   "execution_count": 115,
   "metadata": {},
   "outputs": [
    {
     "name": "stdout",
     "output_type": "stream",
     "text": [
      "[['dear',\n",
      "  'donaldtrump',\n",
      "  'do',\n",
      "  'you',\n",
      "  'want',\n",
      "  'to',\n",
      "  'see',\n",
      "  'hillaryclinton',\n",
      "  'birth',\n",
      "  'certificate',\n",
      "  'too',\n",
      "  'if',\n",
      "  'so',\n",
      "  'please',\n",
      "  'fuck',\n",
      "  'off',\n",
      "  'uniteblue',\n",
      "  'libcrib',\n",
      "  'hillary']]\n"
     ]
    }
   ],
   "source": [
    "def sent_to_words(sentences):\n",
    "    for sentence in sentences:\n",
    "        yield(gensim.utils.simple_preprocess(str(sentence), deacc=True))  # deacc=True removes punctuations\n",
    "\n",
    "data_words = list(sent_to_words(data))\n",
    "\n",
    "pprint(data_words[:1])"
   ]
  },
  {
   "cell_type": "markdown",
   "metadata": {},
   "source": [
    "### Create Bi-Grams Tri-Grams"
   ]
  },
  {
   "cell_type": "code",
   "execution_count": 116,
   "metadata": {},
   "outputs": [
    {
     "name": "stdout",
     "output_type": "stream",
     "text": [
      "['dear', 'donaldtrump', 'do', 'you', 'want', 'to', 'see', 'hillaryclinton', 'birth_certificate', 'too', 'if', 'so', 'please', 'fuck', 'off', 'uniteblue_libcrib', 'hillary']\n"
     ]
    }
   ],
   "source": [
    "# Build the bigram and trigram models\n",
    "bigram = gensim.models.Phrases(data_words, min_count=5, threshold=100) # higher threshold fewer phrases.\n",
    "trigram = gensim.models.Phrases(bigram[data_words], threshold=100)  \n",
    "\n",
    "# Faster way to get a sentence clubbed as a trigram/bigram\n",
    "bigram_mod = gensim.models.phrases.Phraser(bigram)\n",
    "trigram_mod = gensim.models.phrases.Phraser(trigram)\n",
    "\n",
    "# See trigram example\n",
    "print(trigram_mod[bigram_mod[data_words[0]]])"
   ]
  },
  {
   "cell_type": "markdown",
   "metadata": {},
   "source": [
    "### Remove Stop Words and Lemmatize\n",
    "\n",
    "WE NEED PRONOUNS FOR STANCE"
   ]
  },
  {
   "cell_type": "code",
   "execution_count": 117,
   "metadata": {},
   "outputs": [],
   "source": [
    "# Define functions for stopwords, bigrams, trigrams and lemmatization\n",
    "def remove_stopwords(texts):\n",
    "    return [[word for word in simple_preprocess(str(doc)) if word not in stop_words] for doc in texts]\n",
    "\n",
    "def make_bigrams(texts):\n",
    "    return [bigram_mod[doc] for doc in texts]\n",
    "\n",
    "def make_trigrams(texts):\n",
    "    return [trigram_mod[bigram_mod[doc]] for doc in texts]\n",
    "\n",
    "def lemmatization(texts, allowed_postags=['NOUN', 'ADJ', 'VERB', 'ADV', 'PRON']):\n",
    "    \"\"\"https://spacy.io/api/annotation\"\"\"\n",
    "    texts_out = []\n",
    "    for sent in texts:\n",
    "        doc = nlp(\" \".join(sent)) \n",
    "        texts_out.append([token.lemma_ for token in doc if token.pos_ in allowed_postags])\n",
    "    return texts_out"
   ]
  },
  {
   "cell_type": "code",
   "execution_count": 118,
   "metadata": {},
   "outputs": [
    {
     "name": "stdout",
     "output_type": "stream",
     "text": [
      "[['dear', 'donaldtrump', 'want', 'see', 'hillaryclinton', 'birth_certificate', 'fuck', 'uniteblue_libcrib', 'hillary']]\n",
      "54513\n"
     ]
    },
    {
     "data": {
      "text/plain": [
       "(None, None)"
      ]
     },
     "execution_count": 118,
     "metadata": {},
     "output_type": "execute_result"
    }
   ],
   "source": [
    "# Remove Stop Words\n",
    "data_words_nostops = remove_stopwords(data_words)\n",
    "\n",
    "# Form Bigrams\n",
    "data_words_bigrams = make_bigrams(data_words_nostops)\n",
    "\n",
    "# Initialize spacy 'en' model, keeping only tagger component (for efficiency)\n",
    "# python3 -m spacy download en\n",
    "nlp = spacy.load('en', disable=['parser', 'ner'])\n",
    "\n",
    "# Do lemmatization keeping only noun, adj, vb, adv\n",
    "data_lemmatized = lemmatization(data_words_bigrams, allowed_postags=['NOUN', 'ADJ', 'VERB', 'ADV', 'PRON'])\n",
    "\n",
    "print(data_lemmatized[:1]), print(len(data_lemmatized))"
   ]
  },
  {
   "cell_type": "markdown",
   "metadata": {},
   "source": [
    "## Format Data"
   ]
  },
  {
   "cell_type": "code",
   "execution_count": 119,
   "metadata": {},
   "outputs": [
    {
     "name": "stdout",
     "output_type": "stream",
     "text": [
      "[[(0, 1), (1, 1), (2, 1), (3, 1), (4, 1), (5, 1), (6, 1), (7, 1), (8, 1)]]\n"
     ]
    }
   ],
   "source": [
    "# Create Dictionary\n",
    "id2word = corpora.Dictionary(data_lemmatized)\n",
    "\n",
    "# Create Corpus\n",
    "texts = data_lemmatized\n",
    "\n",
    "# Term Document Frequency\n",
    "corpus = [id2word.doc2bow(text) for text in texts]\n",
    "\n",
    "# View\n",
    "print(corpus[:1])"
   ]
  },
  {
   "cell_type": "code",
   "execution_count": 120,
   "metadata": {},
   "outputs": [
    {
     "data": {
      "text/plain": [
       "[[('birth_certificate', 1),\n",
       "  ('dear', 1),\n",
       "  ('donaldtrump', 1),\n",
       "  ('fuck', 1),\n",
       "  ('hillary', 1),\n",
       "  ('hillaryclinton', 1),\n",
       "  ('see', 1),\n",
       "  ('uniteblue_libcrib', 1),\n",
       "  ('want', 1)]]"
      ]
     },
     "execution_count": 120,
     "metadata": {},
     "output_type": "execute_result"
    }
   ],
   "source": [
    "# Human readable format of corpus (term-frequency)\n",
    "[[(id2word[id], freq) for id, freq in cp] for cp in corpus[:1]]"
   ]
  },
  {
   "cell_type": "code",
   "execution_count": 121,
   "metadata": {},
   "outputs": [
    {
     "data": {
      "text/plain": [
       "31211"
      ]
     },
     "execution_count": 121,
     "metadata": {},
     "output_type": "execute_result"
    }
   ],
   "source": [
    "len(id2word)"
   ]
  },
  {
   "cell_type": "markdown",
   "metadata": {},
   "source": [
    "## LDA"
   ]
  },
  {
   "cell_type": "markdown",
   "metadata": {},
   "source": [
    "### Model 2"
   ]
  },
  {
   "cell_type": "code",
   "execution_count": 122,
   "metadata": {},
   "outputs": [],
   "source": [
    "# !wget http://mallet.cs.umass.edu/dist/mallet-2.0.8.zip\n",
    "# !unzip mallet-2.0.8.zip"
   ]
  },
  {
   "cell_type": "code",
   "execution_count": 123,
   "metadata": {},
   "outputs": [],
   "source": [
    "def compute_coherence_values(dictionary, corpus, texts, limit, start=2, step=3):\n",
    "    \"\"\"\n",
    "    Compute c_v coherence for various number of topics\n",
    "\n",
    "    Parameters:\n",
    "    ----------\n",
    "    dictionary : Gensim dictionary\n",
    "    corpus : Gensim corpus\n",
    "    texts : List of input texts\n",
    "    limit : Max num of topics\n",
    "\n",
    "    Returns:\n",
    "    -------\n",
    "    model_list : List of LDA topic models\n",
    "    coherence_values : Coherence values corresponding to the LDA model with respective number of topics\n",
    "    \"\"\"\n",
    "    coherence_values = []\n",
    "    model_list = []\n",
    "    for num_topics in range(start, limit, step):\n",
    "        model = gensim.models.wrappers.LdaMallet('./mallet-2.0.8/bin/mallet', corpus=corpus, num_topics=num_topics, id2word=id2word)\n",
    "        model_list.append(model)\n",
    "        coherencemodel = CoherenceModel(model=model, texts=texts, dictionary=dictionary, coherence='c_v')\n",
    "        coherence_values.append(coherencemodel.get_coherence())\n",
    "\n",
    "    return model_list, coherence_values"
   ]
  },
  {
   "cell_type": "code",
   "execution_count": 124,
   "metadata": {},
   "outputs": [],
   "source": [
    "model_list, coherence_values = compute_coherence_values(dictionary=id2word, corpus=corpus, texts=data_lemmatized, start=2, limit=40, step=6)"
   ]
  },
  {
   "cell_type": "code",
   "execution_count": 125,
   "metadata": {},
   "outputs": [
    {
     "data": {
      "image/png": "[encoded data removed]",
      "text/plain": [
       "<Figure size 432x288 with 1 Axes>"
      ]
     },
     "metadata": {},
     "output_type": "display_data"
    }
   ],
   "source": [
    "limit=40; start=2; step=6;\n",
    "x = range(start, limit, step)\n",
    "plt.plot(x, coherence_values)\n",
    "plt.xlabel(\"Num Topics\")\n",
    "plt.ylabel(\"Coherence score\")\n",
    "plt.legend((\"coherence_values\"), loc='best')\n",
    "plt.show()"
   ]
  },
  {
   "cell_type": "code",
   "execution_count": 130,
   "metadata": {},
   "outputs": [
    {
     "data": {
      "text/plain": [
       "54513"
      ]
     },
     "execution_count": 130,
     "metadata": {},
     "output_type": "execute_result"
    }
   ],
   "source": [
    "len(corpus)"
   ]
  },
  {
   "cell_type": "code",
   "execution_count": 134,
   "metadata": {},
   "outputs": [],
   "source": [
    "num_topics = x[np.argmax(coherence_values)]"
   ]
  },
  {
   "cell_type": "code",
   "execution_count": 135,
   "metadata": {},
   "outputs": [
    {
     "data": {
      "text/plain": [
       "38"
      ]
     },
     "execution_count": 135,
     "metadata": {},
     "output_type": "execute_result"
    }
   ],
   "source": [
    "num_topics"
   ]
  },
  {
   "cell_type": "code",
   "execution_count": 136,
   "metadata": {},
   "outputs": [],
   "source": [
    "mallet_path = './mallet-2.0.8/bin/mallet' # update this path\n",
    "ldamallet = gensim.models.wrappers.LdaMallet(mallet_path, corpus=corpus, num_topics=num_topics, id2word=id2word)\n",
    "ldamallet = gensim.models.wrappers.ldamallet.malletmodel2ldamodel(ldamallet)"
   ]
  },
  {
   "cell_type": "code",
   "execution_count": 137,
   "metadata": {},
   "outputs": [],
   "source": [
    "from gensim.test.utils import datapath\n",
    "\n",
    "# Save model to disk.\n",
    "temp_file = datapath(\"lda-mallet-model-only-labelled-with-unlabelled-\"+str(num_topics))\n",
    "ldamallet.save(temp_file)"
   ]
  },
  {
   "cell_type": "code",
   "execution_count": 138,
   "metadata": {},
   "outputs": [],
   "source": [
    "from gensim.test.utils import datapath\n",
    "\n",
    "temp_file = datapath(\"lda-mallet-model-only-labelled-with-unlabelled-\"+str(num_topics))\n",
    "# Load a potentially pretrained model from disk.\n",
    "ldamallet = gensim.models.ldamodel.LdaModel.load(temp_file)"
   ]
  },
  {
   "cell_type": "code",
   "execution_count": 139,
   "metadata": {},
   "outputs": [
    {
     "name": "stdout",
     "output_type": "stream",
     "text": [
      "[(34,\n",
      "  [('president', 0.18569115563651084),\n",
      "   ('run', 0.1206233555960332),\n",
      "   ('donaldtrump', 0.11313499291641368),\n",
      "   ('job', 0.07154422181744587),\n",
      "   ('idiot', 0.025399716656547257),\n",
      "   ('question', 0.020036429872495445),\n",
      "   ('create', 0.018113742157458004),\n",
      "   ('lose', 0.015179113539769277),\n",
      "   ('answer', 0.014065978546852863),\n",
      "   ('fail', 0.012649261283141065)]),\n",
      " (2,\n",
      "  [('make', 0.24701156182637665),\n",
      "   ('america', 0.19263178522437782),\n",
      "   ('great', 0.10317460317460317),\n",
      "   ('trump', 0.045071526553008036),\n",
      "   ('china', 0.021262002743484224),\n",
      "   ('save', 0.010973936899862825),\n",
      "   ('happy', 0.010777973740936704),\n",
      "   ('realdonaldtrump', 0.010582010582010581),\n",
      "   ('strong', 0.010190084264158338),\n",
      "   ('decision', 0.010190084264158338)]),\n",
      " (31,\n",
      "  [('donaldtrump', 0.305041675137223),\n",
      "   ('news', 0.06474893270990038),\n",
      "   ('break', 0.02693636918072779),\n",
      "   ('check', 0.018906281764586298),\n",
      "   ('flag', 0.0178898150030494),\n",
      "   ('report', 0.016263468184590364),\n",
      "   ('americaferrera', 0.016161821508436675),\n",
      "   ('attention', 0.015653588127668226),\n",
      "   ('write', 0.015653588127668226),\n",
      "   ('point', 0.014230534661516568)]),\n",
      " (5,\n",
      "  [('realdonaldtrump', 0.10305458187280922),\n",
      "   ('trump', 0.0970455683525288),\n",
      "   ('semst', 0.0898347521281923),\n",
      "   ('country', 0.05488232348522784),\n",
      "   ('hope', 0.04056084126189284),\n",
      "   ('put', 0.030045067601402103),\n",
      "   ('care', 0.02954431647471207),\n",
      "   ('change', 0.025638457686529795),\n",
      "   ('elect', 0.02303455182774161),\n",
      "   ('destroy', 0.016725087631447172)]),\n",
      " (8,\n",
      "  [('mexican', 0.16847669389716483),\n",
      "   ('racist', 0.1532916866890918),\n",
      "   ('comment', 0.10004805382027872),\n",
      "   ('immigrant', 0.07496395963479097),\n",
      "   ('remark', 0.031138875540605477),\n",
      "   ('statement', 0.028543969245555023),\n",
      "   ('bigot', 0.02652570879384911),\n",
      "   ('donaldtrump', 0.023738587217683807),\n",
      "   ('ignorant', 0.022393080249879866),\n",
      "   ('send', 0.020182604517059107)]),\n",
      " (37,\n",
      "  [('trump', 0.302713567839196),\n",
      "   ('realdonaldtrump', 0.10994974874371859),\n",
      "   ('foxnew', 0.05527638190954774),\n",
      "   ('fire', 0.042412060301507536),\n",
      "   ('fact', 0.030351758793969848),\n",
      "   ('brand', 0.02020100502512563),\n",
      "   ('hurt', 0.013165829145728643),\n",
      "   ('liar', 0.012763819095477387),\n",
      "   ('strike', 0.012060301507537688),\n",
      "   ('office', 0.010351758793969849)]),\n",
      " (21,\n",
      "  [('trump', 0.2512153983530112),\n",
      "   ('realdonaldtrump', 0.10576446075999603),\n",
      "   ('usa', 0.0814564936997718),\n",
      "   ('stand', 0.05506498660581407),\n",
      "   ('potus', 0.026887588054370474),\n",
      "   ('mr', 0.023514237523563845),\n",
      "   ('respect', 0.021133048913582697),\n",
      "   ('story', 0.016172239309455303),\n",
      "   ('bankruptcy', 0.016172239309455303),\n",
      "   ('file', 0.013096537354896319)]),\n",
      " (22,\n",
      "  [('trump', 0.4586943381019545),\n",
      "   ('realdonaldtrump', 0.13943179528510982),\n",
      "   ('fight', 0.021458795083618778),\n",
      "   ('side', 0.013298408220834173),\n",
      "   ('line', 0.010880515817046141),\n",
      "   ('nyc', 0.00997380616562563),\n",
      "   ('mr', 0.009369333064678622),\n",
      "   ('city', 0.008764859963731613),\n",
      "   ('tower', 0.008563368930082612),\n",
      "   ('sign', 0.008261132379609107)]),\n",
      " (11,\n",
      "  [('truth', 0.08832594875746484),\n",
      "   ('speak', 0.0825467154690811),\n",
      "   ('medium', 0.056347524561741476),\n",
      "   ('hear', 0.050953573492583316),\n",
      "   ('politician', 0.04161047967636294),\n",
      "   ('liberal', 0.031593141976497784),\n",
      "   ('lie', 0.02851088422269312),\n",
      "   ('finally', 0.024272779811211714),\n",
      "   ('realdonaldtrump', 0.023309574263147757),\n",
      "   ('mind', 0.020612598728568677)]),\n",
      " (12,\n",
      "  [('xf', 0.17716303708063566),\n",
      "   ('elchapo', 0.08073376495978027),\n",
      "   ('xb', 0.056405728860113795),\n",
      "   ('xba', 0.05552285658230332),\n",
      "   ('xa', 0.05081420443398077),\n",
      "   ('escape', 0.034137728075338436),\n",
      "   ('xc', 0.028938591328232295),\n",
      "   ('threaten', 0.020011771630370805),\n",
      "   ('elchapoguzman', 0.01922699627231705),\n",
      "   ('drug_lord', 0.01687267019815578)])]\n"
     ]
    }
   ],
   "source": [
    "# Show Topics\n",
    "pprint(ldamallet.show_topics(formatted=False))"
   ]
  },
  {
   "cell_type": "markdown",
   "metadata": {},
   "source": [
    "### Topic Quality Inspection"
   ]
  },
  {
   "cell_type": "markdown",
   "metadata": {},
   "source": [
    "#### Model 2"
   ]
  },
  {
   "cell_type": "code",
   "execution_count": 140,
   "metadata": {},
   "outputs": [
    {
     "name": "stdout",
     "output_type": "stream",
     "text": [
      "\n",
      "Coherence Score:  0.3639068012178567\n"
     ]
    }
   ],
   "source": [
    "# Compute Coherence Score\n",
    "coherence_model_ldamallet = CoherenceModel(model=ldamallet, texts=data_lemmatized, dictionary=id2word, coherence='c_v')\n",
    "coherence_ldamallet = coherence_model_ldamallet.get_coherence()\n",
    "print('\\nCoherence Score: ', coherence_ldamallet)"
   ]
  },
  {
   "cell_type": "markdown",
   "metadata": {},
   "source": [
    "## Evaluation"
   ]
  },
  {
   "cell_type": "markdown",
   "metadata": {},
   "source": [
    "### Format Labelled Data"
   ]
  },
  {
   "cell_type": "code",
   "execution_count": 141,
   "metadata": {},
   "outputs": [
    {
     "data": {
      "text/plain": [
       "897"
      ]
     },
     "execution_count": 141,
     "metadata": {},
     "output_type": "execute_result"
    }
   ],
   "source": [
    "labelled_corpus = corpus[-897:]\n",
    "len(labelled_corpus)"
   ]
  },
  {
   "cell_type": "markdown",
   "metadata": {},
   "source": [
    "### Create Dataset for Supervised Learning"
   ]
  },
  {
   "cell_type": "code",
   "execution_count": 142,
   "metadata": {},
   "outputs": [],
   "source": [
    "mallet_feats = []\n",
    "\n",
    "for i in range(len(labelled_corpus)):\n",
    "    representation = ldamallet.get_document_topics(labelled_corpus[i])\n",
    "    count = 0\n",
    "    feat = []\n",
    "    for i in range(num_topics):\n",
    "        if i in list(map((lambda x: x[0]), representation)):\n",
    "            feat.append(representation[count][1])\n",
    "            count = count + 1\n",
    "        else:\n",
    "            feat.append(0)\n",
    "    mallet_feats.append(feat)"
   ]
  },
  {
   "cell_type": "code",
   "execution_count": 143,
   "metadata": {},
   "outputs": [],
   "source": [
    "STANCES = ['AGAINST', 'FAVOR', 'NONE']"
   ]
  },
  {
   "cell_type": "code",
   "execution_count": 144,
   "metadata": {},
   "outputs": [],
   "source": [
    "def transform_labels(label):\n",
    "    if label == 'AGAINST':\n",
    "        return 0\n",
    "    elif label == 'FAVOR':\n",
    "        return 1\n",
    "    elif label == 'NONE':\n",
    "        return 2"
   ]
  },
  {
   "cell_type": "code",
   "execution_count": 145,
   "metadata": {},
   "outputs": [],
   "source": [
    "# labelled_stance = combined_data.Stance[53616:54323]\n",
    "labelled_stance = data_labelled['Stance']\n",
    "labelled_stance = labelled_stance.apply(transform_labels)\n",
    "labelled_stance = labelled_stance.tolist()"
   ]
  },
  {
   "cell_type": "code",
   "execution_count": 146,
   "metadata": {},
   "outputs": [
    {
     "data": {
      "text/plain": [
       "(38, 897)"
      ]
     },
     "execution_count": 146,
     "metadata": {},
     "output_type": "execute_result"
    }
   ],
   "source": [
    "len(mallet_feats[0]), len(mallet_feats)"
   ]
  },
  {
   "cell_type": "markdown",
   "metadata": {},
   "source": [
    "## Supervised Learning"
   ]
  },
  {
   "cell_type": "code",
   "execution_count": 147,
   "metadata": {},
   "outputs": [],
   "source": [
    "from sklearn import svm\n",
    "from sklearn import tree\n",
    "from sklearn.model_selection import train_test_split\n",
    "from sklearn.metrics import confusion_matrix\n",
    "from sklearn.ensemble import RandomForestClassifier\n",
    "from sklearn.model_selection import cross_val_score\n",
    "from sklearn.model_selection import ShuffleSplit\n",
    "from sklearn.naive_bayes import GaussianNB\n",
    "from sklearn.model_selection import GridSearchCV\n",
    "import argparse\n",
    "from sklearn.utils.multiclass import unique_labels"
   ]
  },
  {
   "cell_type": "code",
   "execution_count": 152,
   "metadata": {},
   "outputs": [],
   "source": [
    "## Create Train Test Split\n",
    "X_train = mallet_feats[:627]\n",
    "X_test = mallet_feats[627:]\n",
    "y_train = labelled_stance[:627]\n",
    "y_test = labelled_stance[627:]"
   ]
  },
  {
   "cell_type": "code",
   "execution_count": 155,
   "metadata": {},
   "outputs": [],
   "source": [
    "def plot_confusion_matrix(y_true, y_pred, classes,\n",
    "                          normalize=False,\n",
    "                          title=None,\n",
    "                          cmap=plt.cm.Blues):\n",
    "    \"\"\"\n",
    "    This function prints and plots the confusion matrix.\n",
    "    Normalization can be applied by setting `normalize=True`.\n",
    "    \"\"\"\n",
    "    if not title:\n",
    "        if normalize:\n",
    "            title = 'Normalized confusion matrix'\n",
    "        else:\n",
    "            title = 'Confusion matrix, without normalization'\n",
    "\n",
    "    # Compute confusion matrix\n",
    "    cm = confusion_matrix(y_true, y_pred)\n",
    "    # Only use the labels that appear in the data\n",
    "#     classes = classes[unique_labels(y_true, y_pred)]\n",
    "    if normalize:\n",
    "        cm = cm.astype('float') / cm.sum(axis=1)[:, np.newaxis]\n",
    "        print(\"Normalized confusion matrix\")\n",
    "    else:\n",
    "        print('Confusion matrix, without normalization')\n",
    "\n",
    "    print(cm)\n",
    "\n",
    "    fig, ax = plt.subplots()\n",
    "    im = ax.imshow(cm, interpolation='nearest', cmap=cmap)\n",
    "    ax.figure.colorbar(im, ax=ax)\n",
    "    # We want to show all ticks...\n",
    "    ax.set(xticks=np.arange(cm.shape[1]),\n",
    "           yticks=np.arange(cm.shape[0]),\n",
    "           # ... and label them with the respective list entries\n",
    "           xticklabels=classes, yticklabels=classes,\n",
    "           title=title,\n",
    "           ylabel='True label',\n",
    "           xlabel='Predicted label')\n",
    "\n",
    "    # Rotate the tick labels and set their alignment.\n",
    "    plt.setp(ax.get_xticklabels(), rotation=45, ha=\"right\",\n",
    "             rotation_mode=\"anchor\")\n",
    "\n",
    "    # Loop over data dimensions and create text annotations.\n",
    "    fmt = '.2f' if normalize else 'd'\n",
    "    thresh = cm.max() / 2.\n",
    "    for i in range(cm.shape[0]):\n",
    "        for j in range(cm.shape[1]):\n",
    "            ax.text(j, i, format(cm[i, j], fmt),\n",
    "                    ha=\"center\", va=\"center\",\n",
    "                    color=\"white\" if cm[i, j] > thresh else \"black\")\n",
    "    fig.tight_layout()\n",
    "    return ax"
   ]
  },
  {
   "cell_type": "code",
   "execution_count": 159,
   "metadata": {},
   "outputs": [],
   "source": [
    "def RandomForest(X_train, X_test, y_train, y_test):\n",
    "    \n",
    "    # GRID SEARCH\n",
    "    parameters = {'n_estimators':range(100,600,100), 'max_depth':range(1,20,5)}\n",
    "    rlf = RandomForestClassifier(random_state=0)\n",
    "    rlf = GridSearchCV(rlf, parameters, cv=5)\n",
    "    rlf.fit(X_train, y_train)\n",
    "    \n",
    "    y_pred = rlf.predict(X_test)\n",
    "\n",
    "    rf_cm = confusion_matrix(y_test, y_pred)\n",
    "    plot_confusion_matrix(y_test, y_pred, classes=STANCES,\n",
    "                      title='Confusion matrix, without normalization')\n",
    "\n",
    "    rf_cv = cross_val_score(rlf, X_train, y_train, cv=5, scoring='f1_macro')\n",
    "    report = {}\n",
    "    report[\"RF_cross_val_score\"] = rf_cv.tolist()\n",
    "    report[\"RF_mean_acc\"] = rf_cv.mean()\n",
    "    report[\"RF_std_acc\"] = rf_cv.std()*2\n",
    "    report[\"RF_params\"] = rlf.cv_results_\n",
    "    \n",
    "    report[\"RF_CM\"] = rf_cm.tolist()\n",
    "\n",
    "    \n",
    "    return report"
   ]
  },
  {
   "cell_type": "code",
   "execution_count": 166,
   "metadata": {},
   "outputs": [],
   "source": [
    "def SVMClassifier(X_train, X_test, y_train, y_test):\n",
    "\n",
    "    parameters = {'kernel':['linear','rbf','poly'], 'C':[0.001, 0.01, 0.1, 1, 10, 100, 1000]}\n",
    "    \n",
    "    clf = svm.SVC(gamma='auto')\n",
    "    clf = GridSearchCV(clf, parameters, cv=5)\n",
    "    clf.fit(X_train, y_train)\n",
    "    \n",
    "    clf_cv = cross_val_score(clf, X_train, y_train, cv=5, scoring='f1_macro')\n",
    "    report = {}\n",
    "    report[\"SVM_cross_val_score\"] = clf_cv.tolist()\n",
    "    report[\"SVM_mean_acc\"] = clf_cv.mean()\n",
    "    report[\"SVM_std_acc\"] = clf_cv.std()*2\n",
    "    report[\"SVM_params\"] = clf.cv_results_\n",
    "\n",
    "    \n",
    "    y_pred = clf.predict(X_test)\n",
    "\n",
    "    clf_cm = confusion_matrix(y_test, y_pred)\n",
    "    plot_confusion_matrix(y_test, y_pred, classes=STANCES,\n",
    "                      title='Confusion matrix, without normalization')\n",
    "\n",
    "    report[\"SVM_CM\"] = clf_cm.tolist()\n",
    "\n",
    "    \n",
    "    return report\n",
    "    "
   ]
  },
  {
   "cell_type": "code",
   "execution_count": 161,
   "metadata": {},
   "outputs": [
    {
     "name": "stdout",
     "output_type": "stream",
     "text": [
      "Confusion matrix, without normalization\n",
      "[[59 16 13]\n",
      " [11 78  3]\n",
      " [ 4  1 85]]\n",
      "{'RF_cross_val_score': [0.7914372576911276, 0.8067226322075935, 0.8103104212860309, 0.7696380451220035, 0.8250000000000001], 'RF_mean_acc': 0.8006216712613512, 'RF_std_acc': 0.03762695900515709, 'RF_params': {'mean_fit_time': array([0.12385054, 0.26124811, 0.40338745, 0.55271702, 0.75355678,\n",
      "       0.22264524, 0.35891733, 0.50825162, 0.68251686, 0.93433399,\n",
      "       0.19060736, 0.369104  , 0.57047491, 0.76528168, 1.03913975,\n",
      "       0.20294261, 0.38315921, 0.63636827, 0.83117723, 1.06311307]), 'std_fit_time': array([0.01275505, 0.01562209, 0.04069109, 0.1188897 , 0.11607933,\n",
      "       0.05337732, 0.03420073, 0.01261879, 0.03278556, 0.10073021,\n",
      "       0.0099902 , 0.00441183, 0.02354999, 0.03682425, 0.06752637,\n",
      "       0.00968865, 0.01304471, 0.09266276, 0.11465074, 0.12943244]), 'mean_score_time': array([0.00714173, 0.01577325, 0.02116857, 0.03071141, 0.04343491,\n",
      "       0.01005526, 0.01555319, 0.02156444, 0.02837758, 0.03768258,\n",
      "       0.00819435, 0.01547694, 0.02189856, 0.03195629, 0.0387702 ,\n",
      "       0.00873342, 0.0172008 , 0.02445097, 0.03105779, 0.03801928]), 'std_score_time': array([0.00075992, 0.00448536, 0.00238413, 0.00778378, 0.00789642,\n",
      "       0.00216313, 0.00323057, 0.00096934, 0.00143452, 0.00359352,\n",
      "       0.00060673, 0.00125031, 0.0006939 , 0.00554189, 0.00347868,\n",
      "       0.0011128 , 0.00210489, 0.00333904, 0.00358256, 0.00118709]), 'param_max_depth': masked_array(data=[1, 1, 1, 1, 1, 6, 6, 6, 6, 6, 11, 11, 11, 11, 11, 16,\n",
      "                   16, 16, 16, 16],\n",
      "             mask=[False, False, False, False, False, False, False, False,\n",
      "                   False, False, False, False, False, False, False, False,\n",
      "                   False, False, False, False],\n",
      "       fill_value='?',\n",
      "            dtype=object), 'param_n_estimators': masked_array(data=[100, 200, 300, 400, 500, 100, 200, 300, 400, 500, 100,\n",
      "                   200, 300, 400, 500, 100, 200, 300, 400, 500],\n",
      "             mask=[False, False, False, False, False, False, False, False,\n",
      "                   False, False, False, False, False, False, False, False,\n",
      "                   False, False, False, False],\n",
      "       fill_value='?',\n",
      "            dtype=object), 'params': [{'max_depth': 1, 'n_estimators': 100}, {'max_depth': 1, 'n_estimators': 200}, {'max_depth': 1, 'n_estimators': 300}, {'max_depth': 1, 'n_estimators': 400}, {'max_depth': 1, 'n_estimators': 500}, {'max_depth': 6, 'n_estimators': 100}, {'max_depth': 6, 'n_estimators': 200}, {'max_depth': 6, 'n_estimators': 300}, {'max_depth': 6, 'n_estimators': 400}, {'max_depth': 6, 'n_estimators': 500}, {'max_depth': 11, 'n_estimators': 100}, {'max_depth': 11, 'n_estimators': 200}, {'max_depth': 11, 'n_estimators': 300}, {'max_depth': 11, 'n_estimators': 400}, {'max_depth': 11, 'n_estimators': 500}, {'max_depth': 16, 'n_estimators': 100}, {'max_depth': 16, 'n_estimators': 200}, {'max_depth': 16, 'n_estimators': 300}, {'max_depth': 16, 'n_estimators': 400}, {'max_depth': 16, 'n_estimators': 500}], 'split0_test_score': array([0.58267717, 0.5511811 , 0.54330709, 0.55905512, 0.55905512,\n",
      "       0.76377953, 0.77165354, 0.80314961, 0.78740157, 0.78740157,\n",
      "       0.79527559, 0.78740157, 0.78740157, 0.79527559, 0.79527559,\n",
      "       0.77952756, 0.80314961, 0.79527559, 0.79527559, 0.79527559]), 'split1_test_score': array([0.61111111, 0.61111111, 0.6031746 , 0.6031746 , 0.6031746 ,\n",
      "       0.76190476, 0.76190476, 0.75396825, 0.75396825, 0.75396825,\n",
      "       0.83333333, 0.81746032, 0.81746032, 0.81746032, 0.82539683,\n",
      "       0.83333333, 0.80952381, 0.81746032, 0.80952381, 0.80952381]), 'split2_test_score': array([0.576, 0.592, 0.616, 0.592, 0.592, 0.824, 0.848, 0.848, 0.848,\n",
      "       0.832, 0.768, 0.792, 0.808, 0.808, 0.808, 0.792, 0.784, 0.768,\n",
      "       0.8  , 0.792]), 'split3_test_score': array([0.52 , 0.528, 0.528, 0.52 , 0.528, 0.696, 0.728, 0.712, 0.712,\n",
      "       0.72 , 0.768, 0.776, 0.776, 0.768, 0.784, 0.776, 0.768, 0.768,\n",
      "       0.76 , 0.776]), 'split4_test_score': array([0.56451613, 0.5483871 , 0.54032258, 0.5483871 , 0.53225806,\n",
      "       0.73387097, 0.75806452, 0.75      , 0.75806452, 0.75806452,\n",
      "       0.80645161, 0.81451613, 0.80645161, 0.81451613, 0.80645161,\n",
      "       0.83870968, 0.83870968, 0.84677419, 0.83870968, 0.82258065]), 'mean_test_score': array([0.57097289, 0.5661882 , 0.5661882 , 0.5645933 , 0.56299841,\n",
      "       0.75598086, 0.77352472, 0.77352472, 0.77192982, 0.77033493,\n",
      "       0.79425837, 0.79744817, 0.79904306, 0.80063796, 0.80382775,\n",
      "       0.80382775, 0.80063796, 0.79904306, 0.80063796, 0.79904306]), 'std_test_score': array([0.02971157, 0.03061687, 0.03603696, 0.03005782, 0.03043487,\n",
      "       0.04190064, 0.03992575, 0.04716448, 0.04495561, 0.03749398,\n",
      "       0.0247258 , 0.0160052 , 0.0151103 , 0.01799881, 0.01383885,\n",
      "       0.02678547, 0.02390304, 0.03009722, 0.02525198, 0.0158197 ]), 'rank_test_score': array([16, 17, 17, 19, 20, 15, 11, 11, 13, 14, 10,  9,  6,  3,  1,  1,  3,\n",
      "        6,  3,  6], dtype=int32), 'split0_train_score': array([0.592, 0.592, 0.586, 0.586, 0.586, 0.946, 0.948, 0.954, 0.946,\n",
      "       0.952, 1.   , 1.   , 1.   , 0.998, 0.998, 1.   , 1.   , 1.   ,\n",
      "       1.   , 1.   ]), 'split1_train_score': array([0.58483034, 0.58682635, 0.58882236, 0.59081836, 0.58682635,\n",
      "       0.94211577, 0.93413174, 0.94011976, 0.93812375, 0.94211577,\n",
      "       1.        , 1.        , 1.        , 1.        , 1.        ,\n",
      "       1.        , 1.        , 1.        , 1.        , 1.        ]), 'split2_train_score': array([0.56972112, 0.57968127, 0.58366534, 0.57968127, 0.58565737,\n",
      "       0.93227092, 0.94023904, 0.94023904, 0.94223108, 0.94223108,\n",
      "       1.        , 1.        , 1.        , 1.        , 1.        ,\n",
      "       1.        , 1.        , 1.        , 1.        , 1.        ]), 'split3_train_score': array([0.60756972, 0.59163347, 0.5936255 , 0.59760956, 0.58964143,\n",
      "       0.92828685, 0.93426295, 0.93625498, 0.93426295, 0.93227092,\n",
      "       1.        , 1.        , 1.        , 1.        , 1.        ,\n",
      "       1.        , 1.        , 1.        , 1.        , 1.        ]), 'split4_train_score': array([0.59840954, 0.60437376, 0.60437376, 0.60636183, 0.6083499 ,\n",
      "       0.944334  , 0.94035785, 0.93836978, 0.93638171, 0.94035785,\n",
      "       1.        , 0.99801193, 1.        , 1.        , 1.        ,\n",
      "       1.        , 1.        , 1.        , 1.        , 1.        ]), 'mean_train_score': array([0.59050614, 0.59090297, 0.59129739, 0.59209421, 0.59129501,\n",
      "       0.93860151, 0.93939832, 0.94179671, 0.9393999 , 0.94179512,\n",
      "       1.        , 0.99960239, 1.        , 0.9996    , 0.9996    ,\n",
      "       1.        , 1.        , 1.        , 1.        , 1.        ]), 'std_train_score': array([0.01280698, 0.00807149, 0.00733277, 0.0092394 , 0.00864167,\n",
      "       0.00702022, 0.00509363, 0.00627078, 0.00421196, 0.00628026,\n",
      "       0.        , 0.00079523, 0.        , 0.0008    , 0.0008    ,\n",
      "       0.        , 0.        , 0.        , 0.        , 0.        ])}, 'RF_CM': [[59, 16, 13], [11, 78, 3], [4, 1, 85]]}\n"
     ]
    },
    {
     "data": {
      "image/png": "[encoded data removed]",
      "text/plain": [
       "<Figure size 432x288 with 2 Axes>"
      ]
     },
     "metadata": {},
     "output_type": "display_data"
    }
   ],
   "source": [
    "mallet_report = RandomForest(X_train, X_test, y_train, y_test)\n",
    "print(mallet_report)"
   ]
  },
  {
   "cell_type": "code",
   "execution_count": 167,
   "metadata": {},
   "outputs": [
    {
     "name": "stdout",
     "output_type": "stream",
     "text": [
      "Confusion matrix, without normalization\n",
      "[[48 21 19]\n",
      " [27 65  0]\n",
      " [20 17 53]]\n",
      "{'SVM_cross_val_score': [0.7140784865282259, 0.5440725715573586, 0.6366753563963456, 0.6289388433966748, 0.6714126086718272], 'SVM_mean_acc': 0.6390355733100865, 'SVM_std_acc': 0.11244624501971957, 'SVM_params': {'mean_fit_time': array([0.0183847 , 0.0212595 , 0.01610837, 0.01462669, 0.02218709,\n",
      "       0.01606526, 0.01572428, 0.02399116, 0.01546717, 0.01590805,\n",
      "       0.02153616, 0.01900721, 0.0159647 , 0.0222291 , 0.01539102,\n",
      "       0.01293426, 0.02157021, 0.01560411, 0.0154748 , 0.01920018,\n",
      "       0.01615343]), 'std_fit_time': array([3.10320753e-03, 8.96971817e-04, 1.10303988e-03, 4.12077292e-04,\n",
      "       4.64836838e-04, 3.97337294e-04, 2.46628393e-04, 4.68087032e-03,\n",
      "       7.18843680e-05, 2.19196999e-03, 1.77944644e-03, 1.52791182e-03,\n",
      "       7.47355556e-04, 3.52935298e-03, 2.29942210e-04, 4.29759932e-04,\n",
      "       1.61876722e-03, 3.46003294e-04, 8.77390284e-04, 1.08929649e-03,\n",
      "       9.72852451e-04]), 'mean_score_time': array([0.00388365, 0.00445104, 0.00305772, 0.00279336, 0.00418339,\n",
      "       0.00307808, 0.0030561 , 0.00380683, 0.00300679, 0.00284028,\n",
      "       0.00428882, 0.00481205, 0.00323286, 0.00418367, 0.00297146,\n",
      "       0.00253129, 0.0038898 , 0.00305381, 0.00248003, 0.00373502,\n",
      "       0.00296164]), 'std_score_time': array([0.00158918, 0.00072533, 0.0001903 , 0.00014115, 0.00020062,\n",
      "       0.00014065, 0.00021763, 0.00024468, 0.00023954, 0.00012747,\n",
      "       0.00053275, 0.00195136, 0.00025904, 0.0005588 , 0.00016755,\n",
      "       0.00015135, 0.0003215 , 0.00022309, 0.00025298, 0.00040629,\n",
      "       0.00010137]), 'param_C': masked_array(data=[0.001, 0.001, 0.001, 0.01, 0.01, 0.01, 0.1, 0.1, 0.1,\n",
      "                   1, 1, 1, 10, 10, 10, 100, 100, 100, 1000, 1000, 1000],\n",
      "             mask=[False, False, False, False, False, False, False, False,\n",
      "                   False, False, False, False, False, False, False, False,\n",
      "                   False, False, False, False, False],\n",
      "       fill_value='?',\n",
      "            dtype=object), 'param_kernel': masked_array(data=['linear', 'rbf', 'poly', 'linear', 'rbf', 'poly',\n",
      "                   'linear', 'rbf', 'poly', 'linear', 'rbf', 'poly',\n",
      "                   'linear', 'rbf', 'poly', 'linear', 'rbf', 'poly',\n",
      "                   'linear', 'rbf', 'poly'],\n",
      "             mask=[False, False, False, False, False, False, False, False,\n",
      "                   False, False, False, False, False, False, False, False,\n",
      "                   False, False, False, False, False],\n",
      "       fill_value='?',\n",
      "            dtype=object), 'params': [{'C': 0.001, 'kernel': 'linear'}, {'C': 0.001, 'kernel': 'rbf'}, {'C': 0.001, 'kernel': 'poly'}, {'C': 0.01, 'kernel': 'linear'}, {'C': 0.01, 'kernel': 'rbf'}, {'C': 0.01, 'kernel': 'poly'}, {'C': 0.1, 'kernel': 'linear'}, {'C': 0.1, 'kernel': 'rbf'}, {'C': 0.1, 'kernel': 'poly'}, {'C': 1, 'kernel': 'linear'}, {'C': 1, 'kernel': 'rbf'}, {'C': 1, 'kernel': 'poly'}, {'C': 10, 'kernel': 'linear'}, {'C': 10, 'kernel': 'rbf'}, {'C': 10, 'kernel': 'poly'}, {'C': 100, 'kernel': 'linear'}, {'C': 100, 'kernel': 'rbf'}, {'C': 100, 'kernel': 'poly'}, {'C': 1000, 'kernel': 'linear'}, {'C': 1000, 'kernel': 'rbf'}, {'C': 1000, 'kernel': 'poly'}], 'split0_test_score': array([0.33858268, 0.33858268, 0.33858268, 0.33858268, 0.33858268,\n",
      "       0.33858268, 0.33858268, 0.33858268, 0.33858268, 0.33858268,\n",
      "       0.33858268, 0.33858268, 0.39370079, 0.33858268, 0.33858268,\n",
      "       0.65354331, 0.34645669, 0.33858268, 0.71653543, 0.60629921,\n",
      "       0.33858268]), 'split1_test_score': array([0.33333333, 0.33333333, 0.33333333, 0.33333333, 0.33333333,\n",
      "       0.33333333, 0.33333333, 0.33333333, 0.33333333, 0.33333333,\n",
      "       0.33333333, 0.33333333, 0.38888889, 0.33333333, 0.33333333,\n",
      "       0.54761905, 0.35714286, 0.33333333, 0.53968254, 0.51587302,\n",
      "       0.33333333]), 'split2_test_score': array([0.336, 0.336, 0.336, 0.336, 0.336, 0.336, 0.336, 0.336, 0.336,\n",
      "       0.336, 0.336, 0.336, 0.4  , 0.336, 0.336, 0.64 , 0.352, 0.336,\n",
      "       0.64 , 0.632, 0.336]), 'split3_test_score': array([0.336, 0.336, 0.336, 0.336, 0.336, 0.336, 0.336, 0.336, 0.336,\n",
      "       0.336, 0.336, 0.336, 0.416, 0.336, 0.336, 0.6  , 0.344, 0.336,\n",
      "       0.632, 0.552, 0.336]), 'split4_test_score': array([0.33870968, 0.33870968, 0.33870968, 0.33870968, 0.33870968,\n",
      "       0.33870968, 0.33870968, 0.33870968, 0.33870968, 0.33870968,\n",
      "       0.33870968, 0.33870968, 0.38709677, 0.33870968, 0.33870968,\n",
      "       0.63709677, 0.33870968, 0.33870968, 0.67741935, 0.62096774,\n",
      "       0.33870968]), 'mean_test_score': array([0.33652313, 0.33652313, 0.33652313, 0.33652313, 0.33652313,\n",
      "       0.33652313, 0.33652313, 0.33652313, 0.33652313, 0.33652313,\n",
      "       0.33652313, 0.33652313, 0.39712919, 0.33652313, 0.33652313,\n",
      "       0.61562998, 0.3476874 , 0.33652313, 0.64114833, 0.58532695,\n",
      "       0.33652313]), 'std_test_score': array([0.0019896 , 0.0019896 , 0.0019896 , 0.0019896 , 0.0019896 ,\n",
      "       0.0019896 , 0.0019896 , 0.0019896 , 0.0019896 , 0.0019896 ,\n",
      "       0.0019896 , 0.0019896 , 0.01041963, 0.0019896 , 0.0019896 ,\n",
      "       0.03845667, 0.00637432, 0.0019896 , 0.05913702, 0.0443329 ,\n",
      "       0.0019896 ]), 'rank_test_score': array([6, 6, 6, 6, 6, 6, 6, 6, 6, 6, 6, 6, 4, 6, 6, 2, 5, 6, 1, 3, 6],\n",
      "      dtype=int32), 'split0_train_score': array([0.336, 0.336, 0.336, 0.336, 0.336, 0.336, 0.336, 0.336, 0.336,\n",
      "       0.336, 0.336, 0.336, 0.398, 0.336, 0.336, 0.654, 0.342, 0.336,\n",
      "       0.704, 0.634, 0.336]), 'split1_train_score': array([0.33732535, 0.33732535, 0.33732535, 0.33732535, 0.33732535,\n",
      "       0.33732535, 0.33732535, 0.33732535, 0.33732535, 0.33732535,\n",
      "       0.33732535, 0.33732535, 0.40319361, 0.33732535, 0.33732535,\n",
      "       0.68662675, 0.3493014 , 0.33732535, 0.72055888, 0.67864271,\n",
      "       0.33732535]), 'split2_train_score': array([0.33665339, 0.33665339, 0.33665339, 0.33665339, 0.33665339,\n",
      "       0.33665339, 0.33665339, 0.33665339, 0.33665339, 0.33665339,\n",
      "       0.33665339, 0.33665339, 0.4063745 , 0.33665339, 0.33665339,\n",
      "       0.65936255, 0.35059761, 0.33665339, 0.71713147, 0.65139442,\n",
      "       0.33665339]), 'split3_train_score': array([0.33665339, 0.33665339, 0.33665339, 0.33665339, 0.33665339,\n",
      "       0.33665339, 0.33665339, 0.33665339, 0.33665339, 0.33665339,\n",
      "       0.33665339, 0.33665339, 0.44820717, 0.33665339, 0.33665339,\n",
      "       0.6752988 , 0.34661355, 0.33665339, 0.69920319, 0.63944223,\n",
      "       0.33665339]), 'split4_train_score': array([0.3359841 , 0.3359841 , 0.3359841 , 0.3359841 , 0.3359841 ,\n",
      "       0.3359841 , 0.3359841 , 0.3359841 , 0.3359841 , 0.3359841 ,\n",
      "       0.3359841 , 0.3359841 , 0.41550696, 0.3359841 , 0.3359841 ,\n",
      "       0.69184891, 0.34791252, 0.3359841 , 0.71769384, 0.65805169,\n",
      "       0.3359841 ]), 'mean_train_score': array([0.33652324, 0.33652324, 0.33652324, 0.33652324, 0.33652324,\n",
      "       0.33652324, 0.33652324, 0.33652324, 0.33652324, 0.33652324,\n",
      "       0.33652324, 0.33652324, 0.41425645, 0.33652324, 0.33652324,\n",
      "       0.6734274 , 0.34728502, 0.33652324, 0.71171748, 0.65230621,\n",
      "       0.33652324]), 'std_train_score': array([0.00049834, 0.00049834, 0.00049834, 0.00049834, 0.00049834,\n",
      "       0.00049834, 0.00049834, 0.00049834, 0.00049834, 0.00049834,\n",
      "       0.00049834, 0.00049834, 0.0179053 , 0.00049834, 0.00049834,\n",
      "       0.01478053, 0.00296024, 0.00049834, 0.0084778 , 0.01567197,\n",
      "       0.00049834])}, 'SVM_CM': [[48, 21, 19], [27, 65, 0], [20, 17, 53]]}\n"
     ]
    },
    {
     "data": {
      "image/png": "[encoded data removed]",
      "text/plain": [
       "<Figure size 432x288 with 2 Axes>"
      ]
     },
     "metadata": {},
     "output_type": "display_data"
    }
   ],
   "source": [
    "mallet_report = SVMClassifier(X_train, X_test, y_train, y_test)\n",
    "print(mallet_report)"
   ]
  },
  {
   "cell_type": "code",
   "execution_count": null,
   "metadata": {},
   "outputs": [],
   "source": []
  },
  {
   "cell_type": "code",
   "execution_count": null,
   "metadata": {},
   "outputs": [],
   "source": []
  }
 ],
 "metadata": {
  "kernelspec": {
   "display_name": "Python 3",
   "language": "python",
   "name": "python3"
  },
  "language_info": {
   "codemirror_mode": {
    "name": "ipython",
    "version": 3
   },
   "file_extension": ".py",
   "mimetype": "text/x-python",
   "name": "python",
   "nbconvert_exporter": "python",
   "pygments_lexer": "ipython3",
   "version": "3.6.5"
  }
 },
 "nbformat": 4,
 "nbformat_minor": 2
}
