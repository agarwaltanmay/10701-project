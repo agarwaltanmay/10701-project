{
 "cells": [
  {
   "cell_type": "markdown",
   "metadata": {},
   "source": [
    "# Machine Learning Course Project\n",
    "## Identifying User Stance On Social Media via Semi-Supervised Learning"
   ]
  },
  {
   "cell_type": "markdown",
   "metadata": {},
   "source": [
    "### Overview\n",
    "\n",
    "#### Midsem Pipeline - \n",
    "\n",
    " - **Read Data**: Read text files to load all the words. \n",
    " - **Clean Data**: Remove stop-words, everything lowercase, dehashify hashtags.\n",
    " - **Format Data**: Create data in a format required by each baseline method. \n",
    " - **Baseline Approaches**: LSA, pLSA, Para2Vec, LDA Topic Modelling. The goal of these approaches is to create a \"FIXED SIZE\" and \"HIGH LEVEL\" feature representation for variable length tweets. These representations leverage our unlabelled data. \n",
    " - **Training**: Some Supervised Learning on the learned representation using the given labels. \n",
    " - **Evaluation**: Compare the different methods mentioned above on different datasets. \n",
    "\n",
    "#### Endsem Approaches - \n",
    " - LDA2Vec - https://www.datacamp.com/community/tutorials/lda2vec-topic-model\n",
    " - Gaussian LDA - https://rajarshd.github.io/papers/acl2015.pdf\n",
    " - Word Embeddings Informed Topic Models - http://proceedings.mlr.press/v77/zhao17a/zhao17a.pdf\n",
    " \n",
    "#### Reference\n",
    " - https://www.machinelearningplus.com/nlp/topic-modeling-gensim-python/"
   ]
  },
  {
   "cell_type": "markdown",
   "metadata": {},
   "source": [
    "## Constants"
   ]
  },
  {
   "cell_type": "code",
   "execution_count": 1,
   "metadata": {},
   "outputs": [],
   "source": [
    "# PATH_LABELLED_DATA_TRAINING = \"../semeval2016-task6-domaincorpus/data-all-annotations/trainingdata-all-annotations.txt\"\n",
    "PATH_LABELLED_DATA_TRUMP = \"../semeval2016-task6-domaincorpus/data-all-annotations/testdata-taskB-all-annotations.txt\"\n",
    "PATH_UNLABELLED_DATA_TRUMP = \"./../semeval2016-task6-domaincorpus/downloaded_Donald_Trump.txt\""
   ]
  },
  {
   "cell_type": "markdown",
   "metadata": {},
   "source": [
    "## Data "
   ]
  },
  {
   "cell_type": "code",
   "execution_count": 2,
   "metadata": {},
   "outputs": [],
   "source": [
    "# SETUP\n",
    "# # Run in python console\n",
    "# import nltk; nltk.download('stopwords')\n",
    "\n",
    "# # Run in terminal or command prompt\n",
    "# !python -m spacy download en"
   ]
  },
  {
   "cell_type": "code",
   "execution_count": 3,
   "metadata": {},
   "outputs": [],
   "source": [
    "# !pip install gensim\n",
    "# !pip install pyLDAvis"
   ]
  },
  {
   "cell_type": "code",
   "execution_count": 4,
   "metadata": {},
   "outputs": [],
   "source": [
    "import pandas as pd\n",
    "import numpy as np\n",
    "import re\n",
    "from pprint import pprint\n",
    "\n",
    "# Gensim\n",
    "import gensim\n",
    "import gensim.corpora as corpora\n",
    "from gensim.utils import simple_preprocess\n",
    "from gensim.models import CoherenceModel\n",
    "from gensim.models import LsiModel\n",
    "from gensim.models.doc2vec import Doc2Vec, TaggedDocument\n",
    "\n",
    "# spacy for lemmatization\n",
    "import spacy\n",
    "\n",
    "# Plotting tools\n",
    "import pyLDAvis\n",
    "import pyLDAvis.gensim  # don't skip this\n",
    "import matplotlib.pyplot as plt\n",
    "%matplotlib inline\n",
    "\n",
    "# Enable logging for gensim - optional\n",
    "import logging\n",
    "logging.basicConfig(format='%(asctime)s : %(levelname)s : %(message)s', level=logging.ERROR)\n",
    "\n",
    "import warnings\n",
    "warnings.filterwarnings(\"ignore\",category=DeprecationWarning)"
   ]
  },
  {
   "cell_type": "code",
   "execution_count": 5,
   "metadata": {},
   "outputs": [],
   "source": [
    "from nltk.corpus import stopwords\n",
    "stop_words = stopwords.words('english')\n",
    "stop_words.extend(['via'])"
   ]
  },
  {
   "cell_type": "markdown",
   "metadata": {},
   "source": [
    "### Read Sem-Eval Task A Data (Labelled)\n",
    "\n",
    "Interactive Visualization - http://www.saifmohammad.com/WebPages/StanceDataset.htm\n",
    "\n",
    "Targets - \n",
    " - Hilary Clinton\n",
    " - Atheism\n",
    " - Climate Change\n",
    " - Donald Trump\n",
    " - Feminism\n",
    " - Abortion"
   ]
  },
  {
   "cell_type": "markdown",
   "metadata": {},
   "source": [
    "### Remove Symbols"
   ]
  },
  {
   "cell_type": "code",
   "execution_count": 6,
   "metadata": {},
   "outputs": [],
   "source": [
    "def clean_tweets(sent):\n",
    "    sent = str(sent)\n",
    "    \n",
    "    # Remove new line characters\n",
    "    sent = re.sub('\\s+', ' ', sent)\n",
    "\n",
    "    # Remove distracting single quotes\n",
    "    sent = re.sub(\"\\'\", \"\", sent)\n",
    "\n",
    "    # Remove distracting single quotes\n",
    "    sent = re.sub(\"\\\"\", \"\", sent)\n",
    "\n",
    "    # Remove hashtags\n",
    "    sent = re.sub(\"\\#\", \"\", sent)\n",
    "\n",
    "    # Remove http:// links\n",
    "    sent = re.sub('http:\\/\\/.*','', sent)\n",
    "\n",
    "    # Remove https:// links\n",
    "    sent = re.sub('https:\\/\\/.*','', sent)\n",
    "    \n",
    "    # Remove emojis\n",
    "#     emoji_pattern = re.compile(\"[\"\n",
    "#         u\"\\U0001F600-\\U0001F64F\"  # emoticons\n",
    "#         u\"\\U0001F300-\\U0001F5FF\"  # symbols & pictographs\n",
    "#         u\"\\U0001F680-\\U0001F6FF\"  # transport & map symbols\n",
    "#         u\"\\U0001F1E0-\\U0001F1FF\"  # flags (iOS)\n",
    "#                            \"]+\", flags=re.UNICODE)\n",
    "    \n",
    "#     sent = emoji_pattern.sub(r'', sent)\n",
    "    \n",
    "    return sent\n",
    "    "
   ]
  },
  {
   "cell_type": "code",
   "execution_count": 7,
   "metadata": {},
   "outputs": [],
   "source": [
    "X_train = pd.read_pickle('X_train.pkl')\n",
    "X_test = pd.read_pickle('X_test.pkl')\n",
    "y_train = pd.read_pickle('y_train.pkl')\n",
    "y_test = pd.read_pickle('y_test.pkl')\n",
    "\n",
    "data_X = pd.concat([X_train, X_test], ignore_index=True, axis=0)\n",
    "data_y = pd.concat([y_train, y_test], ignore_index=True, axis=0)\n",
    "data_labelled = pd.concat([data_X, data_y], ignore_index=True, axis=1)\n",
    "data_labelled.columns = ['Tweet', 'Stance']\n",
    "# data_labelled = pd.DataFrame([data_labelled], columns = ['Tweet', 'Stance'])\n",
    "# data_labelled = data_labelled.where(data_labelled.Target != np.nan)"
   ]
  },
  {
   "cell_type": "markdown",
   "metadata": {},
   "source": [
    "#### Data Stats"
   ]
  },
  {
   "cell_type": "code",
   "execution_count": 8,
   "metadata": {},
   "outputs": [
    {
     "data": {
      "text/plain": [
       "Tweet     299\n",
       "Stance    299\n",
       "dtype: int64"
      ]
     },
     "execution_count": 8,
     "metadata": {},
     "output_type": "execute_result"
    }
   ],
   "source": [
    "data_labelled.where(data_labelled.Stance == 'AGAINST').count()"
   ]
  },
  {
   "cell_type": "code",
   "execution_count": 9,
   "metadata": {},
   "outputs": [
    {
     "data": {
      "text/plain": [
       "Tweet     299\n",
       "Stance    299\n",
       "dtype: int64"
      ]
     },
     "execution_count": 9,
     "metadata": {},
     "output_type": "execute_result"
    }
   ],
   "source": [
    "data_labelled.where(data_labelled.Stance == 'NONE').count()"
   ]
  },
  {
   "cell_type": "code",
   "execution_count": 10,
   "metadata": {},
   "outputs": [
    {
     "data": {
      "text/plain": [
       "Tweet     299\n",
       "Stance    299\n",
       "dtype: int64"
      ]
     },
     "execution_count": 10,
     "metadata": {},
     "output_type": "execute_result"
    }
   ],
   "source": [
    "data_labelled.where(data_labelled.Stance == 'FAVOR').count()"
   ]
  },
  {
   "cell_type": "markdown",
   "metadata": {},
   "source": [
    "### Read Sem-Eval Task B Data (Unlabelled)"
   ]
  },
  {
   "cell_type": "code",
   "execution_count": 11,
   "metadata": {},
   "outputs": [],
   "source": [
    "data_unlabelled = pd.read_csv(PATH_UNLABELLED_DATA_TRUMP, sep='\\t', lineterminator='\\n', encoding ='latin1', names = [\"ID\", \"Tweet\"])\n",
    "data_unlabelled = data_unlabelled.where(data_unlabelled.Tweet != 'Not Available')\n",
    "data_unlabelled.dropna(how='any', inplace=True)\n",
    "data_unlabelled['Tweet'] = data_unlabelled['Tweet'].apply(lambda x: x[1:])\n",
    "data_unlabelled['Tweet'] = data_unlabelled['Tweet'].apply(clean_tweets)\n",
    "# data_unlabelled = data_unlabelled[:1000]\n",
    "# data_unlabelled['Tweet'] = data_unlabelled['Tweet'].str.decode('latin1')"
   ]
  },
  {
   "cell_type": "code",
   "execution_count": 12,
   "metadata": {},
   "outputs": [],
   "source": [
    "combined_data = pd.concat([data_labelled], ignore_index=True)"
   ]
  },
  {
   "cell_type": "code",
   "execution_count": 13,
   "metadata": {},
   "outputs": [
    {
     "data": {
      "text/plain": [
       "Tweet     897\n",
       "Stance    897\n",
       "dtype: int64"
      ]
     },
     "execution_count": 13,
     "metadata": {},
     "output_type": "execute_result"
    }
   ],
   "source": [
    "combined_data.count()"
   ]
  },
  {
   "cell_type": "code",
   "execution_count": 14,
   "metadata": {
    "scrolled": true
   },
   "outputs": [
    {
     "data": {
      "text/html": [
       "<div>\n",
       "<style scoped>\n",
       "    .dataframe tbody tr th:only-of-type {\n",
       "        vertical-align: middle;\n",
       "    }\n",
       "\n",
       "    .dataframe tbody tr th {\n",
       "        vertical-align: top;\n",
       "    }\n",
       "\n",
       "    .dataframe thead th {\n",
       "        text-align: right;\n",
       "    }\n",
       "</style>\n",
       "<table border=\"1\" class=\"dataframe\">\n",
       "  <thead>\n",
       "    <tr style=\"text-align: right;\">\n",
       "      <th></th>\n",
       "      <th>Tweet</th>\n",
       "      <th>Stance</th>\n",
       "    </tr>\n",
       "  </thead>\n",
       "  <tbody>\n",
       "    <tr>\n",
       "      <th>0</th>\n",
       "      <td>Today &amp; everyday I am proud to be an American....</td>\n",
       "      <td>AGAINST</td>\n",
       "    </tr>\n",
       "    <tr>\n",
       "      <th>1</th>\n",
       "      <td>@JonathanHoenig Why arent Americans allowed WE...</td>\n",
       "      <td>NONE</td>\n",
       "    </tr>\n",
       "    <tr>\n",
       "      <th>2</th>\n",
       "      <td>@toddstarnes Marriage is designed and defined ...</td>\n",
       "      <td>NONE</td>\n",
       "    </tr>\n",
       "    <tr>\n",
       "      <th>3</th>\n",
       "      <td>@realDonaldTrump we need someone like you who ...</td>\n",
       "      <td>FAVOR</td>\n",
       "    </tr>\n",
       "    <tr>\n",
       "      <th>4</th>\n",
       "      <td>@Dahat8 @Stonewall_77 The HATE within America ...</td>\n",
       "      <td>AGAINST</td>\n",
       "    </tr>\n",
       "    <tr>\n",
       "      <th>5</th>\n",
       "      <td>@Rene_gadeCowboy @danoroadblade yes but if a c...</td>\n",
       "      <td>NONE</td>\n",
       "    </tr>\n",
       "    <tr>\n",
       "      <th>6</th>\n",
       "      <td>@FFRNNU Maybe MSM should be talking more about...</td>\n",
       "      <td>AGAINST</td>\n",
       "    </tr>\n",
       "    <tr>\n",
       "      <th>7</th>\n",
       "      <td>@realDonaldTrump had a point and one the liber...</td>\n",
       "      <td>FAVOR</td>\n",
       "    </tr>\n",
       "    <tr>\n",
       "      <th>8</th>\n",
       "      <td>Did anyone cut ties with Senator Lindsey Graha...</td>\n",
       "      <td>AGAINST</td>\n",
       "    </tr>\n",
       "    <tr>\n",
       "      <th>9</th>\n",
       "      <td>@GOP If you can not debate Trump, you should n...</td>\n",
       "      <td>FAVOR</td>\n",
       "    </tr>\n",
       "  </tbody>\n",
       "</table>\n",
       "</div>"
      ],
      "text/plain": [
       "                                               Tweet   Stance\n",
       "0  Today & everyday I am proud to be an American....  AGAINST\n",
       "1  @JonathanHoenig Why arent Americans allowed WE...     NONE\n",
       "2  @toddstarnes Marriage is designed and defined ...     NONE\n",
       "3  @realDonaldTrump we need someone like you who ...    FAVOR\n",
       "4  @Dahat8 @Stonewall_77 The HATE within America ...  AGAINST\n",
       "5  @Rene_gadeCowboy @danoroadblade yes but if a c...     NONE\n",
       "6  @FFRNNU Maybe MSM should be talking more about...  AGAINST\n",
       "7  @realDonaldTrump had a point and one the liber...    FAVOR\n",
       "8  Did anyone cut ties with Senator Lindsey Graha...  AGAINST\n",
       "9  @GOP If you can not debate Trump, you should n...    FAVOR"
      ]
     },
     "execution_count": 14,
     "metadata": {},
     "output_type": "execute_result"
    }
   ],
   "source": [
    "combined_data.head(10)"
   ]
  },
  {
   "cell_type": "markdown",
   "metadata": {},
   "source": []
  },
  {
   "cell_type": "code",
   "execution_count": 15,
   "metadata": {},
   "outputs": [],
   "source": [
    "df = combined_data['Tweet']\n",
    "# df = data_labelled['Tweet']"
   ]
  },
  {
   "cell_type": "code",
   "execution_count": 16,
   "metadata": {},
   "outputs": [
    {
     "name": "stdout",
     "output_type": "stream",
     "text": [
      "['Today & everyday I am proud to be an American. Im honored to be apart of the '\n",
      " 'best the world has to offer! 4thofJuly SemST']\n"
     ]
    }
   ],
   "source": [
    "data = df.values.tolist()\n",
    "pprint(data[:1])"
   ]
  },
  {
   "cell_type": "markdown",
   "metadata": {},
   "source": [
    "### Sentences To Words"
   ]
  },
  {
   "cell_type": "code",
   "execution_count": 17,
   "metadata": {},
   "outputs": [
    {
     "name": "stdout",
     "output_type": "stream",
     "text": [
      "[['today',\n",
      "  'everyday',\n",
      "  'am',\n",
      "  'proud',\n",
      "  'to',\n",
      "  'be',\n",
      "  'an',\n",
      "  'american',\n",
      "  'im',\n",
      "  'honored',\n",
      "  'to',\n",
      "  'be',\n",
      "  'apart',\n",
      "  'of',\n",
      "  'the',\n",
      "  'best',\n",
      "  'the',\n",
      "  'world',\n",
      "  'has',\n",
      "  'to',\n",
      "  'offer',\n",
      "  'thofjuly',\n",
      "  'semst']]\n"
     ]
    }
   ],
   "source": [
    "def sent_to_words(sentences):\n",
    "    for sentence in sentences:\n",
    "        yield(gensim.utils.simple_preprocess(str(sentence), deacc=True))  # deacc=True removes punctuations\n",
    "\n",
    "data_words = list(sent_to_words(data))\n",
    "\n",
    "pprint(data_words[:1])"
   ]
  },
  {
   "cell_type": "markdown",
   "metadata": {},
   "source": [
    "### Create Bi-Grams Tri-Grams"
   ]
  },
  {
   "cell_type": "code",
   "execution_count": 18,
   "metadata": {},
   "outputs": [
    {
     "name": "stdout",
     "output_type": "stream",
     "text": [
      "['today', 'everyday', 'am', 'proud', 'to', 'be', 'an', 'american', 'im', 'honored', 'to', 'be', 'apart', 'of', 'the', 'best', 'the', 'world', 'has', 'to', 'offer', 'thofjuly', 'semst']\n"
     ]
    }
   ],
   "source": [
    "# Build the bigram and trigram models\n",
    "bigram = gensim.models.Phrases(data_words, min_count=5, threshold=100) # higher threshold fewer phrases.\n",
    "trigram = gensim.models.Phrases(bigram[data_words], threshold=100)  \n",
    "\n",
    "# Faster way to get a sentence clubbed as a trigram/bigram\n",
    "bigram_mod = gensim.models.phrases.Phraser(bigram)\n",
    "trigram_mod = gensim.models.phrases.Phraser(trigram)\n",
    "\n",
    "# See trigram example\n",
    "print(trigram_mod[bigram_mod[data_words[0]]])"
   ]
  },
  {
   "cell_type": "markdown",
   "metadata": {},
   "source": [
    "### Remove Stop Words and Lemmatize\n",
    "\n",
    "WE NEED PRONOUNS FOR STANCE"
   ]
  },
  {
   "cell_type": "code",
   "execution_count": 19,
   "metadata": {},
   "outputs": [],
   "source": [
    "# Define functions for stopwords, bigrams, trigrams and lemmatization\n",
    "def remove_stopwords(texts):\n",
    "    return [[word for word in simple_preprocess(str(doc)) if word not in stop_words] for doc in texts]\n",
    "\n",
    "def make_bigrams(texts):\n",
    "    return [bigram_mod[doc] for doc in texts]\n",
    "\n",
    "def make_trigrams(texts):\n",
    "    return [trigram_mod[bigram_mod[doc]] for doc in texts]\n",
    "\n",
    "def lemmatization(texts, allowed_postags=['NOUN', 'ADJ', 'VERB', 'ADV', 'PRON']):\n",
    "    \"\"\"https://spacy.io/api/annotation\"\"\"\n",
    "    texts_out = []\n",
    "    for sent in texts:\n",
    "        doc = nlp(\" \".join(sent)) \n",
    "        texts_out.append([token.lemma_ for token in doc if token.pos_ in allowed_postags])\n",
    "    return texts_out"
   ]
  },
  {
   "cell_type": "code",
   "execution_count": 20,
   "metadata": {},
   "outputs": [
    {
     "name": "stdout",
     "output_type": "stream",
     "text": [
      "[['today', 'everyday', 'proud', '-PRON-', 'be', 'honor', 'apart', 'good', 'world', 'offer', 'thofjuly', 'semst']]\n",
      "897\n"
     ]
    },
    {
     "data": {
      "text/plain": [
       "(None, None)"
      ]
     },
     "execution_count": 20,
     "metadata": {},
     "output_type": "execute_result"
    }
   ],
   "source": [
    "# Remove Stop Words\n",
    "data_words_nostops = remove_stopwords(data_words)\n",
    "\n",
    "# Form Bigrams\n",
    "data_words_bigrams = make_bigrams(data_words_nostops)\n",
    "\n",
    "# Initialize spacy 'en' model, keeping only tagger component (for efficiency)\n",
    "# python3 -m spacy download en\n",
    "nlp = spacy.load('en', disable=['parser', 'ner'])\n",
    "\n",
    "# Do lemmatization keeping only noun, adj, vb, adv\n",
    "data_lemmatized = lemmatization(data_words_bigrams, allowed_postags=['NOUN', 'ADJ', 'VERB', 'ADV', 'PRON'])\n",
    "\n",
    "print(data_lemmatized[:1]), print(len(data_lemmatized))"
   ]
  },
  {
   "cell_type": "markdown",
   "metadata": {},
   "source": [
    "## Format Data"
   ]
  },
  {
   "cell_type": "code",
   "execution_count": 21,
   "metadata": {},
   "outputs": [],
   "source": [
    "# Create Corpus\n",
    "texts = data_lemmatized\n",
    "\n",
    "def read_corpus(texts, tokens_only=False):\n",
    "    for i, line in enumerate(texts):\n",
    "        if tokens_only:\n",
    "            yield line\n",
    "        else:\n",
    "            # For training data, add tags\n",
    "            yield gensim.models.doc2vec.TaggedDocument(line, [i])\n",
    "\n",
    "corpus = list(read_corpus(texts))"
   ]
  },
  {
   "cell_type": "code",
   "execution_count": 22,
   "metadata": {},
   "outputs": [],
   "source": [
    "model = gensim.models.doc2vec.Doc2Vec(vector_size=50, min_count=2, epochs=40)"
   ]
  },
  {
   "cell_type": "code",
   "execution_count": 23,
   "metadata": {},
   "outputs": [],
   "source": [
    "model.build_vocab(corpus)"
   ]
  },
  {
   "cell_type": "code",
   "execution_count": 24,
   "metadata": {},
   "outputs": [
    {
     "name": "stdout",
     "output_type": "stream",
     "text": [
      "CPU times: user 1.13 s, sys: 26.4 ms, total: 1.16 s\n",
      "Wall time: 1.17 s\n"
     ]
    }
   ],
   "source": [
    "%time model.train(corpus, total_examples=model.corpus_count, epochs=model.epochs)"
   ]
  },
  {
   "cell_type": "code",
   "execution_count": 25,
   "metadata": {},
   "outputs": [],
   "source": [
    "# vectors = read_corpus(corpus, tokens_only=True)"
   ]
  },
  {
   "cell_type": "markdown",
   "metadata": {},
   "source": [
    "## Evaluation"
   ]
  },
  {
   "cell_type": "markdown",
   "metadata": {},
   "source": [
    "### Format Labelled Data"
   ]
  },
  {
   "cell_type": "code",
   "execution_count": 26,
   "metadata": {},
   "outputs": [
    {
     "data": {
      "text/plain": [
       "897"
      ]
     },
     "execution_count": 26,
     "metadata": {},
     "output_type": "execute_result"
    }
   ],
   "source": [
    "labelled_corpus = corpus[-897:]\n",
    "len(labelled_corpus)"
   ]
  },
  {
   "cell_type": "markdown",
   "metadata": {},
   "source": [
    "### Create Dataset for Supervised Learning"
   ]
  },
  {
   "cell_type": "code",
   "execution_count": 27,
   "metadata": {},
   "outputs": [],
   "source": [
    "mallet_feats = []\n",
    "\n",
    "for i in range(len(labelled_corpus)):\n",
    "    representation = model.infer_vector(labelled_corpus[i].words)\n",
    "    mallet_feats.append(representation)"
   ]
  },
  {
   "cell_type": "code",
   "execution_count": 28,
   "metadata": {},
   "outputs": [],
   "source": [
    "STANCES = ['AGAINST', 'FAVOR', 'NONE']"
   ]
  },
  {
   "cell_type": "code",
   "execution_count": 29,
   "metadata": {},
   "outputs": [],
   "source": [
    "def transform_labels(label):\n",
    "    if label == 'AGAINST':\n",
    "        return 0\n",
    "    elif label == 'FAVOR':\n",
    "        return 1\n",
    "    elif label == 'NONE':\n",
    "        return 2"
   ]
  },
  {
   "cell_type": "code",
   "execution_count": 30,
   "metadata": {},
   "outputs": [],
   "source": [
    "# labelled_stance = combined_data.Stance[53616:54323]\n",
    "labelled_stance = data_labelled['Stance']\n",
    "labelled_stance = labelled_stance.apply(transform_labels)\n",
    "labelled_stance = labelled_stance.tolist()"
   ]
  },
  {
   "cell_type": "code",
   "execution_count": 31,
   "metadata": {},
   "outputs": [
    {
     "data": {
      "text/plain": [
       "(50, 897)"
      ]
     },
     "execution_count": 31,
     "metadata": {},
     "output_type": "execute_result"
    }
   ],
   "source": [
    "len(mallet_feats[0]), len(mallet_feats)"
   ]
  },
  {
   "cell_type": "markdown",
   "metadata": {},
   "source": [
    "## Supervised Learning"
   ]
  },
  {
   "cell_type": "code",
   "execution_count": 32,
   "metadata": {},
   "outputs": [],
   "source": [
    "from sklearn import svm\n",
    "from sklearn import tree\n",
    "from sklearn.model_selection import train_test_split\n",
    "from sklearn.metrics import confusion_matrix\n",
    "from sklearn.ensemble import RandomForestClassifier\n",
    "from sklearn.model_selection import cross_val_score\n",
    "from sklearn.model_selection import ShuffleSplit\n",
    "from sklearn.naive_bayes import GaussianNB\n",
    "from sklearn.model_selection import GridSearchCV\n",
    "import argparse\n",
    "from sklearn.utils.multiclass import unique_labels"
   ]
  },
  {
   "cell_type": "code",
   "execution_count": 33,
   "metadata": {},
   "outputs": [],
   "source": [
    "## Create Train Test Split\n",
    "X_train = mallet_feats[:627]\n",
    "X_test = mallet_feats[627:]\n",
    "y_train = labelled_stance[:627]\n",
    "y_test = labelled_stance[627:]"
   ]
  },
  {
   "cell_type": "code",
   "execution_count": 34,
   "metadata": {},
   "outputs": [],
   "source": [
    "def plot_confusion_matrix(y_true, y_pred, classes,\n",
    "                          normalize=False,\n",
    "                          title=None,\n",
    "                          cmap=plt.cm.Blues):\n",
    "    \"\"\"\n",
    "    This function prints and plots the confusion matrix.\n",
    "    Normalization can be applied by setting `normalize=True`.\n",
    "    \"\"\"\n",
    "    if not title:\n",
    "        if normalize:\n",
    "            title = 'Normalized confusion matrix'\n",
    "        else:\n",
    "            title = 'Confusion matrix, without normalization'\n",
    "\n",
    "    # Compute confusion matrix\n",
    "    cm = confusion_matrix(y_true, y_pred)\n",
    "    # Only use the labels that appear in the data\n",
    "#     classes = classes[unique_labels(y_true, y_pred)]\n",
    "    if normalize:\n",
    "        cm = cm.astype('float') / cm.sum(axis=1)[:, np.newaxis]\n",
    "        print(\"Normalized confusion matrix\")\n",
    "    else:\n",
    "        print('Confusion matrix, without normalization')\n",
    "\n",
    "    print(cm)\n",
    "\n",
    "    fig, ax = plt.subplots()\n",
    "    im = ax.imshow(cm, interpolation='nearest', cmap=cmap)\n",
    "    ax.figure.colorbar(im, ax=ax)\n",
    "    # We want to show all ticks...\n",
    "    ax.set(xticks=np.arange(cm.shape[1]),\n",
    "           yticks=np.arange(cm.shape[0]),\n",
    "           # ... and label them with the respective list entries\n",
    "           xticklabels=classes, yticklabels=classes,\n",
    "           title=title,\n",
    "           ylabel='True label',\n",
    "           xlabel='Predicted label')\n",
    "\n",
    "    # Rotate the tick labels and set their alignment.\n",
    "    plt.setp(ax.get_xticklabels(), rotation=45, ha=\"right\",\n",
    "             rotation_mode=\"anchor\")\n",
    "\n",
    "    # Loop over data dimensions and create text annotations.\n",
    "    fmt = '.2f' if normalize else 'd'\n",
    "    thresh = cm.max() / 2.\n",
    "    for i in range(cm.shape[0]):\n",
    "        for j in range(cm.shape[1]):\n",
    "            ax.text(j, i, format(cm[i, j], fmt),\n",
    "                    ha=\"center\", va=\"center\",\n",
    "                    color=\"white\" if cm[i, j] > thresh else \"black\")\n",
    "    fig.tight_layout()\n",
    "    return ax"
   ]
  },
  {
   "cell_type": "code",
   "execution_count": 35,
   "metadata": {},
   "outputs": [],
   "source": [
    "def RandomForest(X_train, X_test, y_train, y_test):\n",
    "    \n",
    "    # GRID SEARCH\n",
    "    parameters = {'n_estimators':range(100,600,100), 'max_depth':range(1,20,5)}\n",
    "    rlf = RandomForestClassifier(random_state=0)\n",
    "    rlf = GridSearchCV(rlf, parameters, cv=5)\n",
    "    rlf.fit(X_train, y_train)\n",
    "    \n",
    "    y_pred = rlf.predict(X_test)\n",
    "\n",
    "    rf_cm = confusion_matrix(y_test, y_pred)\n",
    "    plot_confusion_matrix(y_test, y_pred, classes=STANCES,\n",
    "                      title='Confusion matrix, without normalization')\n",
    "\n",
    "    rf_cv = cross_val_score(rlf, X_train, y_train, cv=5, scoring='f1_macro')\n",
    "    report = {}\n",
    "    report[\"RF_cross_val_score\"] = rf_cv.tolist()\n",
    "    report[\"RF_mean_acc\"] = rf_cv.mean()\n",
    "    report[\"RF_std_acc\"] = rf_cv.std()*2\n",
    "    report[\"RF_params\"] = rlf.cv_results_\n",
    "    \n",
    "    report[\"RF_CM\"] = rf_cm.tolist()\n",
    "\n",
    "    \n",
    "    return report"
   ]
  },
  {
   "cell_type": "code",
   "execution_count": 36,
   "metadata": {},
   "outputs": [],
   "source": [
    "def SVMClassifier(X_train, X_test, y_train, y_test):\n",
    "\n",
    "    parameters = {'kernel':['linear','rbf','poly'], 'C':[0.001, 0.01, 0.1, 1, 10, 100, 1000]}\n",
    "    \n",
    "    clf = svm.SVC(gamma='auto')\n",
    "    clf = GridSearchCV(clf, parameters, cv=5)\n",
    "    clf.fit(X_train, y_train)\n",
    "    \n",
    "    clf_cv = cross_val_score(clf, X_train, y_train, cv=5, scoring='f1_macro')\n",
    "    report = {}\n",
    "    report[\"SVM_cross_val_score\"] = clf_cv.tolist()\n",
    "    report[\"SVM_mean_acc\"] = clf_cv.mean()\n",
    "    report[\"SVM_std_acc\"] = clf_cv.std()*2\n",
    "    report[\"SVM_params\"] = clf.cv_results_\n",
    "\n",
    "    \n",
    "    y_pred = clf.predict(X_test)\n",
    "\n",
    "    clf_cm = confusion_matrix(y_test, y_pred)\n",
    "    plot_confusion_matrix(y_test, y_pred, classes=STANCES,\n",
    "                      title='Confusion matrix, without normalization')\n",
    "\n",
    "    report[\"SVM_CM\"] = clf_cm.tolist()\n",
    "\n",
    "    \n",
    "    return report\n",
    "    "
   ]
  },
  {
   "cell_type": "code",
   "execution_count": 37,
   "metadata": {},
   "outputs": [
    {
     "name": "stdout",
     "output_type": "stream",
     "text": [
      "Confusion matrix, without normalization\n",
      "[[59 11 18]\n",
      " [ 6 76 10]\n",
      " [ 5  8 77]]\n",
      "{'RF_cross_val_score': [0.7794734247943896, 0.7394613457671125, 0.7142660106515528, 0.7517489128379656, 0.763321731222157], 'RF_mean_acc': 0.7496542850546356, 'RF_std_acc': 0.044150593397224325, 'RF_params': {'mean_fit_time': array([0.16073227, 0.25824914, 0.43398123, 0.68975163, 0.78171763,\n",
      "       0.28928928, 0.47007365, 0.66703343, 0.82642102, 1.03467565,\n",
      "       0.24991603, 0.47931237, 0.70511723, 0.95147424, 1.17954788,\n",
      "       0.24656277, 0.48630953, 0.74260912, 1.23139558, 1.34026442]), 'std_fit_time': array([0.03198381, 0.00636198, 0.04193589, 0.11831808, 0.14366058,\n",
      "       0.06083514, 0.02077167, 0.07081836, 0.02101496, 0.01552898,\n",
      "       0.029599  , 0.02258662, 0.02101132, 0.03989177, 0.03446149,\n",
      "       0.02193785, 0.03366213, 0.03076365, 0.27210385, 0.08271448]), 'mean_score_time': array([0.00789824, 0.01252127, 0.03057241, 0.03462358, 0.04630671,\n",
      "       0.00962801, 0.01580176, 0.02088823, 0.02744017, 0.03606334,\n",
      "       0.00945797, 0.01477108, 0.02238107, 0.02900581, 0.03559904,\n",
      "       0.00797043, 0.01641088, 0.02416902, 0.03082442, 0.04020576]), 'std_score_time': array([0.00180647, 0.00026109, 0.01715238, 0.00861335, 0.02939116,\n",
      "       0.00111065, 0.000962  , 0.0005434 , 0.0008059 , 0.00346631,\n",
      "       0.00242525, 0.00070269, 0.00181159, 0.0007131 , 0.00036543,\n",
      "       0.00057221, 0.0041693 , 0.00231389, 0.00157701, 0.00361627]), 'param_max_depth': masked_array(data=[1, 1, 1, 1, 1, 6, 6, 6, 6, 6, 11, 11, 11, 11, 11, 16,\n",
      "                   16, 16, 16, 16],\n",
      "             mask=[False, False, False, False, False, False, False, False,\n",
      "                   False, False, False, False, False, False, False, False,\n",
      "                   False, False, False, False],\n",
      "       fill_value='?',\n",
      "            dtype=object), 'param_n_estimators': masked_array(data=[100, 200, 300, 400, 500, 100, 200, 300, 400, 500, 100,\n",
      "                   200, 300, 400, 500, 100, 200, 300, 400, 500],\n",
      "             mask=[False, False, False, False, False, False, False, False,\n",
      "                   False, False, False, False, False, False, False, False,\n",
      "                   False, False, False, False],\n",
      "       fill_value='?',\n",
      "            dtype=object), 'params': [{'max_depth': 1, 'n_estimators': 100}, {'max_depth': 1, 'n_estimators': 200}, {'max_depth': 1, 'n_estimators': 300}, {'max_depth': 1, 'n_estimators': 400}, {'max_depth': 1, 'n_estimators': 500}, {'max_depth': 6, 'n_estimators': 100}, {'max_depth': 6, 'n_estimators': 200}, {'max_depth': 6, 'n_estimators': 300}, {'max_depth': 6, 'n_estimators': 400}, {'max_depth': 6, 'n_estimators': 500}, {'max_depth': 11, 'n_estimators': 100}, {'max_depth': 11, 'n_estimators': 200}, {'max_depth': 11, 'n_estimators': 300}, {'max_depth': 11, 'n_estimators': 400}, {'max_depth': 11, 'n_estimators': 500}, {'max_depth': 16, 'n_estimators': 100}, {'max_depth': 16, 'n_estimators': 200}, {'max_depth': 16, 'n_estimators': 300}, {'max_depth': 16, 'n_estimators': 400}, {'max_depth': 16, 'n_estimators': 500}], 'split0_test_score': array([0.52755906, 0.53543307, 0.54330709, 0.5511811 , 0.54330709,\n",
      "       0.74015748, 0.7480315 , 0.74015748, 0.76377953, 0.75590551,\n",
      "       0.77952756, 0.77165354, 0.76377953, 0.7480315 , 0.74015748,\n",
      "       0.75590551, 0.77165354, 0.77165354, 0.77952756, 0.77165354]), 'split1_test_score': array([0.51587302, 0.50793651, 0.50793651, 0.5       , 0.50793651,\n",
      "       0.68253968, 0.69047619, 0.69047619, 0.69047619, 0.69047619,\n",
      "       0.70634921, 0.73809524, 0.73809524, 0.73809524, 0.73015873,\n",
      "       0.71428571, 0.73015873, 0.73809524, 0.73809524, 0.74603175]), 'split2_test_score': array([0.576, 0.592, 0.568, 0.568, 0.576, 0.704, 0.688, 0.704, 0.712,\n",
      "       0.728, 0.728, 0.72 , 0.712, 0.736, 0.736, 0.712, 0.712, 0.712,\n",
      "       0.728, 0.744]), 'split3_test_score': array([0.496, 0.496, 0.496, 0.496, 0.512, 0.672, 0.696, 0.672, 0.68 ,\n",
      "       0.672, 0.72 , 0.72 , 0.728, 0.728, 0.744, 0.76 , 0.728, 0.728,\n",
      "       0.744, 0.752]), 'split4_test_score': array([0.47580645, 0.49193548, 0.48387097, 0.46774194, 0.48387097,\n",
      "       0.64516129, 0.67741935, 0.67741935, 0.68548387, 0.66935484,\n",
      "       0.74193548, 0.77419355, 0.75      , 0.74193548, 0.75      ,\n",
      "       0.73387097, 0.76612903, 0.75      , 0.75      , 0.75      ]), 'mean_test_score': array([0.51834131, 0.52472089, 0.5199362 , 0.51674641, 0.52472089,\n",
      "       0.68899522, 0.70015949, 0.6969697 , 0.70653907, 0.70334928,\n",
      "       0.73524721, 0.74481659, 0.738437  , 0.738437  , 0.7400319 ,\n",
      "       0.73524721, 0.74162679, 0.7400319 , 0.74800638, 0.75279107]), 'std_test_score': array([0.03374211, 0.03686858, 0.03117019, 0.03716149, 0.03182913,\n",
      "       0.03195357, 0.02486424, 0.02441337, 0.03081461, 0.03374016,\n",
      "       0.02511247, 0.02389968, 0.01782153, 0.00663253, 0.00675449,\n",
      "       0.02012474, 0.02323341, 0.02021037, 0.01745779, 0.00991567]), 'rank_test_score': array([19, 16, 18, 20, 16, 15, 13, 14, 11, 12,  9,  3,  7,  7,  5,  9,  4,\n",
      "        5,  2,  1], dtype=int32), 'split0_train_score': array([0.534, 0.53 , 0.516, 0.524, 0.524, 0.946, 0.956, 0.96 , 0.958,\n",
      "       0.956, 1.   , 1.   , 1.   , 1.   , 1.   , 1.   , 1.   , 1.   ,\n",
      "       1.   , 1.   ]), 'split1_train_score': array([0.5748503 , 0.57285429, 0.58083832, 0.57884232, 0.58283433,\n",
      "       0.96207585, 0.95409182, 0.95409182, 0.95209581, 0.95409182,\n",
      "       1.        , 1.        , 1.        , 1.        , 1.        ,\n",
      "       1.        , 1.        , 1.        , 1.        , 1.        ]), 'split2_train_score': array([0.55179283, 0.55179283, 0.56175299, 0.56972112, 0.57370518,\n",
      "       0.96414343, 0.96215139, 0.96215139, 0.96015936, 0.96015936,\n",
      "       1.        , 1.        , 1.        , 1.        , 1.        ,\n",
      "       1.        , 1.        , 1.        , 1.        , 1.        ]), 'split3_train_score': array([0.57968127, 0.5876494 , 0.57569721, 0.56972112, 0.57370518,\n",
      "       0.94023904, 0.93426295, 0.93426295, 0.93625498, 0.93824701,\n",
      "       1.        , 1.        , 1.        , 1.        , 1.        ,\n",
      "       1.        , 1.        , 1.        , 1.        , 1.        ]), 'split4_train_score': array([0.56262425, 0.5666004 , 0.56262425, 0.5666004 , 0.56858847,\n",
      "       0.94234592, 0.95228628, 0.94632207, 0.944334  , 0.944334  ,\n",
      "       1.        , 1.        , 1.        , 1.        , 1.        ,\n",
      "       1.        , 1.        , 1.        , 1.        , 1.        ]), 'mean_train_score': array([0.56058973, 0.56177938, 0.55938256, 0.56177699, 0.56456663,\n",
      "       0.95096085, 0.95175849, 0.95136565, 0.95016883, 0.95056644,\n",
      "       1.        , 1.        , 1.        , 1.        , 1.        ,\n",
      "       1.        , 1.        , 1.        , 1.        , 1.        ]), 'std_train_score': array([0.01647052, 0.01962047, 0.02291153, 0.01932775, 0.02079693,\n",
      "       0.01011047, 0.00935756, 0.01016126, 0.00885993, 0.00805714,\n",
      "       0.        , 0.        , 0.        , 0.        , 0.        ,\n",
      "       0.        , 0.        , 0.        , 0.        , 0.        ])}, 'RF_CM': [[59, 11, 18], [6, 76, 10], [5, 8, 77]]}\n"
     ]
    },
    {
     "data": {
      "image/png": "[encoded data removed]",
      "text/plain": [
       "<Figure size 432x288 with 2 Axes>"
      ]
     },
     "metadata": {},
     "output_type": "display_data"
    }
   ],
   "source": [
    "mallet_report = RandomForest(X_train, X_test, y_train, y_test)\n",
    "print(mallet_report)"
   ]
  },
  {
   "cell_type": "code",
   "execution_count": 38,
   "metadata": {},
   "outputs": [
    {
     "name": "stdout",
     "output_type": "stream",
     "text": [
      "Confusion matrix, without normalization\n",
      "[[56 10 22]\n",
      " [16 63 13]\n",
      " [24  7 59]]\n",
      "{'SVM_cross_val_score': [0.7294668429169421, 0.6435700750858775, 0.6837483238544412, 0.6571715527541602, 0.6244042945073872], 'SVM_mean_acc': 0.6676722178237615, 'SVM_std_acc': 0.07288515522430791, 'SVM_params': {'mean_fit_time': array([0.01651273, 0.02396579, 0.01671333, 0.01621618, 0.02272854,\n",
      "       0.01717324, 0.01536016, 0.02321315, 0.01791716, 0.01436486,\n",
      "       0.0233994 , 0.01717548, 0.01442523, 0.0216846 , 0.01871586,\n",
      "       0.02371244, 0.01922178, 0.0167758 , 0.10985637, 0.01959352,\n",
      "       0.01679649]), 'std_fit_time': array([0.00143342, 0.00194614, 0.00018665, 0.00105307, 0.00045939,\n",
      "       0.00083097, 0.00012731, 0.00122972, 0.00088759, 0.00091641,\n",
      "       0.00113635, 0.00108655, 0.00119255, 0.00098642, 0.00047478,\n",
      "       0.00083737, 0.00026389, 0.00021682, 0.01698905, 0.00063054,\n",
      "       0.00023783]), 'mean_score_time': array([0.00290747, 0.00427299, 0.00312157, 0.00284448, 0.0040112 ,\n",
      "       0.00322857, 0.00285778, 0.00405831, 0.00348191, 0.00271473,\n",
      "       0.00402985, 0.0030581 , 0.00247841, 0.00402393, 0.00363374,\n",
      "       0.00265999, 0.00352125, 0.0030314 , 0.00202227, 0.0031971 ,\n",
      "       0.00309601]), 'std_score_time': array([5.64778137e-05, 2.10933184e-04, 2.07327535e-04, 3.02126673e-05,\n",
      "       1.00933418e-04, 2.37467327e-04, 6.03135109e-05, 1.62384470e-04,\n",
      "       4.99891011e-04, 1.33778668e-04, 1.22184774e-04, 1.11762899e-04,\n",
      "       8.05208974e-05, 2.64948275e-04, 3.59526775e-04, 4.78027774e-04,\n",
      "       7.57421567e-05, 2.25532382e-05, 1.20972469e-04, 9.16769010e-05,\n",
      "       1.18608544e-04]), 'param_C': masked_array(data=[0.001, 0.001, 0.001, 0.01, 0.01, 0.01, 0.1, 0.1, 0.1,\n",
      "                   1, 1, 1, 10, 10, 10, 100, 100, 100, 1000, 1000, 1000],\n",
      "             mask=[False, False, False, False, False, False, False, False,\n",
      "                   False, False, False, False, False, False, False, False,\n",
      "                   False, False, False, False, False],\n",
      "       fill_value='?',\n",
      "            dtype=object), 'param_kernel': masked_array(data=['linear', 'rbf', 'poly', 'linear', 'rbf', 'poly',\n",
      "                   'linear', 'rbf', 'poly', 'linear', 'rbf', 'poly',\n",
      "                   'linear', 'rbf', 'poly', 'linear', 'rbf', 'poly',\n",
      "                   'linear', 'rbf', 'poly'],\n",
      "             mask=[False, False, False, False, False, False, False, False,\n",
      "                   False, False, False, False, False, False, False, False,\n",
      "                   False, False, False, False, False],\n",
      "       fill_value='?',\n",
      "            dtype=object), 'params': [{'C': 0.001, 'kernel': 'linear'}, {'C': 0.001, 'kernel': 'rbf'}, {'C': 0.001, 'kernel': 'poly'}, {'C': 0.01, 'kernel': 'linear'}, {'C': 0.01, 'kernel': 'rbf'}, {'C': 0.01, 'kernel': 'poly'}, {'C': 0.1, 'kernel': 'linear'}, {'C': 0.1, 'kernel': 'rbf'}, {'C': 0.1, 'kernel': 'poly'}, {'C': 1, 'kernel': 'linear'}, {'C': 1, 'kernel': 'rbf'}, {'C': 1, 'kernel': 'poly'}, {'C': 10, 'kernel': 'linear'}, {'C': 10, 'kernel': 'rbf'}, {'C': 10, 'kernel': 'poly'}, {'C': 100, 'kernel': 'linear'}, {'C': 100, 'kernel': 'rbf'}, {'C': 100, 'kernel': 'poly'}, {'C': 1000, 'kernel': 'linear'}, {'C': 1000, 'kernel': 'rbf'}, {'C': 1000, 'kernel': 'poly'}], 'split0_test_score': array([0.33858268, 0.33858268, 0.33858268, 0.33858268, 0.33858268,\n",
      "       0.33858268, 0.46456693, 0.33858268, 0.33858268, 0.62204724,\n",
      "       0.33858268, 0.33858268, 0.65354331, 0.54330709, 0.33858268,\n",
      "       0.71653543, 0.61417323, 0.33858268, 0.73228346, 0.68503937,\n",
      "       0.33858268]), 'split1_test_score': array([0.33333333, 0.33333333, 0.33333333, 0.33333333, 0.33333333,\n",
      "       0.33333333, 0.48412698, 0.33333333, 0.33333333, 0.52380952,\n",
      "       0.33333333, 0.33333333, 0.61904762, 0.5       , 0.33333333,\n",
      "       0.64285714, 0.55555556, 0.33333333, 0.67460317, 0.65079365,\n",
      "       0.33333333]), 'split2_test_score': array([0.336, 0.336, 0.336, 0.336, 0.336, 0.336, 0.432, 0.336, 0.336,\n",
      "       0.576, 0.336, 0.336, 0.576, 0.56 , 0.336, 0.624, 0.592, 0.336,\n",
      "       0.68 , 0.648, 0.336]), 'split3_test_score': array([0.336, 0.336, 0.336, 0.336, 0.336, 0.336, 0.448, 0.336, 0.336,\n",
      "       0.544, 0.336, 0.336, 0.6  , 0.488, 0.336, 0.704, 0.576, 0.336,\n",
      "       0.656, 0.656, 0.336]), 'split4_test_score': array([0.33870968, 0.33870968, 0.33870968, 0.33870968, 0.33870968,\n",
      "       0.33870968, 0.39516129, 0.33870968, 0.33870968, 0.53225806,\n",
      "       0.33870968, 0.33870968, 0.56451613, 0.48387097, 0.33870968,\n",
      "       0.58064516, 0.55645161, 0.33870968, 0.62096774, 0.57258065,\n",
      "       0.33870968]), 'mean_test_score': array([0.33652313, 0.33652313, 0.33652313, 0.33652313, 0.33652313,\n",
      "       0.33652313, 0.44497608, 0.33652313, 0.33652313, 0.55980861,\n",
      "       0.33652313, 0.33652313, 0.60287081, 0.51515152, 0.33652313,\n",
      "       0.6539075 , 0.57894737, 0.33652313, 0.67304625, 0.64274322,\n",
      "       0.33652313]), 'std_test_score': array([0.0019896 , 0.0019896 , 0.0019896 , 0.0019896 , 0.0019896 ,\n",
      "       0.0019896 , 0.03019798, 0.0019896 , 0.0019896 , 0.03601723,\n",
      "       0.0019896 , 0.0019896 , 0.03176796, 0.0307925 , 0.0019896 ,\n",
      "       0.05058716, 0.02229522, 0.0019896 , 0.03626567, 0.0372759 ,\n",
      "       0.0019896 ]), 'rank_test_score': array([9, 9, 9, 9, 9, 9, 8, 9, 9, 6, 9, 9, 4, 7, 9, 2, 5, 9, 1, 3, 9],\n",
      "      dtype=int32), 'split0_train_score': array([0.336, 0.336, 0.336, 0.336, 0.336, 0.336, 0.452, 0.336, 0.336,\n",
      "       0.566, 0.336, 0.336, 0.654, 0.52 , 0.336, 0.74 , 0.61 , 0.336,\n",
      "       0.796, 0.722, 0.336]), 'split1_train_score': array([0.33732535, 0.33732535, 0.33732535, 0.33732535, 0.33732535,\n",
      "       0.33732535, 0.49301397, 0.33732535, 0.33732535, 0.57684631,\n",
      "       0.33732535, 0.33732535, 0.66267465, 0.54690619, 0.33732535,\n",
      "       0.74451098, 0.6247505 , 0.33732535, 0.78243513, 0.70658683,\n",
      "       0.33732535]), 'split2_train_score': array([0.33665339, 0.33665339, 0.33665339, 0.33665339, 0.33665339,\n",
      "       0.33665339, 0.44621514, 0.33665339, 0.33665339, 0.56374502,\n",
      "       0.33665339, 0.33665339, 0.67928287, 0.52589641, 0.33665339,\n",
      "       0.74302789, 0.62749004, 0.33665339, 0.79083665, 0.72111554,\n",
      "       0.33665339]), 'split3_train_score': array([0.33665339, 0.33665339, 0.33665339, 0.33665339, 0.33665339,\n",
      "       0.33665339, 0.51394422, 0.33665339, 0.33665339, 0.58565737,\n",
      "       0.33665339, 0.33665339, 0.67131474, 0.53784861, 0.33665339,\n",
      "       0.74103586, 0.62151394, 0.33665339, 0.79083665, 0.72709163,\n",
      "       0.33665339]), 'split4_train_score': array([0.3359841 , 0.3359841 , 0.3359841 , 0.3359841 , 0.3359841 ,\n",
      "       0.3359841 , 0.44930417, 0.3359841 , 0.3359841 , 0.59244533,\n",
      "       0.3359841 , 0.3359841 , 0.66799205, 0.5526839 , 0.3359841 ,\n",
      "       0.76143141, 0.6500994 , 0.3359841 , 0.79125249, 0.72763419,\n",
      "       0.3359841 ]), 'mean_train_score': array([0.33652324, 0.33652324, 0.33652324, 0.33652324, 0.33652324,\n",
      "       0.33652324, 0.4708955 , 0.33652324, 0.33652324, 0.57693881,\n",
      "       0.33652324, 0.33652324, 0.66705286, 0.53666702, 0.33652324,\n",
      "       0.74600123, 0.62677078, 0.33652324, 0.79027218, 0.72088564,\n",
      "       0.33652324]), 'std_train_score': array([0.00049834, 0.00049834, 0.00049834, 0.00049834, 0.00049834,\n",
      "       0.00049834, 0.02747641, 0.00049834, 0.00049834, 0.01104724,\n",
      "       0.00049834, 0.00049834, 0.00846362, 0.012301  , 0.00049834,\n",
      "       0.00787174, 0.01309746, 0.00049834, 0.0043778 , 0.00761325,\n",
      "       0.00049834])}, 'SVM_CM': [[56, 10, 22], [16, 63, 13], [24, 7, 59]]}\n"
     ]
    },
    {
     "data": {
      "image/png": "[encoded data removed]",
      "text/plain": [
       "<Figure size 432x288 with 2 Axes>"
      ]
     },
     "metadata": {},
     "output_type": "display_data"
    }
   ],
   "source": [
    "mallet_report = SVMClassifier(X_train, X_test, y_train, y_test)\n",
    "print(mallet_report)"
   ]
  },
  {
   "cell_type": "code",
   "execution_count": null,
   "metadata": {},
   "outputs": [],
   "source": []
  },
  {
   "cell_type": "code",
   "execution_count": null,
   "metadata": {},
   "outputs": [],
   "source": []
  }
 ],
 "metadata": {
  "kernelspec": {
   "display_name": "Python 3",
   "language": "python",
   "name": "python3"
  },
  "language_info": {
   "codemirror_mode": {
    "name": "ipython",
    "version": 3
   },
   "file_extension": ".py",
   "mimetype": "text/x-python",
   "name": "python",
   "nbconvert_exporter": "python",
   "pygments_lexer": "ipython3",
   "version": "3.6.5"
  }
 },
 "nbformat": 4,
 "nbformat_minor": 2
}
