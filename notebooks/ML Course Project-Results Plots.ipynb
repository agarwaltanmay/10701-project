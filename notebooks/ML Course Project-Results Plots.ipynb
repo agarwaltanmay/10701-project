{
 "cells": [
  {
   "cell_type": "code",
   "execution_count": 1,
   "metadata": {},
   "outputs": [
    {
     "data": {
      "text/plain": [
       "<Figure size 500x500 with 1 Axes>"
      ]
     },
     "metadata": {},
     "output_type": "display_data"
    },
    {
     "data": {
      "text/plain": [
       "<Figure size 500x500 with 1 Axes>"
      ]
     },
     "metadata": {},
     "output_type": "display_data"
    }
   ],
   "source": [
    "import numpy as np\n",
    "import matplotlib.pyplot as plt\n",
    "import argparse\n",
    "import json\n",
    "\n",
    "def main(results, results2):\n",
    "    materials = ['RF', 'SVM', 'RF', 'SVM']\n",
    "    materials_top = ['LDA', 'Para2Vec']\n",
    "    x_pos = np.arange(len(materials))\n",
    "    CTEs_1 = [results[\"RF_mean_acc_1\"], results[\"RF_mean_acc_2\"]]\n",
    "    error_1 = [results[\"RF_std_acc_1\"], results[\"RF_std_acc_2\"]]\n",
    "\n",
    "    CTEs_2 = [results[\"GNB_mean_acc_1\"], results[\"GNB_mean_acc_2\"]]\n",
    "    error_2 = [results[\"GNB_std_acc_1\"], results[\"GNB_std_acc_2\"]]\n",
    "    \n",
    "    CTEs2_1 = [results2[\"RF_mean_acc_1\"], results2[\"RF_mean_acc_2\"]]\n",
    "    error2_1 = [results2[\"RF_std_acc_1\"], results2[\"RF_std_acc_2\"]]\n",
    "\n",
    "    CTEs2_2 = [results2[\"GNB_mean_acc_1\"], results2[\"GNB_mean_acc_2\"]]\n",
    "    error2_2 = [results2[\"GNB_std_acc_1\"], results2[\"GNB_std_acc_2\"]]\n",
    "    \n",
    "    fig, ax = plt.subplots(1,1,figsize=(5,5))\n",
    "    ax.bar(x_pos-0.2, [results[\"RF_mean_acc_1\"], results[\"GNB_mean_acc_1\"], results2[\"RF_mean_acc_1\"], results2[\"GNB_mean_acc_1\"]], \\\n",
    "                   yerr=[results[\"RF_std_acc_1\"], results[\"GNB_std_acc_1\"], results2[\"RF_std_acc_1\"], results2[\"GNB_std_acc_1\"]], align='center', alpha=1, ecolor='black', capsize=10, width=0.2, label='Without Unlablled')\n",
    "\n",
    "    ax.bar(x_pos, [results[\"RF_mean_acc_2\"], results[\"GNB_mean_acc_2\"], results2[\"RF_mean_acc_2\"], results2[\"GNB_mean_acc_2\"]], \\\n",
    "                   yerr=[results[\"RF_std_acc_2\"], results[\"GNB_std_acc_2\"], results2[\"RF_std_acc_2\"], results2[\"GNB_std_acc_2\"]], align='center', alpha=1, ecolor='black', capsize=10, width=0.2, label='With Unlablled')\n",
    "\n",
    "    ax.set_ylabel('Mean F1 Score')\n",
    "    ax.set_xticks(np.arange(4)-0.1)\n",
    "    ax.set_xticklabels(['LDA-RF', 'LDA-SVM', 'Para2Vec-RF', 'Para2Vec-SVM'])\n",
    "\n",
    "\n",
    "    ax.set_title('Comparison of F1 Scores')\n",
    "    ax.legend()\n",
    "    ax.yaxis.grid(True)\n",
    "\n",
    "    # Save the figure and show\n",
    "    plt.tight_layout()\n",
    "    plt.savefig('1_plot.png')\n",
    "    plt.show()\n",
    "\n",
    "\n",
    "# Train Data\n",
    "# LDA\n",
    "# Without unlabelled\n",
    "results = dict()\n",
    "results['RF_mean_acc_1'] = 0.8339\n",
    "results['RF_std_acc_1'] = 0.0243\n",
    "results['GNB_mean_acc_1'] = 0.6287\n",
    "results['GNB_std_acc_1'] = 0.0522\n",
    "# With unlabelled\n",
    "results['RF_mean_acc_2'] = 0.8357\n",
    "results['RF_std_acc_2'] = 0.0657\n",
    "results['GNB_mean_acc_2'] = 0.5963\n",
    "results['GNB_std_acc_2'] = 0.1074\n",
    "\n",
    "# Para2Vec\n",
    "# Without unlabelled\n",
    "results2 = dict()\n",
    "results2['RF_mean_acc_1'] = 0.6918\n",
    "results2['RF_std_acc_1'] = 0.0778\n",
    "results2['GNB_mean_acc_1'] = 0.6240\n",
    "results2['GNB_std_acc_1'] = 0.0256\n",
    "# With unlabelled\n",
    "results2['RF_mean_acc_2'] = 0.7778\n",
    "results2['RF_std_acc_2'] = 0.0787\n",
    "results2['GNB_mean_acc_2'] = 0.7383\n",
    "results2['GNB_std_acc_2'] = 0.1038\n",
    "main(results, results2)\n",
    "\n",
    "# Test Data\n",
    "# LDA\n",
    "results = dict()\n",
    "results['RF_mean_acc_1'] = 0.8108\n",
    "results['RF_std_acc_1'] = 0\n",
    "results['GNB_mean_acc_1'] = 0.6421\n",
    "results['GNB_std_acc_1'] = 0\n",
    "results['RF_mean_acc_2'] = 0.8428\n",
    "results['RF_std_acc_2'] = 0\n",
    "results['GNB_mean_acc_2'] = 0.6182\n",
    "results['GNB_std_acc_2'] = 0\n",
    "\n",
    "# Para2Vec\n",
    "results2 = dict()\n",
    "results2['RF_mean_acc_1'] = 0.7347\n",
    "results2['RF_std_acc_1'] = 0\n",
    "results2['GNB_mean_acc_1'] = 0.6692\n",
    "results2['GNB_std_acc_1'] = 0\n",
    "results2['RF_mean_acc_2'] = 0.8251\n",
    "results2['RF_std_acc_2'] = 0\n",
    "results2['GNB_mean_acc_2'] = 0.7514\n",
    "results2['GNB_std_acc_2'] = 0\n",
    "main(results, results2)\n"
   ]
  },
  {
   "cell_type": "code",
   "execution_count": null,
   "metadata": {},
   "outputs": [],
   "source": []
  }
 ],
 "metadata": {
  "kernelspec": {
   "display_name": "Python 3",
   "language": "python",
   "name": "python3"
  },
  "language_info": {
   "codemirror_mode": {
    "name": "ipython",
    "version": 3
   },
   "file_extension": ".py",
   "mimetype": "text/x-python",
   "name": "python",
   "nbconvert_exporter": "python",
   "pygments_lexer": "ipython3",
   "version": "3.6.5"
  }
 },
 "nbformat": 4,
 "nbformat_minor": 2
}
