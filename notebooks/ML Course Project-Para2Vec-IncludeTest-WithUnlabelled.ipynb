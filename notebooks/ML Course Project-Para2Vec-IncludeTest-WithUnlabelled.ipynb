{
 "cells": [
  {
   "cell_type": "markdown",
   "metadata": {},
   "source": [
    "# Machine Learning Course Project\n",
    "## Identifying User Stance On Social Media via Semi-Supervised Learning"
   ]
  },
  {
   "cell_type": "markdown",
   "metadata": {},
   "source": [
    "### Overview\n",
    "\n",
    "#### Midsem Pipeline - \n",
    "\n",
    " - **Read Data**: Read text files to load all the words. \n",
    " - **Clean Data**: Remove stop-words, everything lowercase, dehashify hashtags.\n",
    " - **Format Data**: Create data in a format required by each baseline method. \n",
    " - **Baseline Approaches**: LSA, pLSA, Para2Vec, LDA Topic Modelling. The goal of these approaches is to create a \"FIXED SIZE\" and \"HIGH LEVEL\" feature representation for variable length tweets. These representations leverage our unlabelled data. \n",
    " - **Training**: Some Supervised Learning on the learned representation using the given labels. \n",
    " - **Evaluation**: Compare the different methods mentioned above on different datasets. \n",
    "\n",
    "#### Endsem Approaches - \n",
    " - LDA2Vec - https://www.datacamp.com/community/tutorials/lda2vec-topic-model\n",
    " - Gaussian LDA - https://rajarshd.github.io/papers/acl2015.pdf\n",
    " - Word Embeddings Informed Topic Models - http://proceedings.mlr.press/v77/zhao17a/zhao17a.pdf\n",
    " \n",
    "#### Reference\n",
    " - https://www.machinelearningplus.com/nlp/topic-modeling-gensim-python/"
   ]
  },
  {
   "cell_type": "markdown",
   "metadata": {},
   "source": [
    "## Constants"
   ]
  },
  {
   "cell_type": "code",
   "execution_count": 1,
   "metadata": {},
   "outputs": [],
   "source": [
    "# PATH_LABELLED_DATA_TRAINING = \"../semeval2016-task6-domaincorpus/data-all-annotations/trainingdata-all-annotations.txt\"\n",
    "PATH_LABELLED_DATA_TRUMP = \"../semeval2016-task6-domaincorpus/data-all-annotations/testdata-taskB-all-annotations.txt\"\n",
    "PATH_UNLABELLED_DATA_TRUMP = \"./../semeval2016-task6-domaincorpus/downloaded_Donald_Trump.txt\""
   ]
  },
  {
   "cell_type": "markdown",
   "metadata": {},
   "source": [
    "## Data "
   ]
  },
  {
   "cell_type": "code",
   "execution_count": 2,
   "metadata": {},
   "outputs": [],
   "source": [
    "# SETUP\n",
    "# # Run in python console\n",
    "# import nltk; nltk.download('stopwords')\n",
    "\n",
    "# # Run in terminal or command prompt\n",
    "# !python -m spacy download en"
   ]
  },
  {
   "cell_type": "code",
   "execution_count": 3,
   "metadata": {},
   "outputs": [],
   "source": [
    "# !pip install gensim\n",
    "# !pip install pyLDAvis"
   ]
  },
  {
   "cell_type": "code",
   "execution_count": 4,
   "metadata": {},
   "outputs": [],
   "source": [
    "import pandas as pd\n",
    "import numpy as np\n",
    "import re\n",
    "from pprint import pprint\n",
    "\n",
    "# Gensim\n",
    "import gensim\n",
    "import gensim.corpora as corpora\n",
    "from gensim.utils import simple_preprocess\n",
    "from gensim.models import CoherenceModel\n",
    "from gensim.models import LsiModel\n",
    "from gensim.models.doc2vec import Doc2Vec, TaggedDocument\n",
    "\n",
    "# spacy for lemmatization\n",
    "import spacy\n",
    "\n",
    "# Plotting tools\n",
    "import pyLDAvis\n",
    "import pyLDAvis.gensim  # don't skip this\n",
    "import matplotlib.pyplot as plt\n",
    "%matplotlib inline\n",
    "\n",
    "# Enable logging for gensim - optional\n",
    "import logging\n",
    "logging.basicConfig(format='%(asctime)s : %(levelname)s : %(message)s', level=logging.ERROR)\n",
    "\n",
    "import warnings\n",
    "warnings.filterwarnings(\"ignore\",category=DeprecationWarning)"
   ]
  },
  {
   "cell_type": "code",
   "execution_count": 5,
   "metadata": {},
   "outputs": [],
   "source": [
    "from nltk.corpus import stopwords\n",
    "stop_words = stopwords.words('english')\n",
    "stop_words.extend(['via'])"
   ]
  },
  {
   "cell_type": "markdown",
   "metadata": {},
   "source": [
    "### Read Sem-Eval Task A Data (Labelled)\n",
    "\n",
    "Interactive Visualization - http://www.saifmohammad.com/WebPages/StanceDataset.htm\n",
    "\n",
    "Targets - \n",
    " - Hilary Clinton\n",
    " - Atheism\n",
    " - Climate Change\n",
    " - Donald Trump\n",
    " - Feminism\n",
    " - Abortion"
   ]
  },
  {
   "cell_type": "markdown",
   "metadata": {},
   "source": [
    "### Remove Symbols"
   ]
  },
  {
   "cell_type": "code",
   "execution_count": 6,
   "metadata": {},
   "outputs": [],
   "source": [
    "def clean_tweets(sent):\n",
    "    sent = str(sent)\n",
    "    \n",
    "    # Remove new line characters\n",
    "    sent = re.sub('\\s+', ' ', sent)\n",
    "\n",
    "    # Remove distracting single quotes\n",
    "    sent = re.sub(\"\\'\", \"\", sent)\n",
    "\n",
    "    # Remove distracting single quotes\n",
    "    sent = re.sub(\"\\\"\", \"\", sent)\n",
    "\n",
    "    # Remove hashtags\n",
    "    sent = re.sub(\"\\#\", \"\", sent)\n",
    "\n",
    "    # Remove http:// links\n",
    "    sent = re.sub('http:\\/\\/.*','', sent)\n",
    "\n",
    "    # Remove https:// links\n",
    "    sent = re.sub('https:\\/\\/.*','', sent)\n",
    "    \n",
    "    # Remove emojis\n",
    "#     emoji_pattern = re.compile(\"[\"\n",
    "#         u\"\\U0001F600-\\U0001F64F\"  # emoticons\n",
    "#         u\"\\U0001F300-\\U0001F5FF\"  # symbols & pictographs\n",
    "#         u\"\\U0001F680-\\U0001F6FF\"  # transport & map symbols\n",
    "#         u\"\\U0001F1E0-\\U0001F1FF\"  # flags (iOS)\n",
    "#                            \"]+\", flags=re.UNICODE)\n",
    "    \n",
    "#     sent = emoji_pattern.sub(r'', sent)\n",
    "    \n",
    "    return sent\n",
    "    "
   ]
  },
  {
   "cell_type": "code",
   "execution_count": 7,
   "metadata": {},
   "outputs": [],
   "source": [
    "X_train = pd.read_pickle('X_train.pkl')\n",
    "X_test = pd.read_pickle('X_test.pkl')\n",
    "y_train = pd.read_pickle('y_train.pkl')\n",
    "y_test = pd.read_pickle('y_test.pkl')\n",
    "\n",
    "data_X = pd.concat([X_train, X_test], ignore_index=True, axis=0)\n",
    "data_y = pd.concat([y_train, y_test], ignore_index=True, axis=0)\n",
    "data_labelled = pd.concat([data_X, data_y], ignore_index=True, axis=1)\n",
    "data_labelled.columns = ['Tweet', 'Stance']\n",
    "# data_labelled = pd.DataFrame([data_labelled], columns = ['Tweet', 'Stance'])\n",
    "# data_labelled = data_labelled.where(data_labelled.Target != np.nan)"
   ]
  },
  {
   "cell_type": "markdown",
   "metadata": {},
   "source": [
    "#### Data Stats"
   ]
  },
  {
   "cell_type": "code",
   "execution_count": 8,
   "metadata": {},
   "outputs": [
    {
     "data": {
      "text/plain": [
       "Tweet     299\n",
       "Stance    299\n",
       "dtype: int64"
      ]
     },
     "execution_count": 8,
     "metadata": {},
     "output_type": "execute_result"
    }
   ],
   "source": [
    "data_labelled.where(data_labelled.Stance == 'AGAINST').count()"
   ]
  },
  {
   "cell_type": "code",
   "execution_count": 9,
   "metadata": {},
   "outputs": [
    {
     "data": {
      "text/plain": [
       "Tweet     299\n",
       "Stance    299\n",
       "dtype: int64"
      ]
     },
     "execution_count": 9,
     "metadata": {},
     "output_type": "execute_result"
    }
   ],
   "source": [
    "data_labelled.where(data_labelled.Stance == 'NONE').count()"
   ]
  },
  {
   "cell_type": "code",
   "execution_count": 10,
   "metadata": {},
   "outputs": [
    {
     "data": {
      "text/plain": [
       "Tweet     299\n",
       "Stance    299\n",
       "dtype: int64"
      ]
     },
     "execution_count": 10,
     "metadata": {},
     "output_type": "execute_result"
    }
   ],
   "source": [
    "data_labelled.where(data_labelled.Stance == 'FAVOR').count()"
   ]
  },
  {
   "cell_type": "markdown",
   "metadata": {},
   "source": [
    "### Read Sem-Eval Task B Data (Unlabelled)"
   ]
  },
  {
   "cell_type": "code",
   "execution_count": 11,
   "metadata": {},
   "outputs": [],
   "source": [
    "data_unlabelled = pd.read_csv(PATH_UNLABELLED_DATA_TRUMP, sep='\\t', lineterminator='\\n', encoding ='latin1', names = [\"ID\", \"Tweet\"])\n",
    "data_unlabelled = data_unlabelled.where(data_unlabelled.Tweet != 'Not Available')\n",
    "data_unlabelled.dropna(how='any', inplace=True)\n",
    "data_unlabelled['Tweet'] = data_unlabelled['Tweet'].apply(lambda x: x[1:])\n",
    "data_unlabelled['Tweet'] = data_unlabelled['Tweet'].apply(clean_tweets)\n",
    "# data_unlabelled = data_unlabelled[:1000]\n",
    "# data_unlabelled['Tweet'] = data_unlabelled['Tweet'].str.decode('latin1')"
   ]
  },
  {
   "cell_type": "code",
   "execution_count": 12,
   "metadata": {},
   "outputs": [
    {
     "name": "stderr",
     "output_type": "stream",
     "text": [
      "/Users/Sarthak/anaconda3/lib/python3.6/site-packages/ipykernel_launcher.py:1: FutureWarning: Sorting because non-concatenation axis is not aligned. A future version\n",
      "of pandas will change to not sort by default.\n",
      "\n",
      "To accept the future behavior, pass 'sort=True'.\n",
      "\n",
      "To retain the current behavior and silence the warning, pass sort=False\n",
      "\n",
      "  \"\"\"Entry point for launching an IPython kernel.\n"
     ]
    }
   ],
   "source": [
    "combined_data = pd.concat([data_unlabelled, data_labelled], ignore_index=True)"
   ]
  },
  {
   "cell_type": "code",
   "execution_count": 13,
   "metadata": {},
   "outputs": [
    {
     "data": {
      "text/plain": [
       "ID        53616\n",
       "Stance      897\n",
       "Tweet     54513\n",
       "dtype: int64"
      ]
     },
     "execution_count": 13,
     "metadata": {},
     "output_type": "execute_result"
    }
   ],
   "source": [
    "combined_data.count()"
   ]
  },
  {
   "cell_type": "code",
   "execution_count": 14,
   "metadata": {
    "scrolled": true
   },
   "outputs": [
    {
     "data": {
      "text/html": [
       "<div>\n",
       "<style scoped>\n",
       "    .dataframe tbody tr th:only-of-type {\n",
       "        vertical-align: middle;\n",
       "    }\n",
       "\n",
       "    .dataframe tbody tr th {\n",
       "        vertical-align: top;\n",
       "    }\n",
       "\n",
       "    .dataframe thead th {\n",
       "        text-align: right;\n",
       "    }\n",
       "</style>\n",
       "<table border=\"1\" class=\"dataframe\">\n",
       "  <thead>\n",
       "    <tr style=\"text-align: right;\">\n",
       "      <th></th>\n",
       "      <th>ID</th>\n",
       "      <th>Stance</th>\n",
       "      <th>Tweet</th>\n",
       "    </tr>\n",
       "  </thead>\n",
       "  <tbody>\n",
       "    <tr>\n",
       "      <th>0</th>\n",
       "      <td>5.885112e+17</td>\n",
       "      <td>NaN</td>\n",
       "      <td>Dear DonaldTrump: Do you want to see HillaryCl...</td>\n",
       "    </tr>\n",
       "    <tr>\n",
       "      <th>1</th>\n",
       "      <td>5.888037e+17</td>\n",
       "      <td>NaN</td>\n",
       "      <td>Trump compares JebBush to liberal U.S. Preside...</td>\n",
       "    </tr>\n",
       "    <tr>\n",
       "      <th>2</th>\n",
       "      <td>5.891521e+17</td>\n",
       "      <td>NaN</td>\n",
       "      <td>Trump Lets His Followers Know HillaryClinton C...</td>\n",
       "    </tr>\n",
       "    <tr>\n",
       "      <th>3</th>\n",
       "      <td>5.891598e+17</td>\n",
       "      <td>NaN</td>\n",
       "      <td>Donald Trump blows his trumpet once again, but...</td>\n",
       "    </tr>\n",
       "    <tr>\n",
       "      <th>4</th>\n",
       "      <td>5.891884e+17</td>\n",
       "      <td>NaN</td>\n",
       "      <td>DonaldTrump spreads the message that HillaryCl...</td>\n",
       "    </tr>\n",
       "    <tr>\n",
       "      <th>5</th>\n",
       "      <td>5.891913e+17</td>\n",
       "      <td>NaN</td>\n",
       "      <td>Trump Lets His Followers Know HillaryClinton C...</td>\n",
       "    </tr>\n",
       "    <tr>\n",
       "      <th>6</th>\n",
       "      <td>5.893100e+17</td>\n",
       "      <td>NaN</td>\n",
       "      <td>Why we need feminism. everydaysexism DonaldTru...</td>\n",
       "    </tr>\n",
       "    <tr>\n",
       "      <th>7</th>\n",
       "      <td>5.893174e+17</td>\n",
       "      <td>NaN</td>\n",
       "      <td>DonaldTrump has to be the lowest form of scumb...</td>\n",
       "    </tr>\n",
       "    <tr>\n",
       "      <th>8</th>\n",
       "      <td>5.893454e+17</td>\n",
       "      <td>NaN</td>\n",
       "      <td>Wow, this is a low and disgusting tweet! @real...</td>\n",
       "    </tr>\n",
       "    <tr>\n",
       "      <th>9</th>\n",
       "      <td>5.893706e+17</td>\n",
       "      <td>NaN</td>\n",
       "      <td>\\xe2\\x80\\x9c@Kon__K: Why we need feminism. eve...</td>\n",
       "    </tr>\n",
       "  </tbody>\n",
       "</table>\n",
       "</div>"
      ],
      "text/plain": [
       "             ID Stance                                              Tweet\n",
       "0  5.885112e+17    NaN  Dear DonaldTrump: Do you want to see HillaryCl...\n",
       "1  5.888037e+17    NaN  Trump compares JebBush to liberal U.S. Preside...\n",
       "2  5.891521e+17    NaN  Trump Lets His Followers Know HillaryClinton C...\n",
       "3  5.891598e+17    NaN  Donald Trump blows his trumpet once again, but...\n",
       "4  5.891884e+17    NaN  DonaldTrump spreads the message that HillaryCl...\n",
       "5  5.891913e+17    NaN  Trump Lets His Followers Know HillaryClinton C...\n",
       "6  5.893100e+17    NaN  Why we need feminism. everydaysexism DonaldTru...\n",
       "7  5.893174e+17    NaN  DonaldTrump has to be the lowest form of scumb...\n",
       "8  5.893454e+17    NaN  Wow, this is a low and disgusting tweet! @real...\n",
       "9  5.893706e+17    NaN  \\xe2\\x80\\x9c@Kon__K: Why we need feminism. eve..."
      ]
     },
     "execution_count": 14,
     "metadata": {},
     "output_type": "execute_result"
    }
   ],
   "source": [
    "combined_data.head(10)"
   ]
  },
  {
   "cell_type": "markdown",
   "metadata": {},
   "source": []
  },
  {
   "cell_type": "code",
   "execution_count": 15,
   "metadata": {},
   "outputs": [],
   "source": [
    "df = combined_data['Tweet']\n",
    "# df = data_labelled['Tweet']"
   ]
  },
  {
   "cell_type": "code",
   "execution_count": 16,
   "metadata": {},
   "outputs": [
    {
     "name": "stdout",
     "output_type": "stream",
     "text": [
      "['Dear DonaldTrump: Do you want to see HillaryClinton s birth certificate too? '\n",
      " 'If so, PLEASE FUCK OFF! UniteBlue LibCrib Hillary2016']\n"
     ]
    }
   ],
   "source": [
    "data = df.values.tolist()\n",
    "pprint(data[:1])"
   ]
  },
  {
   "cell_type": "markdown",
   "metadata": {},
   "source": [
    "### Sentences To Words"
   ]
  },
  {
   "cell_type": "code",
   "execution_count": 17,
   "metadata": {},
   "outputs": [
    {
     "name": "stdout",
     "output_type": "stream",
     "text": [
      "[['dear',\n",
      "  'donaldtrump',\n",
      "  'do',\n",
      "  'you',\n",
      "  'want',\n",
      "  'to',\n",
      "  'see',\n",
      "  'hillaryclinton',\n",
      "  'birth',\n",
      "  'certificate',\n",
      "  'too',\n",
      "  'if',\n",
      "  'so',\n",
      "  'please',\n",
      "  'fuck',\n",
      "  'off',\n",
      "  'uniteblue',\n",
      "  'libcrib',\n",
      "  'hillary']]\n"
     ]
    }
   ],
   "source": [
    "def sent_to_words(sentences):\n",
    "    for sentence in sentences:\n",
    "        yield(gensim.utils.simple_preprocess(str(sentence), deacc=True))  # deacc=True removes punctuations\n",
    "\n",
    "data_words = list(sent_to_words(data))\n",
    "\n",
    "pprint(data_words[:1])"
   ]
  },
  {
   "cell_type": "markdown",
   "metadata": {},
   "source": [
    "### Create Bi-Grams Tri-Grams"
   ]
  },
  {
   "cell_type": "code",
   "execution_count": 18,
   "metadata": {},
   "outputs": [
    {
     "name": "stdout",
     "output_type": "stream",
     "text": [
      "['dear', 'donaldtrump', 'do', 'you', 'want', 'to', 'see', 'hillaryclinton', 'birth_certificate', 'too', 'if', 'so', 'please', 'fuck', 'off', 'uniteblue_libcrib', 'hillary']\n"
     ]
    }
   ],
   "source": [
    "# Build the bigram and trigram models\n",
    "bigram = gensim.models.Phrases(data_words, min_count=5, threshold=100) # higher threshold fewer phrases.\n",
    "trigram = gensim.models.Phrases(bigram[data_words], threshold=100)  \n",
    "\n",
    "# Faster way to get a sentence clubbed as a trigram/bigram\n",
    "bigram_mod = gensim.models.phrases.Phraser(bigram)\n",
    "trigram_mod = gensim.models.phrases.Phraser(trigram)\n",
    "\n",
    "# See trigram example\n",
    "print(trigram_mod[bigram_mod[data_words[0]]])"
   ]
  },
  {
   "cell_type": "markdown",
   "metadata": {},
   "source": [
    "### Remove Stop Words and Lemmatize\n",
    "\n",
    "WE NEED PRONOUNS FOR STANCE"
   ]
  },
  {
   "cell_type": "code",
   "execution_count": 19,
   "metadata": {},
   "outputs": [],
   "source": [
    "# Define functions for stopwords, bigrams, trigrams and lemmatization\n",
    "def remove_stopwords(texts):\n",
    "    return [[word for word in simple_preprocess(str(doc)) if word not in stop_words] for doc in texts]\n",
    "\n",
    "def make_bigrams(texts):\n",
    "    return [bigram_mod[doc] for doc in texts]\n",
    "\n",
    "def make_trigrams(texts):\n",
    "    return [trigram_mod[bigram_mod[doc]] for doc in texts]\n",
    "\n",
    "def lemmatization(texts, allowed_postags=['NOUN', 'ADJ', 'VERB', 'ADV', 'PRON']):\n",
    "    \"\"\"https://spacy.io/api/annotation\"\"\"\n",
    "    texts_out = []\n",
    "    for sent in texts:\n",
    "        doc = nlp(\" \".join(sent)) \n",
    "        texts_out.append([token.lemma_ for token in doc if token.pos_ in allowed_postags])\n",
    "    return texts_out"
   ]
  },
  {
   "cell_type": "code",
   "execution_count": 20,
   "metadata": {},
   "outputs": [
    {
     "name": "stdout",
     "output_type": "stream",
     "text": [
      "[['dear', 'donaldtrump', 'want', 'see', 'hillaryclinton', 'birth_certificate', 'fuck', 'uniteblue_libcrib', 'hillary']]\n",
      "54513\n"
     ]
    },
    {
     "data": {
      "text/plain": [
       "(None, None)"
      ]
     },
     "execution_count": 20,
     "metadata": {},
     "output_type": "execute_result"
    }
   ],
   "source": [
    "# Remove Stop Words\n",
    "data_words_nostops = remove_stopwords(data_words)\n",
    "\n",
    "# Form Bigrams\n",
    "data_words_bigrams = make_bigrams(data_words_nostops)\n",
    "\n",
    "# Initialize spacy 'en' model, keeping only tagger component (for efficiency)\n",
    "# python3 -m spacy download en\n",
    "nlp = spacy.load('en', disable=['parser', 'ner'])\n",
    "\n",
    "# Do lemmatization keeping only noun, adj, vb, adv\n",
    "data_lemmatized = lemmatization(data_words_bigrams, allowed_postags=['NOUN', 'ADJ', 'VERB', 'ADV', 'PRON'])\n",
    "\n",
    "print(data_lemmatized[:1]), print(len(data_lemmatized))"
   ]
  },
  {
   "cell_type": "markdown",
   "metadata": {},
   "source": [
    "## Format Data"
   ]
  },
  {
   "cell_type": "code",
   "execution_count": 22,
   "metadata": {},
   "outputs": [],
   "source": [
    "# Create Corpus\n",
    "texts = data_lemmatized\n",
    "\n",
    "def read_corpus(texts, tokens_only=False):\n",
    "    for i, line in enumerate(texts):\n",
    "        if tokens_only:\n",
    "            yield line\n",
    "        else:\n",
    "            # For training data, add tags\n",
    "            yield gensim.models.doc2vec.TaggedDocument(line, [i])\n",
    "\n",
    "corpus = list(read_corpus(texts))"
   ]
  },
  {
   "cell_type": "code",
   "execution_count": 23,
   "metadata": {},
   "outputs": [],
   "source": [
    "model = gensim.models.doc2vec.Doc2Vec(vector_size=50, min_count=2, epochs=40)"
   ]
  },
  {
   "cell_type": "code",
   "execution_count": 24,
   "metadata": {},
   "outputs": [],
   "source": [
    "model.build_vocab(corpus)"
   ]
  },
  {
   "cell_type": "code",
   "execution_count": 25,
   "metadata": {},
   "outputs": [
    {
     "name": "stdout",
     "output_type": "stream",
     "text": [
      "CPU times: user 1min 37s, sys: 23.9 s, total: 2min 1s\n",
      "Wall time: 1min 21s\n"
     ]
    }
   ],
   "source": [
    "%time model.train(corpus, total_examples=model.corpus_count, epochs=model.epochs)"
   ]
  },
  {
   "cell_type": "code",
   "execution_count": null,
   "metadata": {},
   "outputs": [],
   "source": [
    "# vectors = read_corpus(corpus, tokens_only=True)"
   ]
  },
  {
   "cell_type": "markdown",
   "metadata": {},
   "source": [
    "## Evaluation"
   ]
  },
  {
   "cell_type": "markdown",
   "metadata": {},
   "source": [
    "### Format Labelled Data"
   ]
  },
  {
   "cell_type": "code",
   "execution_count": 26,
   "metadata": {},
   "outputs": [
    {
     "data": {
      "text/plain": [
       "897"
      ]
     },
     "execution_count": 26,
     "metadata": {},
     "output_type": "execute_result"
    }
   ],
   "source": [
    "labelled_corpus = corpus[-897:]\n",
    "len(labelled_corpus)"
   ]
  },
  {
   "cell_type": "markdown",
   "metadata": {},
   "source": [
    "### Create Dataset for Supervised Learning"
   ]
  },
  {
   "cell_type": "code",
   "execution_count": 30,
   "metadata": {},
   "outputs": [],
   "source": [
    "mallet_feats = []\n",
    "\n",
    "for i in range(len(labelled_corpus)):\n",
    "    representation = model.infer_vector(labelled_corpus[i].words)\n",
    "    mallet_feats.append(representation)"
   ]
  },
  {
   "cell_type": "code",
   "execution_count": 31,
   "metadata": {},
   "outputs": [],
   "source": [
    "STANCES = ['AGAINST', 'FAVOR', 'NONE']"
   ]
  },
  {
   "cell_type": "code",
   "execution_count": 32,
   "metadata": {},
   "outputs": [],
   "source": [
    "def transform_labels(label):\n",
    "    if label == 'AGAINST':\n",
    "        return 0\n",
    "    elif label == 'FAVOR':\n",
    "        return 1\n",
    "    elif label == 'NONE':\n",
    "        return 2"
   ]
  },
  {
   "cell_type": "code",
   "execution_count": 33,
   "metadata": {},
   "outputs": [],
   "source": [
    "# labelled_stance = combined_data.Stance[53616:54323]\n",
    "labelled_stance = data_labelled['Stance']\n",
    "labelled_stance = labelled_stance.apply(transform_labels)\n",
    "labelled_stance = labelled_stance.tolist()"
   ]
  },
  {
   "cell_type": "code",
   "execution_count": 34,
   "metadata": {},
   "outputs": [
    {
     "data": {
      "text/plain": [
       "(50, 897)"
      ]
     },
     "execution_count": 34,
     "metadata": {},
     "output_type": "execute_result"
    }
   ],
   "source": [
    "len(mallet_feats[0]), len(mallet_feats)"
   ]
  },
  {
   "cell_type": "markdown",
   "metadata": {},
   "source": [
    "## Supervised Learning"
   ]
  },
  {
   "cell_type": "code",
   "execution_count": 35,
   "metadata": {},
   "outputs": [],
   "source": [
    "from sklearn import svm\n",
    "from sklearn import tree\n",
    "from sklearn.model_selection import train_test_split\n",
    "from sklearn.metrics import confusion_matrix\n",
    "from sklearn.ensemble import RandomForestClassifier\n",
    "from sklearn.model_selection import cross_val_score\n",
    "from sklearn.model_selection import ShuffleSplit\n",
    "from sklearn.naive_bayes import GaussianNB\n",
    "from sklearn.model_selection import GridSearchCV\n",
    "import argparse\n",
    "from sklearn.utils.multiclass import unique_labels"
   ]
  },
  {
   "cell_type": "code",
   "execution_count": 36,
   "metadata": {},
   "outputs": [],
   "source": [
    "## Create Train Test Split\n",
    "X_train = mallet_feats[:627]\n",
    "X_test = mallet_feats[627:]\n",
    "y_train = labelled_stance[:627]\n",
    "y_test = labelled_stance[627:]"
   ]
  },
  {
   "cell_type": "code",
   "execution_count": 37,
   "metadata": {},
   "outputs": [],
   "source": [
    "def plot_confusion_matrix(y_true, y_pred, classes,\n",
    "                          normalize=False,\n",
    "                          title=None,\n",
    "                          cmap=plt.cm.Blues):\n",
    "    \"\"\"\n",
    "    This function prints and plots the confusion matrix.\n",
    "    Normalization can be applied by setting `normalize=True`.\n",
    "    \"\"\"\n",
    "    if not title:\n",
    "        if normalize:\n",
    "            title = 'Normalized confusion matrix'\n",
    "        else:\n",
    "            title = 'Confusion matrix, without normalization'\n",
    "\n",
    "    # Compute confusion matrix\n",
    "    cm = confusion_matrix(y_true, y_pred)\n",
    "    # Only use the labels that appear in the data\n",
    "#     classes = classes[unique_labels(y_true, y_pred)]\n",
    "    if normalize:\n",
    "        cm = cm.astype('float') / cm.sum(axis=1)[:, np.newaxis]\n",
    "        print(\"Normalized confusion matrix\")\n",
    "    else:\n",
    "        print('Confusion matrix, without normalization')\n",
    "\n",
    "    print(cm)\n",
    "\n",
    "    fig, ax = plt.subplots()\n",
    "    im = ax.imshow(cm, interpolation='nearest', cmap=cmap)\n",
    "    ax.figure.colorbar(im, ax=ax)\n",
    "    # We want to show all ticks...\n",
    "    ax.set(xticks=np.arange(cm.shape[1]),\n",
    "           yticks=np.arange(cm.shape[0]),\n",
    "           # ... and label them with the respective list entries\n",
    "           xticklabels=classes, yticklabels=classes,\n",
    "           title=title,\n",
    "           ylabel='True label',\n",
    "           xlabel='Predicted label')\n",
    "\n",
    "    # Rotate the tick labels and set their alignment.\n",
    "    plt.setp(ax.get_xticklabels(), rotation=45, ha=\"right\",\n",
    "             rotation_mode=\"anchor\")\n",
    "\n",
    "    # Loop over data dimensions and create text annotations.\n",
    "    fmt = '.2f' if normalize else 'd'\n",
    "    thresh = cm.max() / 2.\n",
    "    for i in range(cm.shape[0]):\n",
    "        for j in range(cm.shape[1]):\n",
    "            ax.text(j, i, format(cm[i, j], fmt),\n",
    "                    ha=\"center\", va=\"center\",\n",
    "                    color=\"white\" if cm[i, j] > thresh else \"black\")\n",
    "    fig.tight_layout()\n",
    "    return ax"
   ]
  },
  {
   "cell_type": "code",
   "execution_count": 38,
   "metadata": {},
   "outputs": [],
   "source": [
    "def RandomForest(X_train, X_test, y_train, y_test):\n",
    "    \n",
    "    # GRID SEARCH\n",
    "    parameters = {'n_estimators':range(100,600,100), 'max_depth':range(1,20,5)}\n",
    "    rlf = RandomForestClassifier(random_state=0)\n",
    "    rlf = GridSearchCV(rlf, parameters, cv=5)\n",
    "    rlf.fit(X_train, y_train)\n",
    "    \n",
    "    y_pred = rlf.predict(X_test)\n",
    "\n",
    "    rf_cm = confusion_matrix(y_test, y_pred)\n",
    "    plot_confusion_matrix(y_test, y_pred, classes=STANCES,\n",
    "                      title='Confusion matrix, without normalization')\n",
    "\n",
    "    rf_cv = cross_val_score(rlf, X_train, y_train, cv=5, scoring='f1_macro')\n",
    "    report = {}\n",
    "    report[\"RF_cross_val_score\"] = rf_cv.tolist()\n",
    "    report[\"RF_mean_acc\"] = rf_cv.mean()\n",
    "    report[\"RF_std_acc\"] = rf_cv.std()*2\n",
    "    report[\"RF_params\"] = rlf.cv_results_\n",
    "    \n",
    "    report[\"RF_CM\"] = rf_cm.tolist()\n",
    "\n",
    "    \n",
    "    return report"
   ]
  },
  {
   "cell_type": "code",
   "execution_count": 39,
   "metadata": {},
   "outputs": [],
   "source": [
    "def SVMClassifier(X_train, X_test, y_train, y_test):\n",
    "\n",
    "    parameters = {'kernel':['linear','rbf','poly'], 'C':[0.001, 0.01, 0.1, 1, 10, 100, 1000]}\n",
    "    \n",
    "    clf = svm.SVC(gamma='auto')\n",
    "    clf = GridSearchCV(clf, parameters, cv=5)\n",
    "    clf.fit(X_train, y_train)\n",
    "    \n",
    "    clf_cv = cross_val_score(clf, X_train, y_train, cv=5, scoring='f1_macro')\n",
    "    report = {}\n",
    "    report[\"SVM_cross_val_score\"] = clf_cv.tolist()\n",
    "    report[\"SVM_mean_acc\"] = clf_cv.mean()\n",
    "    report[\"SVM_std_acc\"] = clf_cv.std()*2\n",
    "    report[\"SVM_params\"] = clf.cv_results_\n",
    "\n",
    "    \n",
    "    y_pred = clf.predict(X_test)\n",
    "\n",
    "    clf_cm = confusion_matrix(y_test, y_pred)\n",
    "    plot_confusion_matrix(y_test, y_pred, classes=STANCES,\n",
    "                      title='Confusion matrix, without normalization')\n",
    "\n",
    "    report[\"SVM_CM\"] = clf_cm.tolist()\n",
    "\n",
    "    \n",
    "    return report\n",
    "    "
   ]
  },
  {
   "cell_type": "code",
   "execution_count": 41,
   "metadata": {},
   "outputs": [
    {
     "name": "stdout",
     "output_type": "stream",
     "text": [
      "Confusion matrix, without normalization\n",
      "[[72  8  8]\n",
      " [14 73  5]\n",
      " [14  1 75]]\n",
      "{'RF_cross_val_score': [0.7554756601057231, 0.7090851535295979, 0.7848115299334811, 0.6560236511456023, 0.760781166399144], 'RF_mean_acc': 0.7332354322227097, 'RF_std_acc': 0.0914697071635514, 'RF_params': {'mean_fit_time': array([0.14853625, 0.26144319, 0.38489785, 0.67147193, 0.64906898,\n",
      "       0.20435238, 0.40896792, 0.68040795, 0.96604381, 1.54872169,\n",
      "       0.26401677, 0.55451279, 0.99094396, 1.1584713 , 1.43187618,\n",
      "       0.27827034, 0.5009192 , 0.78747926, 1.05094357, 1.50368361]), 'std_fit_time': array([0.02101691, 0.01708138, 0.01462793, 0.10203936, 0.036585  ,\n",
      "       0.00475936, 0.00700866, 0.0281461 , 0.10692469, 0.2924833 ,\n",
      "       0.01829212, 0.05858923, 0.03183835, 0.16248494, 0.14491507,\n",
      "       0.02287073, 0.03246429, 0.03150856, 0.06174524, 0.15404742]), 'mean_score_time': array([0.00821538, 0.01225014, 0.01824856, 0.03028913, 0.03136349,\n",
      "       0.00752048, 0.01453505, 0.02168956, 0.02901144, 0.04373231,\n",
      "       0.00779104, 0.01929541, 0.03047462, 0.03668308, 0.04127078,\n",
      "       0.00881042, 0.01425052, 0.05760703, 0.02996817, 0.05796924]), 'std_score_time': array([0.00200071, 0.00074573, 0.00156094, 0.00695029, 0.00220329,\n",
      "       0.00116401, 0.00262396, 0.00166993, 0.00142496, 0.00899916,\n",
      "       0.00043654, 0.00613056, 0.00357469, 0.00657222, 0.00517107,\n",
      "       0.00147628, 0.00034701, 0.07382673, 0.00140743, 0.02527417]), 'param_max_depth': masked_array(data=[1, 1, 1, 1, 1, 6, 6, 6, 6, 6, 11, 11, 11, 11, 11, 16,\n",
      "                   16, 16, 16, 16],\n",
      "             mask=[False, False, False, False, False, False, False, False,\n",
      "                   False, False, False, False, False, False, False, False,\n",
      "                   False, False, False, False],\n",
      "       fill_value='?',\n",
      "            dtype=object), 'param_n_estimators': masked_array(data=[100, 200, 300, 400, 500, 100, 200, 300, 400, 500, 100,\n",
      "                   200, 300, 400, 500, 100, 200, 300, 400, 500],\n",
      "             mask=[False, False, False, False, False, False, False, False,\n",
      "                   False, False, False, False, False, False, False, False,\n",
      "                   False, False, False, False],\n",
      "       fill_value='?',\n",
      "            dtype=object), 'params': [{'max_depth': 1, 'n_estimators': 100}, {'max_depth': 1, 'n_estimators': 200}, {'max_depth': 1, 'n_estimators': 300}, {'max_depth': 1, 'n_estimators': 400}, {'max_depth': 1, 'n_estimators': 500}, {'max_depth': 6, 'n_estimators': 100}, {'max_depth': 6, 'n_estimators': 200}, {'max_depth': 6, 'n_estimators': 300}, {'max_depth': 6, 'n_estimators': 400}, {'max_depth': 6, 'n_estimators': 500}, {'max_depth': 11, 'n_estimators': 100}, {'max_depth': 11, 'n_estimators': 200}, {'max_depth': 11, 'n_estimators': 300}, {'max_depth': 11, 'n_estimators': 400}, {'max_depth': 11, 'n_estimators': 500}, {'max_depth': 16, 'n_estimators': 100}, {'max_depth': 16, 'n_estimators': 200}, {'max_depth': 16, 'n_estimators': 300}, {'max_depth': 16, 'n_estimators': 400}, {'max_depth': 16, 'n_estimators': 500}], 'split0_test_score': array([0.47244094, 0.48818898, 0.49606299, 0.47244094, 0.46456693,\n",
      "       0.7007874 , 0.70866142, 0.73228346, 0.72440945, 0.73228346,\n",
      "       0.75590551, 0.76377953, 0.77165354, 0.77165354, 0.77165354,\n",
      "       0.78740157, 0.75590551, 0.77165354, 0.77952756, 0.75590551]), 'split1_test_score': array([0.50793651, 0.5       , 0.51587302, 0.52380952, 0.51587302,\n",
      "       0.69047619, 0.67460317, 0.67460317, 0.65873016, 0.65079365,\n",
      "       0.70634921, 0.68253968, 0.69047619, 0.71428571, 0.70634921,\n",
      "       0.70634921, 0.71428571, 0.71428571, 0.72222222, 0.73809524]), 'split2_test_score': array([0.528, 0.536, 0.544, 0.528, 0.528, 0.664, 0.712, 0.72 , 0.696,\n",
      "       0.712, 0.728, 0.736, 0.768, 0.776, 0.776, 0.744, 0.768, 0.76 ,\n",
      "       0.784, 0.776]), 'split3_test_score': array([0.48 , 0.464, 0.456, 0.44 , 0.44 , 0.624, 0.616, 0.64 , 0.624,\n",
      "       0.632, 0.656, 0.696, 0.704, 0.656, 0.656, 0.672, 0.696, 0.712,\n",
      "       0.704, 0.688]), 'split4_test_score': array([0.53225806, 0.50806452, 0.5       , 0.50806452, 0.5       ,\n",
      "       0.69354839, 0.69354839, 0.69354839, 0.72580645, 0.71774194,\n",
      "       0.75      , 0.75      , 0.75806452, 0.75      , 0.76612903,\n",
      "       0.77419355, 0.78225806, 0.79032258, 0.76612903, 0.79032258]), 'mean_test_score': array([0.50398724, 0.49920255, 0.50239234, 0.49441786, 0.48963317,\n",
      "       0.67464115, 0.68102073, 0.69218501, 0.68580542, 0.68899522,\n",
      "       0.71929825, 0.72567783, 0.738437  , 0.73365231, 0.73524721,\n",
      "       0.73684211, 0.74322169, 0.74960128, 0.75119617, 0.74960128]), 'std_test_score': array([0.02434001, 0.02360569, 0.02863525, 0.03351812, 0.03273329,\n",
      "       0.02816739, 0.03504623, 0.0329443 , 0.03934312, 0.03986702,\n",
      "       0.03613063, 0.03133433, 0.03424298, 0.04450145, 0.04698945,\n",
      "       0.04276647, 0.03269812, 0.03131297, 0.03215571, 0.03546905]), 'rank_test_score': array([16, 18, 17, 19, 20, 15, 14, 11, 13, 12, 10,  9,  5,  8,  7,  6,  4,\n",
      "        2,  1,  2], dtype=int32), 'split0_train_score': array([0.622, 0.628, 0.618, 0.604, 0.622, 0.98 , 0.98 , 0.982, 0.982,\n",
      "       0.984, 1.   , 1.   , 1.   , 1.   , 1.   , 1.   , 1.   , 1.   ,\n",
      "       1.   , 1.   ]), 'split1_train_score': array([0.61477046, 0.63073852, 0.62874251, 0.63073852, 0.65269461,\n",
      "       0.98403194, 0.98602794, 0.98602794, 0.98403194, 0.98403194,\n",
      "       1.        , 1.        , 1.        , 1.        , 1.        ,\n",
      "       1.        , 1.        , 1.        , 1.        , 1.        ]), 'split2_train_score': array([0.5876494 , 0.60756972, 0.60358566, 0.60756972, 0.61752988,\n",
      "       0.99601594, 0.9940239 , 0.99203187, 0.99601594, 0.99203187,\n",
      "       1.        , 1.        , 1.        , 1.        , 1.        ,\n",
      "       1.        , 1.        , 1.        , 1.        , 1.        ]), 'split3_train_score': array([0.63944223, 0.62749004, 0.62549801, 0.6314741 , 0.62151394,\n",
      "       0.9940239 , 0.9940239 , 0.9940239 , 0.99203187, 0.99203187,\n",
      "       1.        , 1.        , 1.        , 1.        , 1.        ,\n",
      "       1.        , 1.        , 1.        , 1.        , 1.        ]), 'split4_train_score': array([0.63817097, 0.64015905, 0.62823062, 0.64015905, 0.64015905,\n",
      "       0.98409543, 0.9860835 , 0.98807157, 0.9860835 , 0.98409543,\n",
      "       1.        , 1.        , 1.        , 1.        , 1.        ,\n",
      "       1.        , 1.        , 1.        , 1.        , 1.        ]), 'mean_train_score': array([0.62040661, 0.62679147, 0.62081136, 0.62278828, 0.6307795 ,\n",
      "       0.98763344, 0.98803185, 0.98843106, 0.98803265, 0.98723822,\n",
      "       1.        , 1.        , 1.        , 1.        , 1.        ,\n",
      "       1.        , 1.        , 1.        , 1.        , 1.        ]), 'std_train_score': array([0.01889586, 0.01063669, 0.00942912, 0.0143178 , 0.01346648,\n",
      "       0.00624279, 0.00536902, 0.00427805, 0.00521391, 0.00391412,\n",
      "       0.        , 0.        , 0.        , 0.        , 0.        ,\n",
      "       0.        , 0.        , 0.        , 0.        , 0.        ])}, 'RF_CM': [[72, 8, 8], [14, 73, 5], [14, 1, 75]]}\n"
     ]
    },
    {
     "data": {
      "image/png": "[encoded data removed]",
      "text/plain": [
       "<Figure size 432x288 with 2 Axes>"
      ]
     },
     "metadata": {},
     "output_type": "display_data"
    }
   ],
   "source": [
    "mallet_report = RandomForest(X_train, X_test, y_train, y_test)\n",
    "print(mallet_report)"
   ]
  },
  {
   "cell_type": "code",
   "execution_count": 40,
   "metadata": {},
   "outputs": [
    {
     "name": "stdout",
     "output_type": "stream",
     "text": [
      "Confusion matrix, without normalization\n",
      "[[62 10 16]\n",
      " [12 74  6]\n",
      " [15  5 70]]\n",
      "{'SVM_cross_val_score': [0.6585756006902961, 0.7461172784485318, 0.7405347121817335, 0.686484608435828, 0.683428752498648], 'SVM_mean_acc': 0.7030281904510074, 'SVM_std_acc': 0.06868635664917033, 'SVM_params': {'mean_fit_time': array([0.01811275, 0.02497702, 0.01726513, 0.01897068, 0.02457891,\n",
      "       0.01848698, 0.01596794, 0.02446976, 0.01788263, 0.01772089,\n",
      "       0.02155209, 0.0172184 , 0.07966938, 0.01970158, 0.01712694,\n",
      "       0.82233696, 0.02809305, 0.0174264 , 7.90388603, 0.05240421,\n",
      "       0.01778359]), 'std_fit_time': array([1.51971456e-03, 6.57651993e-04, 7.19040923e-04, 1.60570256e-03,\n",
      "       1.25437546e-03, 6.67375740e-04, 1.58364063e-03, 1.02764816e-03,\n",
      "       3.38842759e-04, 9.55078443e-04, 1.91443557e-04, 6.84878198e-04,\n",
      "       1.88856185e-02, 8.74685310e-04, 8.45137772e-04, 1.72403329e-01,\n",
      "       1.42813653e-03, 1.57204656e-04, 2.94975643e+00, 1.92928441e-03,\n",
      "       9.64777464e-04]), 'mean_score_time': array([0.00311508, 0.00436783, 0.00312004, 0.0038548 , 0.00475287,\n",
      "       0.00332203, 0.00309305, 0.00422597, 0.00358782, 0.00242701,\n",
      "       0.00397086, 0.00314503, 0.0022028 , 0.00359783, 0.0032856 ,\n",
      "       0.00228362, 0.00320997, 0.00317202, 0.00248609, 0.00296087,\n",
      "       0.00294099]), 'std_score_time': array([1.96572011e-04, 4.04845896e-04, 1.13249939e-04, 7.52905419e-04,\n",
      "       8.74612514e-04, 1.90905471e-04, 1.83810266e-04, 2.30514889e-04,\n",
      "       3.08018889e-04, 1.32528188e-04, 7.49720860e-05, 2.07647466e-04,\n",
      "       4.76602020e-05, 2.78853563e-04, 5.63485118e-04, 1.78263032e-04,\n",
      "       1.96742202e-04, 3.14920530e-05, 5.96310702e-04, 2.08497417e-04,\n",
      "       3.02046949e-04]), 'param_C': masked_array(data=[0.001, 0.001, 0.001, 0.01, 0.01, 0.01, 0.1, 0.1, 0.1,\n",
      "                   1, 1, 1, 10, 10, 10, 100, 100, 100, 1000, 1000, 1000],\n",
      "             mask=[False, False, False, False, False, False, False, False,\n",
      "                   False, False, False, False, False, False, False, False,\n",
      "                   False, False, False, False, False],\n",
      "       fill_value='?',\n",
      "            dtype=object), 'param_kernel': masked_array(data=['linear', 'rbf', 'poly', 'linear', 'rbf', 'poly',\n",
      "                   'linear', 'rbf', 'poly', 'linear', 'rbf', 'poly',\n",
      "                   'linear', 'rbf', 'poly', 'linear', 'rbf', 'poly',\n",
      "                   'linear', 'rbf', 'poly'],\n",
      "             mask=[False, False, False, False, False, False, False, False,\n",
      "                   False, False, False, False, False, False, False, False,\n",
      "                   False, False, False, False, False],\n",
      "       fill_value='?',\n",
      "            dtype=object), 'params': [{'C': 0.001, 'kernel': 'linear'}, {'C': 0.001, 'kernel': 'rbf'}, {'C': 0.001, 'kernel': 'poly'}, {'C': 0.01, 'kernel': 'linear'}, {'C': 0.01, 'kernel': 'rbf'}, {'C': 0.01, 'kernel': 'poly'}, {'C': 0.1, 'kernel': 'linear'}, {'C': 0.1, 'kernel': 'rbf'}, {'C': 0.1, 'kernel': 'poly'}, {'C': 1, 'kernel': 'linear'}, {'C': 1, 'kernel': 'rbf'}, {'C': 1, 'kernel': 'poly'}, {'C': 10, 'kernel': 'linear'}, {'C': 10, 'kernel': 'rbf'}, {'C': 10, 'kernel': 'poly'}, {'C': 100, 'kernel': 'linear'}, {'C': 100, 'kernel': 'rbf'}, {'C': 100, 'kernel': 'poly'}, {'C': 1000, 'kernel': 'linear'}, {'C': 1000, 'kernel': 'rbf'}, {'C': 1000, 'kernel': 'poly'}], 'split0_test_score': array([0.33858268, 0.33858268, 0.33858268, 0.33070866, 0.33858268,\n",
      "       0.33858268, 0.57480315, 0.33858268, 0.33858268, 0.54330709,\n",
      "       0.54330709, 0.33858268, 0.56692913, 0.5984252 , 0.33858268,\n",
      "       0.59055118, 0.64566929, 0.5984252 , 0.57480315, 0.66141732,\n",
      "       0.71653543]), 'split1_test_score': array([0.33333333, 0.33333333, 0.33333333, 0.37301587, 0.33333333,\n",
      "       0.33333333, 0.46031746, 0.33333333, 0.33333333, 0.53174603,\n",
      "       0.48412698, 0.33333333, 0.57142857, 0.61111111, 0.33333333,\n",
      "       0.55555556, 0.68253968, 0.53174603, 0.56349206, 0.74603175,\n",
      "       0.68253968]), 'split2_test_score': array([0.336, 0.336, 0.336, 0.336, 0.336, 0.336, 0.584, 0.336, 0.336,\n",
      "       0.592, 0.56 , 0.336, 0.6  , 0.616, 0.336, 0.608, 0.72 , 0.52 ,\n",
      "       0.608, 0.744, 0.624]), 'split3_test_score': array([0.336, 0.336, 0.336, 0.352, 0.336, 0.336, 0.568, 0.336, 0.336,\n",
      "       0.56 , 0.512, 0.336, 0.576, 0.544, 0.336, 0.56 , 0.64 , 0.472,\n",
      "       0.568, 0.688, 0.656]), 'split4_test_score': array([0.33870968, 0.33870968, 0.33870968, 0.38709677, 0.33870968,\n",
      "       0.33870968, 0.58870968, 0.33870968, 0.33870968, 0.54032258,\n",
      "       0.55645161, 0.33870968, 0.51612903, 0.59677419, 0.33870968,\n",
      "       0.52419355, 0.60483871, 0.57258065, 0.52419355, 0.68548387,\n",
      "       0.65322581]), 'mean_test_score': array([0.33652313, 0.33652313, 0.33652313, 0.35566188, 0.33652313,\n",
      "       0.33652313, 0.55502392, 0.33652313, 0.33652313, 0.55342903,\n",
      "       0.53110048, 0.33652313, 0.5661882 , 0.59330144, 0.33652313,\n",
      "       0.56778309, 0.65869219, 0.53907496, 0.56778309, 0.70494418,\n",
      "       0.66666667]), 'std_test_score': array([0.0019896 , 0.0019896 , 0.0019896 , 0.02148978, 0.0019896 ,\n",
      "       0.0019896 , 0.04803182, 0.0019896 , 0.0019896 , 0.02131684,\n",
      "       0.02898157, 0.0019896 , 0.02735561, 0.02566583, 0.0019896 ,\n",
      "       0.02907469, 0.03925798, 0.04376952, 0.02668158, 0.03404756,\n",
      "       0.03123612]), 'rank_test_score': array([13, 13, 13, 12, 13, 13,  8, 13, 13,  9, 11, 13,  7,  4, 13,  5,  3,\n",
      "       10,  5,  1,  2], dtype=int32), 'split0_train_score': array([0.336, 0.336, 0.336, 0.354, 0.336, 0.336, 0.658, 0.336, 0.336,\n",
      "       0.692, 0.604, 0.336, 0.732, 0.76 , 0.336, 0.74 , 0.898, 0.718,\n",
      "       0.742, 0.994, 0.916]), 'split1_train_score': array([0.33732535, 0.33732535, 0.33732535, 0.37924152, 0.33732535,\n",
      "       0.33732535, 0.63073852, 0.33732535, 0.33732535, 0.69461078,\n",
      "       0.61077844, 0.33732535, 0.70658683, 0.73053892, 0.33732535,\n",
      "       0.71656687, 0.90818363, 0.71856287, 0.7245509 , 0.99800399,\n",
      "       0.89820359]), 'split2_train_score': array([0.33665339, 0.33665339, 0.33665339, 0.36055777, 0.33665339,\n",
      "       0.33665339, 0.65537849, 0.33665339, 0.33665339, 0.69521912,\n",
      "       0.62549801, 0.33665339, 0.73505976, 0.71314741, 0.33665339,\n",
      "       0.74103586, 0.9063745 , 0.71314741, 0.73904382, 0.99800797,\n",
      "       0.88446215]), 'split3_train_score': array([0.33665339, 0.33665339, 0.33665339, 0.39641434, 0.33665339,\n",
      "       0.33665339, 0.6752988 , 0.33665339, 0.33665339, 0.71513944,\n",
      "       0.62749004, 0.33665339, 0.74501992, 0.75298805, 0.33665339,\n",
      "       0.74701195, 0.91832669, 0.66733068, 0.74900398, 0.99601594,\n",
      "       0.92629482]), 'split4_train_score': array([0.3359841 , 0.3359841 , 0.3359841 , 0.41550696, 0.3359841 ,\n",
      "       0.3359841 , 0.64811133, 0.3359841 , 0.3359841 , 0.71371769,\n",
      "       0.62027833, 0.3359841 , 0.74950298, 0.76143141, 0.3359841 ,\n",
      "       0.7554672 , 0.92246521, 0.74950298, 0.75149105, 0.99204771,\n",
      "       0.93638171]), 'mean_train_score': array([0.33652324, 0.33652324, 0.33652324, 0.38114412, 0.33652324,\n",
      "       0.33652324, 0.65350543, 0.33652324, 0.33652324, 0.70213741,\n",
      "       0.61760896, 0.33652324, 0.7336339 , 0.74362116, 0.33652324,\n",
      "       0.74001637, 0.91067001, 0.71330879, 0.74121795, 0.99561512,\n",
      "       0.91226845]), 'std_train_score': array([0.00049834, 0.00049834, 0.00049834, 0.02270773, 0.00049834,\n",
      "       0.00049834, 0.01446436, 0.00049834, 0.00049834, 0.01010382,\n",
      "       0.0089315 , 0.00049834, 0.01495136, 0.01883085, 0.00049834,\n",
      "       0.01295056, 0.00875116, 0.02635771, 0.00947933, 0.00232069,\n",
      "       0.0187783 ])}, 'SVM_CM': [[62, 10, 16], [12, 74, 6], [15, 5, 70]]}\n"
     ]
    },
    {
     "data": {
      "image/png": "[encoded data removed]",
      "text/plain": [
       "<Figure size 432x288 with 2 Axes>"
      ]
     },
     "metadata": {},
     "output_type": "display_data"
    }
   ],
   "source": [
    "mallet_report = SVMClassifier(X_train, X_test, y_train, y_test)\n",
    "print(mallet_report)"
   ]
  },
  {
   "cell_type": "code",
   "execution_count": null,
   "metadata": {},
   "outputs": [],
   "source": []
  },
  {
   "cell_type": "code",
   "execution_count": null,
   "metadata": {},
   "outputs": [],
   "source": []
  }
 ],
 "metadata": {
  "kernelspec": {
   "display_name": "Python 3",
   "language": "python",
   "name": "python3"
  },
  "language_info": {
   "codemirror_mode": {
    "name": "ipython",
    "version": 3
   },
   "file_extension": ".py",
   "mimetype": "text/x-python",
   "name": "python",
   "nbconvert_exporter": "python",
   "pygments_lexer": "ipython3",
   "version": "3.6.5"
  }
 },
 "nbformat": 4,
 "nbformat_minor": 2
}
