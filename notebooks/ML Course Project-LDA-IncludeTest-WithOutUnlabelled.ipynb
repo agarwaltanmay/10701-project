{
 "cells": [
  {
   "cell_type": "markdown",
   "metadata": {},
   "source": [
    "# Machine Learning Course Project\n",
    "## Identifying User Stance On Social Media via Semi-Supervised Learning"
   ]
  },
  {
   "cell_type": "markdown",
   "metadata": {},
   "source": [
    "### Overview\n",
    "\n",
    "#### Midsem Pipeline - \n",
    "\n",
    " - **Read Data**: Read text files to load all the words. \n",
    " - **Clean Data**: Remove stop-words, everything lowercase, dehashify hashtags.\n",
    " - **Format Data**: Create data in a format required by each baseline method. \n",
    " - **Baseline Approaches**: LSA, pLSA, Para2Vec, LDA Topic Modelling. The goal of these approaches is to create a \"FIXED SIZE\" and \"HIGH LEVEL\" feature representation for variable length tweets. These representations leverage our unlabelled data. \n",
    " - **Training**: Some Supervised Learning on the learned representation using the given labels. \n",
    " - **Evaluation**: Compare the different methods mentioned above on different datasets. \n",
    "\n",
    "#### Endsem Approaches - \n",
    " - LDA2Vec - https://www.datacamp.com/community/tutorials/lda2vec-topic-model\n",
    " - Gaussian LDA - https://rajarshd.github.io/papers/acl2015.pdf\n",
    " - Word Embeddings Informed Topic Models - http://proceedings.mlr.press/v77/zhao17a/zhao17a.pdf\n",
    " \n",
    "#### Reference\n",
    " - https://www.machinelearningplus.com/nlp/topic-modeling-gensim-python/"
   ]
  },
  {
   "cell_type": "markdown",
   "metadata": {},
   "source": [
    "## Constants"
   ]
  },
  {
   "cell_type": "code",
   "execution_count": 1,
   "metadata": {},
   "outputs": [],
   "source": [
    "# PATH_LABELLED_DATA_TRAINING = \"../semeval2016-task6-domaincorpus/data-all-annotations/trainingdata-all-annotations.txt\"\n",
    "PATH_LABELLED_DATA_TRUMP = \"../semeval2016-task6-domaincorpus/data-all-annotations/testdata-taskB-all-annotations.txt\"\n",
    "PATH_UNLABELLED_DATA_TRUMP = \"./../semeval2016-task6-domaincorpus/downloaded_Donald_Trump.txt\""
   ]
  },
  {
   "cell_type": "markdown",
   "metadata": {},
   "source": [
    "## Data "
   ]
  },
  {
   "cell_type": "code",
   "execution_count": 2,
   "metadata": {},
   "outputs": [],
   "source": [
    "# SETUP\n",
    "# # Run in python console\n",
    "# import nltk; nltk.download('stopwords')\n",
    "\n",
    "# # Run in terminal or command prompt\n",
    "# !python -m spacy download en"
   ]
  },
  {
   "cell_type": "code",
   "execution_count": 3,
   "metadata": {},
   "outputs": [],
   "source": [
    "# !pip install gensim\n",
    "# !pip install pyLDAvis"
   ]
  },
  {
   "cell_type": "code",
   "execution_count": 4,
   "metadata": {},
   "outputs": [],
   "source": [
    "import pandas as pd\n",
    "import numpy as np\n",
    "import re\n",
    "from pprint import pprint\n",
    "\n",
    "# Gensim\n",
    "import gensim\n",
    "import gensim.corpora as corpora\n",
    "from gensim.utils import simple_preprocess\n",
    "from gensim.models import CoherenceModel\n",
    "from gensim.models import LsiModel\n",
    "\n",
    "# spacy for lemmatization\n",
    "import spacy\n",
    "\n",
    "# Plotting tools\n",
    "import pyLDAvis\n",
    "import pyLDAvis.gensim  # don't skip this\n",
    "import matplotlib.pyplot as plt\n",
    "%matplotlib inline\n",
    "\n",
    "# Enable logging for gensim - optional\n",
    "import logging\n",
    "logging.basicConfig(format='%(asctime)s : %(levelname)s : %(message)s', level=logging.ERROR)\n",
    "\n",
    "import warnings\n",
    "warnings.filterwarnings(\"ignore\",category=DeprecationWarning)"
   ]
  },
  {
   "cell_type": "code",
   "execution_count": 5,
   "metadata": {},
   "outputs": [],
   "source": [
    "from nltk.corpus import stopwords\n",
    "stop_words = stopwords.words('english')\n",
    "stop_words.extend(['via'])"
   ]
  },
  {
   "cell_type": "markdown",
   "metadata": {},
   "source": [
    "### Read Sem-Eval Task A Data (Labelled)\n",
    "\n",
    "Interactive Visualization - http://www.saifmohammad.com/WebPages/StanceDataset.htm\n",
    "\n",
    "Targets - \n",
    " - Hilary Clinton\n",
    " - Atheism\n",
    " - Climate Change\n",
    " - Donald Trump\n",
    " - Feminism\n",
    " - Abortion"
   ]
  },
  {
   "cell_type": "markdown",
   "metadata": {},
   "source": [
    "### Remove Symbols"
   ]
  },
  {
   "cell_type": "code",
   "execution_count": 6,
   "metadata": {},
   "outputs": [],
   "source": [
    "def clean_tweets(sent):\n",
    "    sent = str(sent)\n",
    "    \n",
    "    # Remove new line characters\n",
    "    sent = re.sub('\\s+', ' ', sent)\n",
    "\n",
    "    # Remove distracting single quotes\n",
    "    sent = re.sub(\"\\'\", \"\", sent)\n",
    "\n",
    "    # Remove distracting single quotes\n",
    "    sent = re.sub(\"\\\"\", \"\", sent)\n",
    "\n",
    "    # Remove hashtags\n",
    "    sent = re.sub(\"\\#\", \"\", sent)\n",
    "\n",
    "    # Remove http:// links\n",
    "    sent = re.sub('http:\\/\\/.*','', sent)\n",
    "\n",
    "    # Remove https:// links\n",
    "    sent = re.sub('https:\\/\\/.*','', sent)\n",
    "    \n",
    "    # Remove emojis\n",
    "#     emoji_pattern = re.compile(\"[\"\n",
    "#         u\"\\U0001F600-\\U0001F64F\"  # emoticons\n",
    "#         u\"\\U0001F300-\\U0001F5FF\"  # symbols & pictographs\n",
    "#         u\"\\U0001F680-\\U0001F6FF\"  # transport & map symbols\n",
    "#         u\"\\U0001F1E0-\\U0001F1FF\"  # flags (iOS)\n",
    "#                            \"]+\", flags=re.UNICODE)\n",
    "    \n",
    "#     sent = emoji_pattern.sub(r'', sent)\n",
    "    \n",
    "    return sent\n",
    "    "
   ]
  },
  {
   "cell_type": "code",
   "execution_count": 7,
   "metadata": {},
   "outputs": [],
   "source": [
    "X_train = pd.read_pickle('X_train.pkl')\n",
    "X_test = pd.read_pickle('X_test.pkl')\n",
    "y_train = pd.read_pickle('y_train.pkl')\n",
    "y_test = pd.read_pickle('y_test.pkl')\n",
    "\n",
    "data_X = pd.concat([X_train, X_test], ignore_index=True, axis=0)\n",
    "data_y = pd.concat([y_train, y_test], ignore_index=True, axis=0)\n",
    "data_labelled = pd.concat([data_X, data_y], ignore_index=True, axis=1)\n",
    "data_labelled.columns = ['Tweet', 'Stance']\n",
    "# data_labelled = pd.DataFrame([data_labelled], columns = ['Tweet', 'Stance'])\n",
    "# data_labelled = data_labelled.where(data_labelled.Target != np.nan)"
   ]
  },
  {
   "cell_type": "markdown",
   "metadata": {},
   "source": [
    "#### Data Stats"
   ]
  },
  {
   "cell_type": "code",
   "execution_count": 8,
   "metadata": {},
   "outputs": [
    {
     "data": {
      "text/plain": [
       "Tweet     299\n",
       "Stance    299\n",
       "dtype: int64"
      ]
     },
     "execution_count": 8,
     "metadata": {},
     "output_type": "execute_result"
    }
   ],
   "source": [
    "data_labelled.where(data_labelled.Stance == 'AGAINST').count()"
   ]
  },
  {
   "cell_type": "code",
   "execution_count": 9,
   "metadata": {},
   "outputs": [
    {
     "data": {
      "text/plain": [
       "Tweet     299\n",
       "Stance    299\n",
       "dtype: int64"
      ]
     },
     "execution_count": 9,
     "metadata": {},
     "output_type": "execute_result"
    }
   ],
   "source": [
    "data_labelled.where(data_labelled.Stance == 'NONE').count()"
   ]
  },
  {
   "cell_type": "code",
   "execution_count": 10,
   "metadata": {},
   "outputs": [
    {
     "data": {
      "text/plain": [
       "Tweet     299\n",
       "Stance    299\n",
       "dtype: int64"
      ]
     },
     "execution_count": 10,
     "metadata": {},
     "output_type": "execute_result"
    }
   ],
   "source": [
    "data_labelled.where(data_labelled.Stance == 'FAVOR').count()"
   ]
  },
  {
   "cell_type": "markdown",
   "metadata": {},
   "source": [
    "### Read Sem-Eval Task B Data (Unlabelled)"
   ]
  },
  {
   "cell_type": "code",
   "execution_count": 11,
   "metadata": {},
   "outputs": [],
   "source": [
    "data_unlabelled = pd.read_csv(PATH_UNLABELLED_DATA_TRUMP, sep='\\t', lineterminator='\\n', encoding ='latin1', names = [\"ID\", \"Tweet\"])\n",
    "data_unlabelled = data_unlabelled.where(data_unlabelled.Tweet != 'Not Available')\n",
    "data_unlabelled.dropna(how='any', inplace=True)\n",
    "data_unlabelled['Tweet'] = data_unlabelled['Tweet'].apply(lambda x: x[1:])\n",
    "data_unlabelled['Tweet'] = data_unlabelled['Tweet'].apply(clean_tweets)\n",
    "# data_unlabelled = data_unlabelled[:1000]\n",
    "# data_unlabelled['Tweet'] = data_unlabelled['Tweet'].str.decode('latin1')"
   ]
  },
  {
   "cell_type": "code",
   "execution_count": 12,
   "metadata": {},
   "outputs": [],
   "source": [
    "combined_data = pd.concat([data_labelled], ignore_index=True)"
   ]
  },
  {
   "cell_type": "code",
   "execution_count": 13,
   "metadata": {},
   "outputs": [
    {
     "data": {
      "text/plain": [
       "Tweet     897\n",
       "Stance    897\n",
       "dtype: int64"
      ]
     },
     "execution_count": 13,
     "metadata": {},
     "output_type": "execute_result"
    }
   ],
   "source": [
    "combined_data.count()"
   ]
  },
  {
   "cell_type": "code",
   "execution_count": 14,
   "metadata": {
    "scrolled": true
   },
   "outputs": [
    {
     "data": {
      "text/html": [
       "<div>\n",
       "<style scoped>\n",
       "    .dataframe tbody tr th:only-of-type {\n",
       "        vertical-align: middle;\n",
       "    }\n",
       "\n",
       "    .dataframe tbody tr th {\n",
       "        vertical-align: top;\n",
       "    }\n",
       "\n",
       "    .dataframe thead th {\n",
       "        text-align: right;\n",
       "    }\n",
       "</style>\n",
       "<table border=\"1\" class=\"dataframe\">\n",
       "  <thead>\n",
       "    <tr style=\"text-align: right;\">\n",
       "      <th></th>\n",
       "      <th>Tweet</th>\n",
       "      <th>Stance</th>\n",
       "    </tr>\n",
       "  </thead>\n",
       "  <tbody>\n",
       "    <tr>\n",
       "      <th>0</th>\n",
       "      <td>Today &amp; everyday I am proud to be an American....</td>\n",
       "      <td>AGAINST</td>\n",
       "    </tr>\n",
       "    <tr>\n",
       "      <th>1</th>\n",
       "      <td>@JonathanHoenig Why arent Americans allowed WE...</td>\n",
       "      <td>NONE</td>\n",
       "    </tr>\n",
       "    <tr>\n",
       "      <th>2</th>\n",
       "      <td>@toddstarnes Marriage is designed and defined ...</td>\n",
       "      <td>NONE</td>\n",
       "    </tr>\n",
       "    <tr>\n",
       "      <th>3</th>\n",
       "      <td>@realDonaldTrump we need someone like you who ...</td>\n",
       "      <td>FAVOR</td>\n",
       "    </tr>\n",
       "    <tr>\n",
       "      <th>4</th>\n",
       "      <td>@Dahat8 @Stonewall_77 The HATE within America ...</td>\n",
       "      <td>AGAINST</td>\n",
       "    </tr>\n",
       "    <tr>\n",
       "      <th>5</th>\n",
       "      <td>@Rene_gadeCowboy @danoroadblade yes but if a c...</td>\n",
       "      <td>NONE</td>\n",
       "    </tr>\n",
       "    <tr>\n",
       "      <th>6</th>\n",
       "      <td>@FFRNNU Maybe MSM should be talking more about...</td>\n",
       "      <td>AGAINST</td>\n",
       "    </tr>\n",
       "    <tr>\n",
       "      <th>7</th>\n",
       "      <td>@realDonaldTrump had a point and one the liber...</td>\n",
       "      <td>FAVOR</td>\n",
       "    </tr>\n",
       "    <tr>\n",
       "      <th>8</th>\n",
       "      <td>Did anyone cut ties with Senator Lindsey Graha...</td>\n",
       "      <td>AGAINST</td>\n",
       "    </tr>\n",
       "    <tr>\n",
       "      <th>9</th>\n",
       "      <td>@GOP If you can not debate Trump, you should n...</td>\n",
       "      <td>FAVOR</td>\n",
       "    </tr>\n",
       "  </tbody>\n",
       "</table>\n",
       "</div>"
      ],
      "text/plain": [
       "                                               Tweet   Stance\n",
       "0  Today & everyday I am proud to be an American....  AGAINST\n",
       "1  @JonathanHoenig Why arent Americans allowed WE...     NONE\n",
       "2  @toddstarnes Marriage is designed and defined ...     NONE\n",
       "3  @realDonaldTrump we need someone like you who ...    FAVOR\n",
       "4  @Dahat8 @Stonewall_77 The HATE within America ...  AGAINST\n",
       "5  @Rene_gadeCowboy @danoroadblade yes but if a c...     NONE\n",
       "6  @FFRNNU Maybe MSM should be talking more about...  AGAINST\n",
       "7  @realDonaldTrump had a point and one the liber...    FAVOR\n",
       "8  Did anyone cut ties with Senator Lindsey Graha...  AGAINST\n",
       "9  @GOP If you can not debate Trump, you should n...    FAVOR"
      ]
     },
     "execution_count": 14,
     "metadata": {},
     "output_type": "execute_result"
    }
   ],
   "source": [
    "combined_data.head(10)"
   ]
  },
  {
   "cell_type": "markdown",
   "metadata": {},
   "source": []
  },
  {
   "cell_type": "code",
   "execution_count": 15,
   "metadata": {},
   "outputs": [],
   "source": [
    "df = combined_data['Tweet']\n",
    "# df = data_labelled['Tweet']"
   ]
  },
  {
   "cell_type": "code",
   "execution_count": 16,
   "metadata": {},
   "outputs": [
    {
     "name": "stdout",
     "output_type": "stream",
     "text": [
      "['Today & everyday I am proud to be an American. Im honored to be apart of the '\n",
      " 'best the world has to offer! 4thofJuly SemST']\n"
     ]
    }
   ],
   "source": [
    "data = df.values.tolist()\n",
    "pprint(data[:1])"
   ]
  },
  {
   "cell_type": "markdown",
   "metadata": {},
   "source": [
    "### Sentences To Words"
   ]
  },
  {
   "cell_type": "code",
   "execution_count": 17,
   "metadata": {},
   "outputs": [
    {
     "name": "stdout",
     "output_type": "stream",
     "text": [
      "[['today',\n",
      "  'everyday',\n",
      "  'am',\n",
      "  'proud',\n",
      "  'to',\n",
      "  'be',\n",
      "  'an',\n",
      "  'american',\n",
      "  'im',\n",
      "  'honored',\n",
      "  'to',\n",
      "  'be',\n",
      "  'apart',\n",
      "  'of',\n",
      "  'the',\n",
      "  'best',\n",
      "  'the',\n",
      "  'world',\n",
      "  'has',\n",
      "  'to',\n",
      "  'offer',\n",
      "  'thofjuly',\n",
      "  'semst']]\n"
     ]
    }
   ],
   "source": [
    "def sent_to_words(sentences):\n",
    "    for sentence in sentences:\n",
    "        yield(gensim.utils.simple_preprocess(str(sentence), deacc=True))  # deacc=True removes punctuations\n",
    "\n",
    "data_words = list(sent_to_words(data))\n",
    "\n",
    "pprint(data_words[:1])"
   ]
  },
  {
   "cell_type": "markdown",
   "metadata": {},
   "source": [
    "### Create Bi-Grams Tri-Grams"
   ]
  },
  {
   "cell_type": "code",
   "execution_count": 18,
   "metadata": {},
   "outputs": [
    {
     "name": "stdout",
     "output_type": "stream",
     "text": [
      "['today', 'everyday', 'am', 'proud', 'to', 'be', 'an', 'american', 'im', 'honored', 'to', 'be', 'apart', 'of', 'the', 'best', 'the', 'world', 'has', 'to', 'offer', 'thofjuly', 'semst']\n"
     ]
    }
   ],
   "source": [
    "# Build the bigram and trigram models\n",
    "bigram = gensim.models.Phrases(data_words, min_count=5, threshold=100) # higher threshold fewer phrases.\n",
    "trigram = gensim.models.Phrases(bigram[data_words], threshold=100)  \n",
    "\n",
    "# Faster way to get a sentence clubbed as a trigram/bigram\n",
    "bigram_mod = gensim.models.phrases.Phraser(bigram)\n",
    "trigram_mod = gensim.models.phrases.Phraser(trigram)\n",
    "\n",
    "# See trigram example\n",
    "print(trigram_mod[bigram_mod[data_words[0]]])"
   ]
  },
  {
   "cell_type": "markdown",
   "metadata": {},
   "source": [
    "### Remove Stop Words and Lemmatize\n",
    "\n",
    "WE NEED PRONOUNS FOR STANCE"
   ]
  },
  {
   "cell_type": "code",
   "execution_count": 19,
   "metadata": {},
   "outputs": [],
   "source": [
    "# Define functions for stopwords, bigrams, trigrams and lemmatization\n",
    "def remove_stopwords(texts):\n",
    "    return [[word for word in simple_preprocess(str(doc)) if word not in stop_words] for doc in texts]\n",
    "\n",
    "def make_bigrams(texts):\n",
    "    return [bigram_mod[doc] for doc in texts]\n",
    "\n",
    "def make_trigrams(texts):\n",
    "    return [trigram_mod[bigram_mod[doc]] for doc in texts]\n",
    "\n",
    "def lemmatization(texts, allowed_postags=['NOUN', 'ADJ', 'VERB', 'ADV', 'PRON']):\n",
    "    \"\"\"https://spacy.io/api/annotation\"\"\"\n",
    "    texts_out = []\n",
    "    for sent in texts:\n",
    "        doc = nlp(\" \".join(sent)) \n",
    "        texts_out.append([token.lemma_ for token in doc if token.pos_ in allowed_postags])\n",
    "    return texts_out"
   ]
  },
  {
   "cell_type": "code",
   "execution_count": 20,
   "metadata": {},
   "outputs": [
    {
     "name": "stdout",
     "output_type": "stream",
     "text": [
      "[['today', 'everyday', 'proud', '-PRON-', 'be', 'honor', 'apart', 'good', 'world', 'offer', 'thofjuly', 'semst']]\n",
      "897\n"
     ]
    },
    {
     "data": {
      "text/plain": [
       "(None, None)"
      ]
     },
     "execution_count": 20,
     "metadata": {},
     "output_type": "execute_result"
    }
   ],
   "source": [
    "# Remove Stop Words\n",
    "data_words_nostops = remove_stopwords(data_words)\n",
    "\n",
    "# Form Bigrams\n",
    "data_words_bigrams = make_bigrams(data_words_nostops)\n",
    "\n",
    "# Initialize spacy 'en' model, keeping only tagger component (for efficiency)\n",
    "# python3 -m spacy download en\n",
    "nlp = spacy.load('en', disable=['parser', 'ner'])\n",
    "\n",
    "# Do lemmatization keeping only noun, adj, vb, adv\n",
    "data_lemmatized = lemmatization(data_words_bigrams, allowed_postags=['NOUN', 'ADJ', 'VERB', 'ADV', 'PRON'])\n",
    "\n",
    "print(data_lemmatized[:1]), print(len(data_lemmatized))"
   ]
  },
  {
   "cell_type": "markdown",
   "metadata": {},
   "source": [
    "## Format Data"
   ]
  },
  {
   "cell_type": "code",
   "execution_count": 21,
   "metadata": {},
   "outputs": [
    {
     "name": "stdout",
     "output_type": "stream",
     "text": [
      "[[(0, 1), (1, 1), (2, 1), (3, 1), (4, 1), (5, 1), (6, 1), (7, 1), (8, 1), (9, 1), (10, 1), (11, 1)]]\n"
     ]
    }
   ],
   "source": [
    "# Create Dictionary\n",
    "id2word = corpora.Dictionary(data_lemmatized)\n",
    "\n",
    "# Create Corpus\n",
    "texts = data_lemmatized\n",
    "\n",
    "# Term Document Frequency\n",
    "corpus = [id2word.doc2bow(text) for text in texts]\n",
    "\n",
    "# View\n",
    "print(corpus[:1])"
   ]
  },
  {
   "cell_type": "code",
   "execution_count": 22,
   "metadata": {},
   "outputs": [
    {
     "data": {
      "text/plain": [
       "[[('-PRON-', 1),\n",
       "  ('apart', 1),\n",
       "  ('be', 1),\n",
       "  ('everyday', 1),\n",
       "  ('good', 1),\n",
       "  ('honor', 1),\n",
       "  ('offer', 1),\n",
       "  ('proud', 1),\n",
       "  ('semst', 1),\n",
       "  ('thofjuly', 1),\n",
       "  ('today', 1),\n",
       "  ('world', 1)]]"
      ]
     },
     "execution_count": 22,
     "metadata": {},
     "output_type": "execute_result"
    }
   ],
   "source": [
    "# Human readable format of corpus (term-frequency)\n",
    "[[(id2word[id], freq) for id, freq in cp] for cp in corpus[:1]]"
   ]
  },
  {
   "cell_type": "code",
   "execution_count": 23,
   "metadata": {},
   "outputs": [
    {
     "data": {
      "text/plain": [
       "1826"
      ]
     },
     "execution_count": 23,
     "metadata": {},
     "output_type": "execute_result"
    }
   ],
   "source": [
    "len(id2word)"
   ]
  },
  {
   "cell_type": "markdown",
   "metadata": {},
   "source": [
    "## LDA"
   ]
  },
  {
   "cell_type": "markdown",
   "metadata": {},
   "source": [
    "### Model 2"
   ]
  },
  {
   "cell_type": "code",
   "execution_count": 24,
   "metadata": {},
   "outputs": [],
   "source": [
    "# !wget http://mallet.cs.umass.edu/dist/mallet-2.0.8.zip\n",
    "# !unzip mallet-2.0.8.zip"
   ]
  },
  {
   "cell_type": "code",
   "execution_count": 25,
   "metadata": {},
   "outputs": [],
   "source": [
    "def compute_coherence_values(dictionary, corpus, texts, limit, start=2, step=3):\n",
    "    \"\"\"\n",
    "    Compute c_v coherence for various number of topics\n",
    "\n",
    "    Parameters:\n",
    "    ----------\n",
    "    dictionary : Gensim dictionary\n",
    "    corpus : Gensim corpus\n",
    "    texts : List of input texts\n",
    "    limit : Max num of topics\n",
    "\n",
    "    Returns:\n",
    "    -------\n",
    "    model_list : List of LDA topic models\n",
    "    coherence_values : Coherence values corresponding to the LDA model with respective number of topics\n",
    "    \"\"\"\n",
    "    coherence_values = []\n",
    "    model_list = []\n",
    "    for num_topics in range(start, limit, step):\n",
    "        model = gensim.models.wrappers.LdaMallet('./mallet-2.0.8/bin/mallet', corpus=corpus, num_topics=num_topics, id2word=id2word)\n",
    "        model_list.append(model)\n",
    "        coherencemodel = CoherenceModel(model=model, texts=texts, dictionary=dictionary, coherence='c_v')\n",
    "        coherence_values.append(coherencemodel.get_coherence())\n",
    "\n",
    "    return model_list, coherence_values"
   ]
  },
  {
   "cell_type": "code",
   "execution_count": 26,
   "metadata": {},
   "outputs": [],
   "source": [
    "model_list, coherence_values = compute_coherence_values(dictionary=id2word, corpus=corpus, texts=data_lemmatized, start=2, limit=40, step=6)"
   ]
  },
  {
   "cell_type": "code",
   "execution_count": 27,
   "metadata": {},
   "outputs": [
    {
     "data": {
      "image/png": "[encoded data removed]",
      "text/plain": [
       "<Figure size 432x288 with 1 Axes>"
      ]
     },
     "metadata": {},
     "output_type": "display_data"
    }
   ],
   "source": [
    "limit=40; start=2; step=6;\n",
    "x = range(start, limit, step)\n",
    "plt.plot(x, coherence_values)\n",
    "plt.xlabel(\"Num Topics\")\n",
    "plt.ylabel(\"Coherence score\")\n",
    "plt.legend((\"coherence_values\"), loc='best')\n",
    "plt.show()"
   ]
  },
  {
   "cell_type": "code",
   "execution_count": 28,
   "metadata": {},
   "outputs": [
    {
     "data": {
      "text/plain": [
       "897"
      ]
     },
     "execution_count": 28,
     "metadata": {},
     "output_type": "execute_result"
    }
   ],
   "source": [
    "len(corpus)"
   ]
  },
  {
   "cell_type": "code",
   "execution_count": 29,
   "metadata": {},
   "outputs": [],
   "source": [
    "num_topics = x[np.argmax(coherence_values)]"
   ]
  },
  {
   "cell_type": "code",
   "execution_count": 30,
   "metadata": {},
   "outputs": [
    {
     "data": {
      "text/plain": [
       "8"
      ]
     },
     "execution_count": 30,
     "metadata": {},
     "output_type": "execute_result"
    }
   ],
   "source": [
    "num_topics"
   ]
  },
  {
   "cell_type": "code",
   "execution_count": 31,
   "metadata": {},
   "outputs": [],
   "source": [
    "mallet_path = './mallet-2.0.8/bin/mallet' # update this path\n",
    "ldamallet = gensim.models.wrappers.LdaMallet(mallet_path, corpus=corpus, num_topics=num_topics, id2word=id2word)\n",
    "ldamallet = gensim.models.wrappers.ldamallet.malletmodel2ldamodel(ldamallet)"
   ]
  },
  {
   "cell_type": "code",
   "execution_count": 32,
   "metadata": {},
   "outputs": [],
   "source": [
    "from gensim.test.utils import datapath\n",
    "\n",
    "# Save model to disk.\n",
    "temp_file = datapath(\"lda-mallet-model-only-labelled-without-unlabelled-\"+str(num_topics))\n",
    "ldamallet.save(temp_file)"
   ]
  },
  {
   "cell_type": "code",
   "execution_count": 33,
   "metadata": {},
   "outputs": [],
   "source": [
    "from gensim.test.utils import datapath\n",
    "\n",
    "temp_file = datapath(\"lda-mallet-model-only-labelled-without-unlabelled-\"+str(num_topics))\n",
    "# Load a potentially pretrained model from disk.\n",
    "ldamallet = gensim.models.ldamodel.LdaModel.load(temp_file)"
   ]
  },
  {
   "cell_type": "code",
   "execution_count": 34,
   "metadata": {},
   "outputs": [
    {
     "name": "stdout",
     "output_type": "stream",
     "text": [
      "[(0,\n",
      "  [('-PRON-', 0.15141955835962145),\n",
      "   ('america', 0.0694006309148265),\n",
      "   ('semst', 0.058885383806519455),\n",
      "   ('president', 0.03785488958990536),\n",
      "   ('truth', 0.03680336487907466),\n",
      "   ('nbc', 0.028391167192429023),\n",
      "   ('macy', 0.028391167192429023),\n",
      "   ('love', 0.016824395373291272),\n",
      "   ('put', 0.014721345951629864),\n",
      "   ('fuck', 0.013669821240799159)]),\n",
      " (1,\n",
      "  [('trump', 0.2321618743343983),\n",
      "   ('donald', 0.027689030883919063),\n",
      "   ('medium', 0.021299254526091587),\n",
      "   ('mexican', 0.02023429179978701),\n",
      "   ('call', 0.019169329073482427),\n",
      "   ('hillary', 0.014909478168264111),\n",
      "   ('fire', 0.013844515441959531),\n",
      "   ('ppl', 0.010649627263045794),\n",
      "   ('immigrant', 0.010649627263045794),\n",
      "   ('dem', 0.010649627263045794)]),\n",
      " (2,\n",
      "  [('semst', 0.20600414078674947),\n",
      "   ('run', 0.031055900621118012),\n",
      "   ('american', 0.025879917184265012),\n",
      "   ('stop', 0.019668737060041408),\n",
      "   ('true', 0.018633540372670808),\n",
      "   ('move', 0.015527950310559006),\n",
      "   ('ericboll', 0.013457556935817806),\n",
      "   ('work', 0.013457556935817806),\n",
      "   ('hell', 0.013457556935817806),\n",
      "   ('law', 0.013457556935817806)]),\n",
      " (3,\n",
      "  [('semst', 0.16826411075612355),\n",
      "   ('realdonaldtrump', 0.154419595314164),\n",
      "   ('vote', 0.06283280085197018),\n",
      "   ('country', 0.042598509052183174),\n",
      "   ('great', 0.026624068157614485),\n",
      "   ('watch', 0.022364217252396165),\n",
      "   ('back', 0.02023429179978701),\n",
      "   ('stand', 0.01703940362087327),\n",
      "   ('mr', 0.01597444089456869),\n",
      "   ('talk', 0.014909478168264111)]),\n",
      " (4,\n",
      "  [('semst', 0.22869471413160733),\n",
      "   ('good', 0.036677454153182305),\n",
      "   ('care', 0.02696871628910464),\n",
      "   ('usa', 0.023732470334412083),\n",
      "   ('win', 0.020496224379719527),\n",
      "   ('give', 0.019417475728155338),\n",
      "   ('liberal', 0.017259978425026967),\n",
      "   ('today', 0.017259978425026967),\n",
      "   ('bad', 0.014023732470334413),\n",
      "   ('conservative', 0.014023732470334413)]),\n",
      " (5,\n",
      "  [('semst', 0.12403100775193798),\n",
      "   ('gop', 0.059800664451827246),\n",
      "   ('man', 0.035437430786267994),\n",
      "   ('candidate', 0.03433001107419712),\n",
      "   ('time', 0.031007751937984496),\n",
      "   ('racist', 0.018826135105204873),\n",
      "   ('big', 0.017718715393133997),\n",
      "   ('political', 0.015503875968992248),\n",
      "   ('plan', 0.015503875968992248),\n",
      "   ('flag', 0.014396456256921373)]),\n",
      " (6,\n",
      "  [('realdonaldtrump', 0.1545643153526971),\n",
      "   ('make', 0.06327800829875518),\n",
      "   ('people', 0.04564315352697095),\n",
      "   ('thing', 0.023858921161825725),\n",
      "   ('illegal', 0.01970954356846473),\n",
      "   ('speak', 0.01867219917012448),\n",
      "   ('mexico', 0.017634854771784232),\n",
      "   ('politician', 0.015560165975103735),\n",
      "   ('party', 0.014522821576763486),\n",
      "   ('univision', 0.014522821576763486)]),\n",
      " (7,\n",
      "  [('semst', 0.17057569296375266),\n",
      "   ('tcot', 0.0511727078891258),\n",
      "   ('obama', 0.029850746268656716),\n",
      "   ('stay', 0.019189765458422176),\n",
      "   ('change', 0.01812366737739872),\n",
      "   ('white_house', 0.01812366737739872),\n",
      "   ('god', 0.017057569296375266),\n",
      "   ('heart', 0.015991471215351813),\n",
      "   ('immigration', 0.014925373134328358),\n",
      "   ('ccot', 0.01279317697228145)])]\n"
     ]
    }
   ],
   "source": [
    "# Show Topics\n",
    "pprint(ldamallet.show_topics(formatted=False))"
   ]
  },
  {
   "cell_type": "markdown",
   "metadata": {},
   "source": [
    "### Topic Quality Inspection"
   ]
  },
  {
   "cell_type": "markdown",
   "metadata": {},
   "source": [
    "#### Model 2"
   ]
  },
  {
   "cell_type": "code",
   "execution_count": 35,
   "metadata": {},
   "outputs": [
    {
     "name": "stdout",
     "output_type": "stream",
     "text": [
      "\n",
      "Coherence Score:  0.5767772164143474\n"
     ]
    }
   ],
   "source": [
    "# Compute Coherence Score\n",
    "coherence_model_ldamallet = CoherenceModel(model=ldamallet, texts=data_lemmatized, dictionary=id2word, coherence='c_v')\n",
    "coherence_ldamallet = coherence_model_ldamallet.get_coherence()\n",
    "print('\\nCoherence Score: ', coherence_ldamallet)"
   ]
  },
  {
   "cell_type": "markdown",
   "metadata": {},
   "source": [
    "## Evaluation"
   ]
  },
  {
   "cell_type": "markdown",
   "metadata": {},
   "source": [
    "### Format Labelled Data"
   ]
  },
  {
   "cell_type": "code",
   "execution_count": 37,
   "metadata": {},
   "outputs": [
    {
     "data": {
      "text/plain": [
       "897"
      ]
     },
     "execution_count": 37,
     "metadata": {},
     "output_type": "execute_result"
    }
   ],
   "source": [
    "labelled_corpus = corpus\n",
    "len(labelled_corpus)"
   ]
  },
  {
   "cell_type": "markdown",
   "metadata": {},
   "source": [
    "### Create Dataset for Supervised Learning"
   ]
  },
  {
   "cell_type": "code",
   "execution_count": 38,
   "metadata": {},
   "outputs": [],
   "source": [
    "mallet_feats = []\n",
    "\n",
    "for i in range(len(labelled_corpus)):\n",
    "    representation = ldamallet.get_document_topics(labelled_corpus[i])\n",
    "    count = 0\n",
    "    feat = []\n",
    "    for i in range(num_topics):\n",
    "        if i in list(map((lambda x: x[0]), representation)):\n",
    "            feat.append(representation[count][1])\n",
    "            count = count + 1\n",
    "        else:\n",
    "            feat.append(0)\n",
    "    mallet_feats.append(feat)"
   ]
  },
  {
   "cell_type": "code",
   "execution_count": 39,
   "metadata": {},
   "outputs": [],
   "source": [
    "STANCES = ['AGAINST', 'FAVOR', 'NONE']"
   ]
  },
  {
   "cell_type": "code",
   "execution_count": 40,
   "metadata": {},
   "outputs": [],
   "source": [
    "def transform_labels(label):\n",
    "    if label == 'AGAINST':\n",
    "        return 0\n",
    "    elif label == 'FAVOR':\n",
    "        return 1\n",
    "    elif label == 'NONE':\n",
    "        return 2"
   ]
  },
  {
   "cell_type": "code",
   "execution_count": 41,
   "metadata": {},
   "outputs": [],
   "source": [
    "# labelled_stance = combined_data.Stance[53616:54323]\n",
    "labelled_stance = data_labelled['Stance']\n",
    "labelled_stance = labelled_stance.apply(transform_labels)\n",
    "labelled_stance = labelled_stance.tolist()"
   ]
  },
  {
   "cell_type": "code",
   "execution_count": 42,
   "metadata": {},
   "outputs": [
    {
     "data": {
      "text/plain": [
       "(8, 897)"
      ]
     },
     "execution_count": 42,
     "metadata": {},
     "output_type": "execute_result"
    }
   ],
   "source": [
    "len(mallet_feats[0]), len(mallet_feats)"
   ]
  },
  {
   "cell_type": "markdown",
   "metadata": {},
   "source": [
    "## Supervised Learning"
   ]
  },
  {
   "cell_type": "code",
   "execution_count": 43,
   "metadata": {},
   "outputs": [],
   "source": [
    "from sklearn import svm\n",
    "from sklearn import tree\n",
    "from sklearn.model_selection import train_test_split\n",
    "from sklearn.metrics import confusion_matrix\n",
    "from sklearn.ensemble import RandomForestClassifier\n",
    "from sklearn.model_selection import cross_val_score\n",
    "from sklearn.model_selection import ShuffleSplit\n",
    "from sklearn.naive_bayes import GaussianNB\n",
    "from sklearn.model_selection import GridSearchCV\n",
    "import argparse\n",
    "from sklearn.utils.multiclass import unique_labels"
   ]
  },
  {
   "cell_type": "code",
   "execution_count": 44,
   "metadata": {},
   "outputs": [],
   "source": [
    "## Create Train Test Split\n",
    "X_train = mallet_feats[:627]\n",
    "X_test = mallet_feats[627:]\n",
    "y_train = labelled_stance[:627]\n",
    "y_test = labelled_stance[627:]"
   ]
  },
  {
   "cell_type": "code",
   "execution_count": 45,
   "metadata": {},
   "outputs": [],
   "source": [
    "def plot_confusion_matrix(y_true, y_pred, classes,\n",
    "                          normalize=False,\n",
    "                          title=None,\n",
    "                          cmap=plt.cm.Blues):\n",
    "    \"\"\"\n",
    "    This function prints and plots the confusion matrix.\n",
    "    Normalization can be applied by setting `normalize=True`.\n",
    "    \"\"\"\n",
    "    if not title:\n",
    "        if normalize:\n",
    "            title = 'Normalized confusion matrix'\n",
    "        else:\n",
    "            title = 'Confusion matrix, without normalization'\n",
    "\n",
    "    # Compute confusion matrix\n",
    "    cm = confusion_matrix(y_true, y_pred)\n",
    "    # Only use the labels that appear in the data\n",
    "#     classes = classes[unique_labels(y_true, y_pred)]\n",
    "    if normalize:\n",
    "        cm = cm.astype('float') / cm.sum(axis=1)[:, np.newaxis]\n",
    "        print(\"Normalized confusion matrix\")\n",
    "    else:\n",
    "        print('Confusion matrix, without normalization')\n",
    "\n",
    "    print(cm)\n",
    "\n",
    "    fig, ax = plt.subplots()\n",
    "    im = ax.imshow(cm, interpolation='nearest', cmap=cmap)\n",
    "    ax.figure.colorbar(im, ax=ax)\n",
    "    # We want to show all ticks...\n",
    "    ax.set(xticks=np.arange(cm.shape[1]),\n",
    "           yticks=np.arange(cm.shape[0]),\n",
    "           # ... and label them with the respective list entries\n",
    "           xticklabels=classes, yticklabels=classes,\n",
    "           title=title,\n",
    "           ylabel='True label',\n",
    "           xlabel='Predicted label')\n",
    "\n",
    "    # Rotate the tick labels and set their alignment.\n",
    "    plt.setp(ax.get_xticklabels(), rotation=45, ha=\"right\",\n",
    "             rotation_mode=\"anchor\")\n",
    "\n",
    "    # Loop over data dimensions and create text annotations.\n",
    "    fmt = '.2f' if normalize else 'd'\n",
    "    thresh = cm.max() / 2.\n",
    "    for i in range(cm.shape[0]):\n",
    "        for j in range(cm.shape[1]):\n",
    "            ax.text(j, i, format(cm[i, j], fmt),\n",
    "                    ha=\"center\", va=\"center\",\n",
    "                    color=\"white\" if cm[i, j] > thresh else \"black\")\n",
    "    fig.tight_layout()\n",
    "    return ax"
   ]
  },
  {
   "cell_type": "code",
   "execution_count": 46,
   "metadata": {},
   "outputs": [],
   "source": [
    "def RandomForest(X_train, X_test, y_train, y_test):\n",
    "    \n",
    "    # GRID SEARCH\n",
    "    parameters = {'n_estimators':range(100,600,100), 'max_depth':range(1,20,5)}\n",
    "    rlf = RandomForestClassifier(random_state=0)\n",
    "    rlf = GridSearchCV(rlf, parameters, cv=5)\n",
    "    rlf.fit(X_train, y_train)\n",
    "    \n",
    "    y_pred = rlf.predict(X_test)\n",
    "\n",
    "    rf_cm = confusion_matrix(y_test, y_pred)\n",
    "    plot_confusion_matrix(y_test, y_pred, classes=STANCES,\n",
    "                      title='Confusion matrix, without normalization')\n",
    "\n",
    "    rf_cv = cross_val_score(rlf, X_train, y_train, cv=5, scoring='f1_macro')\n",
    "    report = {}\n",
    "    report[\"RF_cross_val_score\"] = rf_cv.tolist()\n",
    "    report[\"RF_mean_acc\"] = rf_cv.mean()\n",
    "    report[\"RF_std_acc\"] = rf_cv.std()*2\n",
    "    report[\"RF_params\"] = rlf.cv_results_\n",
    "    \n",
    "    report[\"RF_CM\"] = rf_cm.tolist()\n",
    "\n",
    "    \n",
    "    return report"
   ]
  },
  {
   "cell_type": "code",
   "execution_count": 47,
   "metadata": {},
   "outputs": [],
   "source": [
    "def SVMClassifier(X_train, X_test, y_train, y_test):\n",
    "\n",
    "    parameters = {'kernel':['linear','rbf','poly'], 'C':[0.001, 0.01, 0.1, 1, 10, 100, 1000]}\n",
    "    \n",
    "    clf = svm.SVC(gamma='auto')\n",
    "    clf = GridSearchCV(clf, parameters, cv=5)\n",
    "    clf.fit(X_train, y_train)\n",
    "    \n",
    "    clf_cv = cross_val_score(clf, X_train, y_train, cv=5, scoring='f1_macro')\n",
    "    report = {}\n",
    "    report[\"SVM_cross_val_score\"] = clf_cv.tolist()\n",
    "    report[\"SVM_mean_acc\"] = clf_cv.mean()\n",
    "    report[\"SVM_std_acc\"] = clf_cv.std()*2\n",
    "    report[\"SVM_params\"] = clf.cv_results_\n",
    "\n",
    "    \n",
    "    y_pred = clf.predict(X_test)\n",
    "\n",
    "    clf_cm = confusion_matrix(y_test, y_pred)\n",
    "    plot_confusion_matrix(y_test, y_pred, classes=STANCES,\n",
    "                      title='Confusion matrix, without normalization')\n",
    "\n",
    "    report[\"SVM_CM\"] = clf_cm.tolist()\n",
    "\n",
    "    \n",
    "    return report\n",
    "    "
   ]
  },
  {
   "cell_type": "code",
   "execution_count": 48,
   "metadata": {},
   "outputs": [
    {
     "name": "stdout",
     "output_type": "stream",
     "text": [
      "Confusion matrix, without normalization\n",
      "[[70  9  9]\n",
      " [ 8 77  7]\n",
      " [11  5 74]]\n",
      "{'RF_cross_val_score': [0.7734726971720134, 0.692493175251796, 0.7491078835518975, 0.7476497621075935, 0.6712962962962964], 'RF_mean_acc': 0.7268039628759193, 'RF_std_acc': 0.07677663280154609, 'RF_params': {'mean_fit_time': array([0.12294698, 0.22755122, 0.32817659, 0.43811522, 0.54915686,\n",
      "       0.136939  , 0.26830378, 0.40463138, 0.53876138, 0.67788424,\n",
      "       0.14768114, 0.296661  , 0.44385738, 0.59445982, 0.74188838,\n",
      "       0.15225611, 0.29720464, 0.4487617 , 0.59791508, 0.78116422]), 'std_fit_time': array([0.01299752, 0.01220333, 0.0063497 , 0.00327672, 0.0037245 ,\n",
      "       0.00337366, 0.00330474, 0.00465161, 0.006302  , 0.00406907,\n",
      "       0.00199562, 0.00415537, 0.00618894, 0.00813033, 0.01154636,\n",
      "       0.00281214, 0.00380051, 0.00727146, 0.00968724, 0.02557677]), 'mean_score_time': array([0.00702701, 0.01288075, 0.01925516, 0.02550864, 0.0311904 ,\n",
      "       0.00752439, 0.01394448, 0.02036572, 0.02718582, 0.03440385,\n",
      "       0.00762057, 0.015169  , 0.02328858, 0.03077683, 0.03700075,\n",
      "       0.00790677, 0.01552553, 0.02276368, 0.03054762, 0.03879881]), 'std_score_time': array([0.00054295, 0.00024885, 0.00104882, 0.00081038, 0.00085857,\n",
      "       0.00067121, 0.00066222, 0.00022552, 0.00037146, 0.00132852,\n",
      "       0.00014058, 0.00054587, 0.00075668, 0.00188951, 0.00191355,\n",
      "       0.00028049, 0.00070882, 0.00051906, 0.0015754 , 0.00213709]), 'param_max_depth': masked_array(data=[1, 1, 1, 1, 1, 6, 6, 6, 6, 6, 11, 11, 11, 11, 11, 16,\n",
      "                   16, 16, 16, 16],\n",
      "             mask=[False, False, False, False, False, False, False, False,\n",
      "                   False, False, False, False, False, False, False, False,\n",
      "                   False, False, False, False],\n",
      "       fill_value='?',\n",
      "            dtype=object), 'param_n_estimators': masked_array(data=[100, 200, 300, 400, 500, 100, 200, 300, 400, 500, 100,\n",
      "                   200, 300, 400, 500, 100, 200, 300, 400, 500],\n",
      "             mask=[False, False, False, False, False, False, False, False,\n",
      "                   False, False, False, False, False, False, False, False,\n",
      "                   False, False, False, False],\n",
      "       fill_value='?',\n",
      "            dtype=object), 'params': [{'max_depth': 1, 'n_estimators': 100}, {'max_depth': 1, 'n_estimators': 200}, {'max_depth': 1, 'n_estimators': 300}, {'max_depth': 1, 'n_estimators': 400}, {'max_depth': 1, 'n_estimators': 500}, {'max_depth': 6, 'n_estimators': 100}, {'max_depth': 6, 'n_estimators': 200}, {'max_depth': 6, 'n_estimators': 300}, {'max_depth': 6, 'n_estimators': 400}, {'max_depth': 6, 'n_estimators': 500}, {'max_depth': 11, 'n_estimators': 100}, {'max_depth': 11, 'n_estimators': 200}, {'max_depth': 11, 'n_estimators': 300}, {'max_depth': 11, 'n_estimators': 400}, {'max_depth': 11, 'n_estimators': 500}, {'max_depth': 16, 'n_estimators': 100}, {'max_depth': 16, 'n_estimators': 200}, {'max_depth': 16, 'n_estimators': 300}, {'max_depth': 16, 'n_estimators': 400}, {'max_depth': 16, 'n_estimators': 500}], 'split0_test_score': array([0.51968504, 0.51181102, 0.50393701, 0.51181102, 0.50393701,\n",
      "       0.72440945, 0.73228346, 0.70866142, 0.70866142, 0.73228346,\n",
      "       0.77952756, 0.77952756, 0.76377953, 0.76377953, 0.7480315 ,\n",
      "       0.78740157, 0.77952756, 0.77952756, 0.77165354, 0.7480315 ]), 'split1_test_score': array([0.53968254, 0.50793651, 0.53174603, 0.52380952, 0.54761905,\n",
      "       0.69047619, 0.65079365, 0.65079365, 0.6984127 , 0.6984127 ,\n",
      "       0.6984127 , 0.72222222, 0.6984127 , 0.6984127 , 0.6984127 ,\n",
      "       0.71428571, 0.69047619, 0.69047619, 0.70634921, 0.69047619]), 'split2_test_score': array([0.488, 0.424, 0.456, 0.456, 0.432, 0.672, 0.688, 0.704, 0.696,\n",
      "       0.704, 0.728, 0.744, 0.76 , 0.768, 0.752, 0.784, 0.76 , 0.752,\n",
      "       0.76 , 0.744]), 'split3_test_score': array([0.52 , 0.512, 0.504, 0.512, 0.504, 0.712, 0.68 , 0.688, 0.68 ,\n",
      "       0.68 , 0.744, 0.752, 0.752, 0.728, 0.736, 0.76 , 0.744, 0.744,\n",
      "       0.744, 0.736]), 'split4_test_score': array([0.53225806, 0.46774194, 0.48387097, 0.49193548, 0.49193548,\n",
      "       0.63709677, 0.62903226, 0.62903226, 0.65322581, 0.64516129,\n",
      "       0.71774194, 0.67741935, 0.66935484, 0.66935484, 0.66935484,\n",
      "       0.67741935, 0.68548387, 0.67741935, 0.67741935, 0.67741935]), 'mean_test_score': array([0.5199362 , 0.48484848, 0.49601276, 0.49920255, 0.49601276,\n",
      "       0.68740032, 0.67623604, 0.67623604, 0.68740032, 0.69218501,\n",
      "       0.73365231, 0.73524721, 0.72886762, 0.72567783, 0.72089314,\n",
      "       0.74481659, 0.73205742, 0.72886762, 0.73205742, 0.71929825]), 'std_test_score': array([0.01765589, 0.03460292, 0.02510719, 0.02385532, 0.0371595 ,\n",
      "       0.03078468, 0.03517726, 0.03106407, 0.01930193, 0.02877869,\n",
      "       0.02745198, 0.03411476, 0.03786316, 0.03780185, 0.03185045,\n",
      "       0.0424856 , 0.03764249, 0.03862424, 0.03499825, 0.02929631]), 'rank_test_score': array([16, 20, 18, 17, 18, 12, 14, 14, 12, 11,  3,  2,  6,  8,  9,  1,  4,\n",
      "        6,  4, 10], dtype=int32), 'split0_train_score': array([0.512, 0.526, 0.528, 0.536, 0.546, 0.876, 0.888, 0.896, 0.892,\n",
      "       0.894, 0.994, 0.994, 0.996, 0.996, 0.996, 1.   , 1.   , 1.   ,\n",
      "       1.   , 1.   ]), 'split1_train_score': array([0.59481038, 0.55888224, 0.57884232, 0.57085828, 0.58483034,\n",
      "       0.92215569, 0.90818363, 0.91217565, 0.91017964, 0.91816367,\n",
      "       1.        , 1.        , 1.        , 1.        , 1.        ,\n",
      "       1.        , 1.        , 1.        , 1.        , 1.        ]), 'split2_train_score': array([0.60756972, 0.57569721, 0.57569721, 0.57569721, 0.58167331,\n",
      "       0.89043825, 0.90239044, 0.91035857, 0.91035857, 0.90836653,\n",
      "       1.        , 1.        , 1.        , 1.        , 1.        ,\n",
      "       1.        , 1.        , 1.        , 1.        , 1.        ]), 'split3_train_score': array([0.57171315, 0.55378486, 0.56374502, 0.56772908, 0.56175299,\n",
      "       0.90438247, 0.89641434, 0.90438247, 0.89641434, 0.89442231,\n",
      "       1.        , 1.        , 1.        , 1.        , 1.        ,\n",
      "       1.        , 1.        , 1.        , 1.        , 1.        ]), 'split4_train_score': array([0.57256461, 0.56461233, 0.55666004, 0.54274354, 0.55666004,\n",
      "       0.90457256, 0.90258449, 0.90457256, 0.90656064, 0.90258449,\n",
      "       1.        , 1.        , 1.        , 1.        , 1.        ,\n",
      "       1.        , 1.        , 1.        , 1.        , 1.        ]), 'mean_train_score': array([0.57173157, 0.55579533, 0.56058892, 0.55860562, 0.56618333,\n",
      "       0.89950979, 0.89951458, 0.90549785, 0.90310264, 0.9035074 ,\n",
      "       0.9988    , 0.9988    , 0.9992    , 0.9992    , 0.9992    ,\n",
      "       1.        , 1.        , 1.        , 1.        , 1.        ]), 'std_train_score': array([0.03281938, 0.01658407, 0.01815974, 0.01605059, 0.01486834,\n",
      "       0.01547394, 0.0068563 , 0.0056662 , 0.0075192 , 0.00907963,\n",
      "       0.0024    , 0.0024    , 0.0016    , 0.0016    , 0.0016    ,\n",
      "       0.        , 0.        , 0.        , 0.        , 0.        ])}, 'RF_CM': [[70, 9, 9], [8, 77, 7], [11, 5, 74]]}\n"
     ]
    },
    {
     "data": {
      "image/png": "[encoded data removed]",
      "text/plain": [
       "<Figure size 432x288 with 2 Axes>"
      ]
     },
     "metadata": {},
     "output_type": "display_data"
    }
   ],
   "source": [
    "mallet_report = RandomForest(X_train, X_test, y_train, y_test)\n",
    "print(mallet_report)"
   ]
  },
  {
   "cell_type": "code",
   "execution_count": 49,
   "metadata": {},
   "outputs": [
    {
     "name": "stdout",
     "output_type": "stream",
     "text": [
      "Confusion matrix, without normalization\n",
      "[[29 31 28]\n",
      " [29 52 11]\n",
      " [28 22 40]]\n",
      "{'SVM_cross_val_score': [0.5010400682011935, 0.47423215898825655, 0.38567582604279854, 0.4779155285328178, 0.4504915245230883], 'SVM_mean_acc': 0.45787102125763096, 'SVM_std_acc': 0.07899184209992276, 'SVM_params': {'mean_fit_time': array([0.00701637, 0.01052995, 0.00675464, 0.00678873, 0.01054211,\n",
      "       0.00717821, 0.00649753, 0.00999646, 0.00653586, 0.00651717,\n",
      "       0.01014581, 0.00686002, 0.00649614, 0.01015482, 0.00717859,\n",
      "       0.00677595, 0.00982342, 0.00872002, 0.00961881, 0.01033044,\n",
      "       0.00705128]), 'std_fit_time': array([0.00092068, 0.00171878, 0.00018889, 0.00076075, 0.00124957,\n",
      "       0.00084061, 0.00058515, 0.0005832 , 0.00026809, 0.00040825,\n",
      "       0.00060133, 0.00014155, 0.00018468, 0.00036668, 0.00037172,\n",
      "       0.00030231, 0.00028509, 0.00089587, 0.00053023, 0.00025237,\n",
      "       0.00039601]), 'mean_score_time': array([0.00116096, 0.00191498, 0.00115318, 0.00135212, 0.001895  ,\n",
      "       0.00119944, 0.00110521, 0.00197053, 0.00113378, 0.00124278,\n",
      "       0.00182095, 0.0013958 , 0.00125761, 0.00189018, 0.00141058,\n",
      "       0.00110068, 0.0016602 , 0.00172424, 0.00111246, 0.00173726,\n",
      "       0.00131612]), 'std_score_time': array([8.59128506e-05, 3.11649181e-04, 3.92574562e-05, 3.45969771e-04,\n",
      "       2.80732441e-04, 6.20105412e-05, 1.04177581e-04, 4.82449524e-04,\n",
      "       4.21586075e-05, 1.38106036e-04, 1.27886143e-04, 2.02469942e-04,\n",
      "       3.61168702e-04, 1.75930748e-04, 1.54648340e-04, 6.99951797e-05,\n",
      "       9.46420981e-05, 6.27846346e-04, 5.85663969e-05, 1.05820963e-04,\n",
      "       1.88470175e-04]), 'param_C': masked_array(data=[0.001, 0.001, 0.001, 0.01, 0.01, 0.01, 0.1, 0.1, 0.1,\n",
      "                   1, 1, 1, 10, 10, 10, 100, 100, 100, 1000, 1000, 1000],\n",
      "             mask=[False, False, False, False, False, False, False, False,\n",
      "                   False, False, False, False, False, False, False, False,\n",
      "                   False, False, False, False, False],\n",
      "       fill_value='?',\n",
      "            dtype=object), 'param_kernel': masked_array(data=['linear', 'rbf', 'poly', 'linear', 'rbf', 'poly',\n",
      "                   'linear', 'rbf', 'poly', 'linear', 'rbf', 'poly',\n",
      "                   'linear', 'rbf', 'poly', 'linear', 'rbf', 'poly',\n",
      "                   'linear', 'rbf', 'poly'],\n",
      "             mask=[False, False, False, False, False, False, False, False,\n",
      "                   False, False, False, False, False, False, False, False,\n",
      "                   False, False, False, False, False],\n",
      "       fill_value='?',\n",
      "            dtype=object), 'params': [{'C': 0.001, 'kernel': 'linear'}, {'C': 0.001, 'kernel': 'rbf'}, {'C': 0.001, 'kernel': 'poly'}, {'C': 0.01, 'kernel': 'linear'}, {'C': 0.01, 'kernel': 'rbf'}, {'C': 0.01, 'kernel': 'poly'}, {'C': 0.1, 'kernel': 'linear'}, {'C': 0.1, 'kernel': 'rbf'}, {'C': 0.1, 'kernel': 'poly'}, {'C': 1, 'kernel': 'linear'}, {'C': 1, 'kernel': 'rbf'}, {'C': 1, 'kernel': 'poly'}, {'C': 10, 'kernel': 'linear'}, {'C': 10, 'kernel': 'rbf'}, {'C': 10, 'kernel': 'poly'}, {'C': 100, 'kernel': 'linear'}, {'C': 100, 'kernel': 'rbf'}, {'C': 100, 'kernel': 'poly'}, {'C': 1000, 'kernel': 'linear'}, {'C': 1000, 'kernel': 'rbf'}, {'C': 1000, 'kernel': 'poly'}], 'split0_test_score': array([0.33858268, 0.33858268, 0.33858268, 0.33858268, 0.33858268,\n",
      "       0.33858268, 0.33858268, 0.33858268, 0.33858268, 0.33858268,\n",
      "       0.33858268, 0.33858268, 0.50393701, 0.33858268, 0.33858268,\n",
      "       0.51181102, 0.51181102, 0.33858268, 0.51968504, 0.51968504,\n",
      "       0.33858268]), 'split1_test_score': array([0.33333333, 0.33333333, 0.33333333, 0.33333333, 0.33333333,\n",
      "       0.33333333, 0.33333333, 0.33333333, 0.33333333, 0.33333333,\n",
      "       0.33333333, 0.33333333, 0.44444444, 0.34920635, 0.33333333,\n",
      "       0.47619048, 0.46825397, 0.33333333, 0.48412698, 0.49206349,\n",
      "       0.33333333]), 'split2_test_score': array([0.336, 0.336, 0.336, 0.336, 0.336, 0.336, 0.336, 0.336, 0.336,\n",
      "       0.336, 0.336, 0.336, 0.392, 0.344, 0.336, 0.4  , 0.416, 0.336,\n",
      "       0.408, 0.408, 0.336]), 'split3_test_score': array([0.336, 0.336, 0.336, 0.336, 0.336, 0.336, 0.336, 0.336, 0.336,\n",
      "       0.336, 0.336, 0.336, 0.512, 0.336, 0.336, 0.528, 0.504, 0.336,\n",
      "       0.544, 0.536, 0.336]), 'split4_test_score': array([0.33870968, 0.33870968, 0.33870968, 0.33870968, 0.33870968,\n",
      "       0.33870968, 0.33870968, 0.33870968, 0.33870968, 0.33870968,\n",
      "       0.33870968, 0.33870968, 0.5       , 0.33870968, 0.33870968,\n",
      "       0.46774194, 0.45967742, 0.33870968, 0.4516129 , 0.47580645,\n",
      "       0.33870968]), 'mean_test_score': array([0.33652313, 0.33652313, 0.33652313, 0.33652313, 0.33652313,\n",
      "       0.33652313, 0.33652313, 0.33652313, 0.33652313, 0.33652313,\n",
      "       0.33652313, 0.33652313, 0.47049442, 0.34130781, 0.33652313,\n",
      "       0.476874  , 0.47208931, 0.33652313, 0.48165869, 0.48644338,\n",
      "       0.33652313]), 'std_test_score': array([0.0019896 , 0.0019896 , 0.0019896 , 0.0019896 , 0.0019896 ,\n",
      "       0.0019896 , 0.0019896 , 0.0019896 , 0.0019896 , 0.0019896 ,\n",
      "       0.0019896 , 0.0019896 , 0.0459006 , 0.00473686, 0.0019896 ,\n",
      "       0.04430665, 0.03439791, 0.0019896 , 0.04826092, 0.04437226,\n",
      "       0.0019896 ]), 'rank_test_score': array([7, 7, 7, 7, 7, 7, 7, 7, 7, 7, 7, 7, 5, 6, 7, 3, 4, 7, 2, 1, 7],\n",
      "      dtype=int32), 'split0_train_score': array([0.336, 0.336, 0.336, 0.336, 0.336, 0.336, 0.336, 0.336, 0.336,\n",
      "       0.336, 0.336, 0.336, 0.468, 0.336, 0.336, 0.5  , 0.47 , 0.336,\n",
      "       0.514, 0.502, 0.336]), 'split1_train_score': array([0.33732535, 0.33732535, 0.33732535, 0.33732535, 0.33732535,\n",
      "       0.33732535, 0.33732535, 0.33732535, 0.33732535, 0.33732535,\n",
      "       0.33732535, 0.33732535, 0.47704591, 0.35129741, 0.33732535,\n",
      "       0.48103792, 0.48303393, 0.33732535, 0.49301397, 0.48103792,\n",
      "       0.33732535]), 'split2_train_score': array([0.33665339, 0.33665339, 0.33665339, 0.33665339, 0.33665339,\n",
      "       0.33665339, 0.33665339, 0.33665339, 0.33665339, 0.33665339,\n",
      "       0.33665339, 0.33665339, 0.5059761 , 0.35657371, 0.33665339,\n",
      "       0.50398406, 0.50398406, 0.33665339, 0.5059761 , 0.51394422,\n",
      "       0.33665339]), 'split3_train_score': array([0.33665339, 0.33665339, 0.33665339, 0.33665339, 0.33665339,\n",
      "       0.33665339, 0.33665339, 0.33665339, 0.33665339, 0.33665339,\n",
      "       0.33665339, 0.33665339, 0.47011952, 0.33665339, 0.33665339,\n",
      "       0.46812749, 0.4561753 , 0.33665339, 0.46414343, 0.46215139,\n",
      "       0.33665339]), 'split4_train_score': array([0.3359841 , 0.3359841 , 0.3359841 , 0.3359841 , 0.3359841 ,\n",
      "       0.3359841 , 0.3359841 , 0.3359841 , 0.3359841 , 0.3359841 ,\n",
      "       0.3359841 , 0.3359841 , 0.46918489, 0.34194831, 0.3359841 ,\n",
      "       0.50298211, 0.47514911, 0.3359841 , 0.50894632, 0.50497018,\n",
      "       0.3359841 ]), 'mean_train_score': array([0.33652324, 0.33652324, 0.33652324, 0.33652324, 0.33652324,\n",
      "       0.33652324, 0.33652324, 0.33652324, 0.33652324, 0.33652324,\n",
      "       0.33652324, 0.33652324, 0.47806528, 0.34449456, 0.33652324,\n",
      "       0.49122632, 0.47766848, 0.33652324, 0.49721596, 0.49282074,\n",
      "       0.33652324]), 'std_train_score': array([0.00049834, 0.00049834, 0.00049834, 0.00049834, 0.00049834,\n",
      "       0.00049834, 0.00049834, 0.00049834, 0.00049834, 0.00049834,\n",
      "       0.00049834, 0.00049834, 0.01430636, 0.00815242, 0.00049834,\n",
      "       0.01424988, 0.01580131, 0.00049834, 0.01793039, 0.0187484 ,\n",
      "       0.00049834])}, 'SVM_CM': [[29, 31, 28], [29, 52, 11], [28, 22, 40]]}\n"
     ]
    },
    {
     "data": {
      "image/png": "[encoded data removed]",
      "text/plain": [
       "<Figure size 432x288 with 2 Axes>"
      ]
     },
     "metadata": {},
     "output_type": "display_data"
    }
   ],
   "source": [
    "mallet_report = SVMClassifier(X_train, X_test, y_train, y_test)\n",
    "print(mallet_report)"
   ]
  },
  {
   "cell_type": "code",
   "execution_count": null,
   "metadata": {},
   "outputs": [],
   "source": []
  },
  {
   "cell_type": "code",
   "execution_count": null,
   "metadata": {},
   "outputs": [],
   "source": []
  }
 ],
 "metadata": {
  "kernelspec": {
   "display_name": "Python 3",
   "language": "python",
   "name": "python3"
  },
  "language_info": {
   "codemirror_mode": {
    "name": "ipython",
    "version": 3
   },
   "file_extension": ".py",
   "mimetype": "text/x-python",
   "name": "python",
   "nbconvert_exporter": "python",
   "pygments_lexer": "ipython3",
   "version": "3.6.5"
  }
 },
 "nbformat": 4,
 "nbformat_minor": 2
}
